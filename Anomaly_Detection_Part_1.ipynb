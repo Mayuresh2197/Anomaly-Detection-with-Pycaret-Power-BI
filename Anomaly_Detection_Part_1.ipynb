{
  "nbformat": 4,
  "nbformat_minor": 0,
  "metadata": {
    "colab": {
      "name": "Anomaly Detection - Part 1",
      "provenance": [],
      "collapsed_sections": [],
      "authorship_tag": "ABX9TyMeqNzaocU+Pwg3O1Pp7Xc3"
    },
    "kernelspec": {
      "name": "python3",
      "display_name": "Python 3"
    },
    "widgets": {
      "application/vnd.jupyter.widget-state+json": {
        "32ee73c26ff64e3fa64de7ceb135e127": {
          "model_module": "@jupyter-widgets/controls",
          "model_name": "IntProgressModel",
          "state": {
            "_view_name": "ProgressView",
            "style": "IPY_MODEL_0df87ec5f1bb440ca40ea34954a63818",
            "_dom_classes": [],
            "description": "Processing: ",
            "_model_name": "IntProgressModel",
            "bar_style": "",
            "max": 3,
            "_view_module": "@jupyter-widgets/controls",
            "_model_module_version": "1.5.0",
            "value": 3,
            "_view_count": null,
            "_view_module_version": "1.5.0",
            "orientation": "horizontal",
            "min": 0,
            "description_tooltip": null,
            "_model_module": "@jupyter-widgets/controls",
            "layout": "IPY_MODEL_476ab77bb0a142a6b3110521647ffad0"
          }
        },
        "0df87ec5f1bb440ca40ea34954a63818": {
          "model_module": "@jupyter-widgets/controls",
          "model_name": "ProgressStyleModel",
          "state": {
            "_view_name": "StyleView",
            "_model_name": "ProgressStyleModel",
            "description_width": "",
            "_view_module": "@jupyter-widgets/base",
            "_model_module_version": "1.5.0",
            "_view_count": null,
            "_view_module_version": "1.2.0",
            "bar_color": null,
            "_model_module": "@jupyter-widgets/controls"
          }
        },
        "476ab77bb0a142a6b3110521647ffad0": {
          "model_module": "@jupyter-widgets/base",
          "model_name": "LayoutModel",
          "state": {
            "_view_name": "LayoutView",
            "grid_template_rows": null,
            "right": null,
            "justify_content": null,
            "_view_module": "@jupyter-widgets/base",
            "overflow": null,
            "_model_module_version": "1.2.0",
            "_view_count": null,
            "flex_flow": null,
            "width": null,
            "min_width": null,
            "border": null,
            "align_items": null,
            "bottom": null,
            "_model_module": "@jupyter-widgets/base",
            "top": null,
            "grid_column": null,
            "overflow_y": null,
            "overflow_x": null,
            "grid_auto_flow": null,
            "grid_area": null,
            "grid_template_columns": null,
            "flex": null,
            "_model_name": "LayoutModel",
            "justify_items": null,
            "grid_row": null,
            "max_height": null,
            "align_content": null,
            "visibility": null,
            "align_self": null,
            "height": null,
            "min_height": null,
            "padding": null,
            "grid_auto_rows": null,
            "grid_gap": null,
            "max_width": null,
            "order": null,
            "_view_module_version": "1.2.0",
            "grid_template_areas": null,
            "object_position": null,
            "object_fit": null,
            "grid_auto_columns": null,
            "margin": null,
            "display": null,
            "left": null
          }
        },
        "437c6a65ead14e1b809f37404dcd5a72": {
          "model_module": "@jupyter-widgets/controls",
          "model_name": "TextModel",
          "state": {
            "_view_name": "TextView",
            "style": "IPY_MODEL_fae16e6041f74d769d3860706e984f8a",
            "_dom_classes": [],
            "description": "",
            "_model_name": "TextModel",
            "placeholder": "​",
            "_view_module": "@jupyter-widgets/controls",
            "_model_module_version": "1.5.0",
            "value": "Following data types have been inferred automatically, if they are correct press enter to continue or type 'quit' otherwise.",
            "_view_count": null,
            "disabled": false,
            "_view_module_version": "1.5.0",
            "continuous_update": true,
            "description_tooltip": null,
            "_model_module": "@jupyter-widgets/controls",
            "layout": "IPY_MODEL_d22ce2bd843041a791024d6835c25b87"
          }
        },
        "fae16e6041f74d769d3860706e984f8a": {
          "model_module": "@jupyter-widgets/controls",
          "model_name": "DescriptionStyleModel",
          "state": {
            "_view_name": "StyleView",
            "_model_name": "DescriptionStyleModel",
            "description_width": "",
            "_view_module": "@jupyter-widgets/base",
            "_model_module_version": "1.5.0",
            "_view_count": null,
            "_view_module_version": "1.2.0",
            "_model_module": "@jupyter-widgets/controls"
          }
        },
        "d22ce2bd843041a791024d6835c25b87": {
          "model_module": "@jupyter-widgets/base",
          "model_name": "LayoutModel",
          "state": {
            "_view_name": "LayoutView",
            "grid_template_rows": null,
            "right": null,
            "justify_content": null,
            "_view_module": "@jupyter-widgets/base",
            "overflow": null,
            "_model_module_version": "1.2.0",
            "_view_count": null,
            "flex_flow": null,
            "width": "100%",
            "min_width": null,
            "border": null,
            "align_items": null,
            "bottom": null,
            "_model_module": "@jupyter-widgets/base",
            "top": null,
            "grid_column": null,
            "overflow_y": null,
            "overflow_x": null,
            "grid_auto_flow": null,
            "grid_area": null,
            "grid_template_columns": null,
            "flex": null,
            "_model_name": "LayoutModel",
            "justify_items": null,
            "grid_row": null,
            "max_height": null,
            "align_content": null,
            "visibility": null,
            "align_self": null,
            "height": null,
            "min_height": null,
            "padding": null,
            "grid_auto_rows": null,
            "grid_gap": null,
            "max_width": null,
            "order": null,
            "_view_module_version": "1.2.0",
            "grid_template_areas": null,
            "object_position": null,
            "object_fit": null,
            "grid_auto_columns": null,
            "margin": null,
            "display": null,
            "left": null
          }
        },
        "0b639d96752f43089a184b93f3940c9d": {
          "model_module": "@jupyter-widgets/controls",
          "model_name": "IntProgressModel",
          "state": {
            "_view_name": "ProgressView",
            "style": "IPY_MODEL_cbf1c875d12d42f4a9f96b5c69acc278",
            "_dom_classes": [],
            "description": "Processing: ",
            "_model_name": "IntProgressModel",
            "bar_style": "",
            "max": 5,
            "_view_module": "@jupyter-widgets/controls",
            "_model_module_version": "1.5.0",
            "value": 3,
            "_view_count": null,
            "_view_module_version": "1.5.0",
            "orientation": "horizontal",
            "min": 0,
            "description_tooltip": null,
            "_model_module": "@jupyter-widgets/controls",
            "layout": "IPY_MODEL_f67b305c08624f1888017c76d9cfd3e4"
          }
        },
        "cbf1c875d12d42f4a9f96b5c69acc278": {
          "model_module": "@jupyter-widgets/controls",
          "model_name": "ProgressStyleModel",
          "state": {
            "_view_name": "StyleView",
            "_model_name": "ProgressStyleModel",
            "description_width": "",
            "_view_module": "@jupyter-widgets/base",
            "_model_module_version": "1.5.0",
            "_view_count": null,
            "_view_module_version": "1.2.0",
            "bar_color": null,
            "_model_module": "@jupyter-widgets/controls"
          }
        },
        "f67b305c08624f1888017c76d9cfd3e4": {
          "model_module": "@jupyter-widgets/base",
          "model_name": "LayoutModel",
          "state": {
            "_view_name": "LayoutView",
            "grid_template_rows": null,
            "right": null,
            "justify_content": null,
            "_view_module": "@jupyter-widgets/base",
            "overflow": null,
            "_model_module_version": "1.2.0",
            "_view_count": null,
            "flex_flow": null,
            "width": null,
            "min_width": null,
            "border": null,
            "align_items": null,
            "bottom": null,
            "_model_module": "@jupyter-widgets/base",
            "top": null,
            "grid_column": null,
            "overflow_y": null,
            "overflow_x": null,
            "grid_auto_flow": null,
            "grid_area": null,
            "grid_template_columns": null,
            "flex": null,
            "_model_name": "LayoutModel",
            "justify_items": null,
            "grid_row": null,
            "max_height": null,
            "align_content": null,
            "visibility": null,
            "align_self": null,
            "height": null,
            "min_height": null,
            "padding": null,
            "grid_auto_rows": null,
            "grid_gap": null,
            "max_width": null,
            "order": null,
            "_view_module_version": "1.2.0",
            "grid_template_areas": null,
            "object_position": null,
            "object_fit": null,
            "grid_auto_columns": null,
            "margin": null,
            "display": null,
            "left": null
          }
        },
        "5d2a651cd4434226ad6a23dae06cf524": {
          "model_module": "@jupyter-widgets/controls",
          "model_name": "IntProgressModel",
          "state": {
            "_view_name": "ProgressView",
            "style": "IPY_MODEL_ad2a9f0072a34d339745226cbf75865a",
            "_dom_classes": [],
            "description": "Processing: ",
            "_model_name": "IntProgressModel",
            "bar_style": "",
            "max": 5,
            "_view_module": "@jupyter-widgets/controls",
            "_model_module_version": "1.5.0",
            "value": 3,
            "_view_count": null,
            "_view_module_version": "1.5.0",
            "orientation": "horizontal",
            "min": 0,
            "description_tooltip": null,
            "_model_module": "@jupyter-widgets/controls",
            "layout": "IPY_MODEL_cc52a9d8734a4c318f6306afce8bd055"
          }
        },
        "ad2a9f0072a34d339745226cbf75865a": {
          "model_module": "@jupyter-widgets/controls",
          "model_name": "ProgressStyleModel",
          "state": {
            "_view_name": "StyleView",
            "_model_name": "ProgressStyleModel",
            "description_width": "",
            "_view_module": "@jupyter-widgets/base",
            "_model_module_version": "1.5.0",
            "_view_count": null,
            "_view_module_version": "1.2.0",
            "bar_color": null,
            "_model_module": "@jupyter-widgets/controls"
          }
        },
        "cc52a9d8734a4c318f6306afce8bd055": {
          "model_module": "@jupyter-widgets/base",
          "model_name": "LayoutModel",
          "state": {
            "_view_name": "LayoutView",
            "grid_template_rows": null,
            "right": null,
            "justify_content": null,
            "_view_module": "@jupyter-widgets/base",
            "overflow": null,
            "_model_module_version": "1.2.0",
            "_view_count": null,
            "flex_flow": null,
            "width": null,
            "min_width": null,
            "border": null,
            "align_items": null,
            "bottom": null,
            "_model_module": "@jupyter-widgets/base",
            "top": null,
            "grid_column": null,
            "overflow_y": null,
            "overflow_x": null,
            "grid_auto_flow": null,
            "grid_area": null,
            "grid_template_columns": null,
            "flex": null,
            "_model_name": "LayoutModel",
            "justify_items": null,
            "grid_row": null,
            "max_height": null,
            "align_content": null,
            "visibility": null,
            "align_self": null,
            "height": null,
            "min_height": null,
            "padding": null,
            "grid_auto_rows": null,
            "grid_gap": null,
            "max_width": null,
            "order": null,
            "_view_module_version": "1.2.0",
            "grid_template_areas": null,
            "object_position": null,
            "object_fit": null,
            "grid_auto_columns": null,
            "margin": null,
            "display": null,
            "left": null
          }
        },
        "8d8e89b90dc848ad8f2ee207ea008312": {
          "model_module": "@jupyter-widgets/controls",
          "model_name": "IntProgressModel",
          "state": {
            "_view_name": "ProgressView",
            "style": "IPY_MODEL_48cdc51c5e4b444eb58ee55882b6bda8",
            "_dom_classes": [],
            "description": "Processing: ",
            "_model_name": "IntProgressModel",
            "bar_style": "",
            "max": 3,
            "_view_module": "@jupyter-widgets/controls",
            "_model_module_version": "1.5.0",
            "value": 3,
            "_view_count": null,
            "_view_module_version": "1.5.0",
            "orientation": "horizontal",
            "min": 0,
            "description_tooltip": null,
            "_model_module": "@jupyter-widgets/controls",
            "layout": "IPY_MODEL_bec73fada6864b16865d2b9f3bc8a2e5"
          }
        },
        "48cdc51c5e4b444eb58ee55882b6bda8": {
          "model_module": "@jupyter-widgets/controls",
          "model_name": "ProgressStyleModel",
          "state": {
            "_view_name": "StyleView",
            "_model_name": "ProgressStyleModel",
            "description_width": "",
            "_view_module": "@jupyter-widgets/base",
            "_model_module_version": "1.5.0",
            "_view_count": null,
            "_view_module_version": "1.2.0",
            "bar_color": null,
            "_model_module": "@jupyter-widgets/controls"
          }
        },
        "bec73fada6864b16865d2b9f3bc8a2e5": {
          "model_module": "@jupyter-widgets/base",
          "model_name": "LayoutModel",
          "state": {
            "_view_name": "LayoutView",
            "grid_template_rows": null,
            "right": null,
            "justify_content": null,
            "_view_module": "@jupyter-widgets/base",
            "overflow": null,
            "_model_module_version": "1.2.0",
            "_view_count": null,
            "flex_flow": null,
            "width": null,
            "min_width": null,
            "border": null,
            "align_items": null,
            "bottom": null,
            "_model_module": "@jupyter-widgets/base",
            "top": null,
            "grid_column": null,
            "overflow_y": null,
            "overflow_x": null,
            "grid_auto_flow": null,
            "grid_area": null,
            "grid_template_columns": null,
            "flex": null,
            "_model_name": "LayoutModel",
            "justify_items": null,
            "grid_row": null,
            "max_height": null,
            "align_content": null,
            "visibility": null,
            "align_self": null,
            "height": null,
            "min_height": null,
            "padding": null,
            "grid_auto_rows": null,
            "grid_gap": null,
            "max_width": null,
            "order": null,
            "_view_module_version": "1.2.0",
            "grid_template_areas": null,
            "object_position": null,
            "object_fit": null,
            "grid_auto_columns": null,
            "margin": null,
            "display": null,
            "left": null
          }
        }
      }
    }
  },
  "cells": [
    {
      "cell_type": "markdown",
      "metadata": {
        "id": "p1dGrT6TAj3L"
      },
      "source": [
        "**Checking if System has Pycaret installed, if not it will be installed using Pip**"
      ]
    },
    {
      "cell_type": "code",
      "metadata": {
        "id": "Myy5KPrqULoA"
      },
      "source": [
        "import sys"
      ],
      "execution_count": null,
      "outputs": []
    },
    {
      "cell_type": "code",
      "metadata": {
        "colab": {
          "base_uri": "https://localhost:8080/",
          "height": 1000
        },
        "id": "2WOmwjZMSaAT",
        "outputId": "87610ffa-e6cc-4170-e741-cd4f984ec23a"
      },
      "source": [
        "!{sys.executable} -m pip install pycaret \r\n",
        "from pycaret.utils import version\r\n",
        "version()"
      ],
      "execution_count": null,
      "outputs": [
        {
          "output_type": "stream",
          "text": [
            "Requirement already satisfied: pycaret in /usr/local/lib/python3.7/dist-packages (2.3.0)\n",
            "Requirement already satisfied: kmodes>=0.10.1 in /usr/local/lib/python3.7/dist-packages (from pycaret) (0.11.0)\n",
            "Requirement already satisfied: umap-learn in /usr/local/lib/python3.7/dist-packages (from pycaret) (0.5.1)\n",
            "Requirement already satisfied: nltk in /usr/local/lib/python3.7/dist-packages (from pycaret) (3.2.5)\n",
            "Requirement already satisfied: yellowbrick>=1.0.1 in /usr/local/lib/python3.7/dist-packages (from pycaret) (1.3.post1)\n",
            "Requirement already satisfied: ipywidgets in /usr/local/lib/python3.7/dist-packages (from pycaret) (7.6.3)\n",
            "Requirement already satisfied: pandas in /usr/local/lib/python3.7/dist-packages (from pycaret) (1.1.5)\n",
            "Requirement already satisfied: scikit-plot in /usr/local/lib/python3.7/dist-packages (from pycaret) (0.3.7)\n",
            "Requirement already satisfied: cufflinks>=0.17.0 in /usr/local/lib/python3.7/dist-packages (from pycaret) (0.17.3)\n",
            "Requirement already satisfied: seaborn in /usr/local/lib/python3.7/dist-packages (from pycaret) (0.11.1)\n",
            "Requirement already satisfied: plotly>=4.4.1 in /usr/local/lib/python3.7/dist-packages (from pycaret) (4.4.1)\n",
            "Requirement already satisfied: matplotlib in /usr/local/lib/python3.7/dist-packages (from pycaret) (3.2.2)\n",
            "Requirement already satisfied: pyod in /usr/local/lib/python3.7/dist-packages (from pycaret) (0.8.7)\n",
            "Requirement already satisfied: joblib in /usr/local/lib/python3.7/dist-packages (from pycaret) (1.0.1)\n",
            "Requirement already satisfied: imbalanced-learn>=0.7.0 in /usr/local/lib/python3.7/dist-packages (from pycaret) (0.8.0)\n",
            "Requirement already satisfied: lightgbm>=2.3.1 in /usr/local/lib/python3.7/dist-packages (from pycaret) (3.1.1)\n",
            "Requirement already satisfied: scikit-learn==0.23.2 in /usr/local/lib/python3.7/dist-packages (from pycaret) (0.23.2)\n",
            "Requirement already satisfied: mlflow in /usr/local/lib/python3.7/dist-packages (from pycaret) (1.14.0)\n",
            "Requirement already satisfied: Boruta in /usr/local/lib/python3.7/dist-packages (from pycaret) (0.3)\n",
            "Requirement already satisfied: mlxtend in /usr/local/lib/python3.7/dist-packages (from pycaret) (0.14.0)\n",
            "Requirement already satisfied: numpy==1.19.5 in /usr/local/lib/python3.7/dist-packages (from pycaret) (1.19.5)\n",
            "Requirement already satisfied: spacy<2.4.0 in /usr/local/lib/python3.7/dist-packages (from pycaret) (2.2.4)\n",
            "Requirement already satisfied: gensim in /usr/local/lib/python3.7/dist-packages (from pycaret) (3.6.0)\n",
            "Requirement already satisfied: pyLDAvis in /usr/local/lib/python3.7/dist-packages (from pycaret) (3.2.2)\n",
            "Requirement already satisfied: scipy<=1.5.4 in /usr/local/lib/python3.7/dist-packages (from pycaret) (1.4.1)\n",
            "Requirement already satisfied: textblob in /usr/local/lib/python3.7/dist-packages (from pycaret) (0.15.3)\n",
            "Requirement already satisfied: pandas-profiling>=2.8.0 in /usr/local/lib/python3.7/dist-packages (from pycaret) (2.11.0)\n",
            "Requirement already satisfied: IPython in /usr/local/lib/python3.7/dist-packages (from pycaret) (5.5.0)\n",
            "Requirement already satisfied: wordcloud in /usr/local/lib/python3.7/dist-packages (from pycaret) (1.5.0)\n",
            "Requirement already satisfied: pynndescent>=0.5 in /usr/local/lib/python3.7/dist-packages (from umap-learn->pycaret) (0.5.2)\n",
            "Requirement already satisfied: numba>=0.49 in /usr/local/lib/python3.7/dist-packages (from umap-learn->pycaret) (0.51.2)\n",
            "Requirement already satisfied: six in /usr/local/lib/python3.7/dist-packages (from nltk->pycaret) (1.15.0)\n",
            "Requirement already satisfied: cycler>=0.10.0 in /usr/local/lib/python3.7/dist-packages (from yellowbrick>=1.0.1->pycaret) (0.10.0)\n",
            "Requirement already satisfied: widgetsnbextension~=3.5.0 in /usr/local/lib/python3.7/dist-packages (from ipywidgets->pycaret) (3.5.1)\n",
            "Requirement already satisfied: ipykernel>=4.5.1 in /usr/local/lib/python3.7/dist-packages (from ipywidgets->pycaret) (4.10.1)\n",
            "Requirement already satisfied: nbformat>=4.2.0 in /usr/local/lib/python3.7/dist-packages (from ipywidgets->pycaret) (5.1.2)\n",
            "Requirement already satisfied: traitlets>=4.3.1 in /usr/local/lib/python3.7/dist-packages (from ipywidgets->pycaret) (4.3.3)\n",
            "Requirement already satisfied: jupyterlab-widgets>=1.0.0; python_version >= \"3.6\" in /usr/local/lib/python3.7/dist-packages (from ipywidgets->pycaret) (1.0.0)\n",
            "Requirement already satisfied: pytz>=2017.2 in /usr/local/lib/python3.7/dist-packages (from pandas->pycaret) (2018.9)\n",
            "Requirement already satisfied: python-dateutil>=2.7.3 in /usr/local/lib/python3.7/dist-packages (from pandas->pycaret) (2.8.1)\n",
            "Requirement already satisfied: setuptools>=34.4.1 in /usr/local/lib/python3.7/dist-packages (from cufflinks>=0.17.0->pycaret) (53.0.0)\n",
            "Requirement already satisfied: colorlover>=0.2.1 in /usr/local/lib/python3.7/dist-packages (from cufflinks>=0.17.0->pycaret) (0.3.0)\n",
            "Requirement already satisfied: retrying>=1.3.3 in /usr/local/lib/python3.7/dist-packages (from plotly>=4.4.1->pycaret) (1.3.3)\n",
            "Requirement already satisfied: kiwisolver>=1.0.1 in /usr/local/lib/python3.7/dist-packages (from matplotlib->pycaret) (1.3.1)\n",
            "Requirement already satisfied: pyparsing!=2.0.4,!=2.1.2,!=2.1.6,>=2.0.1 in /usr/local/lib/python3.7/dist-packages (from matplotlib->pycaret) (2.4.7)\n",
            "Requirement already satisfied: statsmodels in /usr/local/lib/python3.7/dist-packages (from pyod->pycaret) (0.10.2)\n",
            "Requirement already satisfied: wheel in /usr/local/lib/python3.7/dist-packages (from lightgbm>=2.3.1->pycaret) (0.36.2)\n",
            "Requirement already satisfied: threadpoolctl>=2.0.0 in /usr/local/lib/python3.7/dist-packages (from scikit-learn==0.23.2->pycaret) (2.1.0)\n",
            "Requirement already satisfied: sqlalchemy in /usr/local/lib/python3.7/dist-packages (from mlflow->pycaret) (1.3.23)\n",
            "Requirement already satisfied: entrypoints in /usr/local/lib/python3.7/dist-packages (from mlflow->pycaret) (0.3)\n",
            "Requirement already satisfied: gunicorn; platform_system != \"Windows\" in /usr/local/lib/python3.7/dist-packages (from mlflow->pycaret) (20.0.4)\n",
            "Requirement already satisfied: alembic<=1.4.1 in /usr/local/lib/python3.7/dist-packages (from mlflow->pycaret) (1.4.1)\n",
            "Requirement already satisfied: click>=7.0 in /usr/local/lib/python3.7/dist-packages (from mlflow->pycaret) (7.1.2)\n",
            "Requirement already satisfied: pyyaml in /usr/local/lib/python3.7/dist-packages (from mlflow->pycaret) (3.13)\n",
            "Requirement already satisfied: querystring-parser in /usr/local/lib/python3.7/dist-packages (from mlflow->pycaret) (1.2.4)\n",
            "Requirement already satisfied: databricks-cli>=0.8.7 in /usr/local/lib/python3.7/dist-packages (from mlflow->pycaret) (0.14.1)\n",
            "Requirement already satisfied: prometheus-flask-exporter in /usr/local/lib/python3.7/dist-packages (from mlflow->pycaret) (0.18.1)\n",
            "Requirement already satisfied: gitpython>=2.1.0 in /usr/local/lib/python3.7/dist-packages (from mlflow->pycaret) (3.1.13)\n",
            "Requirement already satisfied: docker>=4.0.0 in /usr/local/lib/python3.7/dist-packages (from mlflow->pycaret) (4.4.4)\n",
            "Requirement already satisfied: Flask in /usr/local/lib/python3.7/dist-packages (from mlflow->pycaret) (1.1.2)\n",
            "Requirement already satisfied: cloudpickle in /usr/local/lib/python3.7/dist-packages (from mlflow->pycaret) (1.3.0)\n",
            "Requirement already satisfied: sqlparse>=0.3.1 in /usr/local/lib/python3.7/dist-packages (from mlflow->pycaret) (0.4.1)\n",
            "Requirement already satisfied: protobuf>=3.6.0 in /usr/local/lib/python3.7/dist-packages (from mlflow->pycaret) (3.12.4)\n",
            "Requirement already satisfied: requests>=2.17.3 in /usr/local/lib/python3.7/dist-packages (from mlflow->pycaret) (2.23.0)\n",
            "Requirement already satisfied: thinc==7.4.0 in /usr/local/lib/python3.7/dist-packages (from spacy<2.4.0->pycaret) (7.4.0)\n",
            "Requirement already satisfied: plac<1.2.0,>=0.9.6 in /usr/local/lib/python3.7/dist-packages (from spacy<2.4.0->pycaret) (1.1.3)\n",
            "Requirement already satisfied: preshed<3.1.0,>=3.0.2 in /usr/local/lib/python3.7/dist-packages (from spacy<2.4.0->pycaret) (3.0.5)\n",
            "Requirement already satisfied: cymem<2.1.0,>=2.0.2 in /usr/local/lib/python3.7/dist-packages (from spacy<2.4.0->pycaret) (2.0.5)\n",
            "Requirement already satisfied: srsly<1.1.0,>=1.0.2 in /usr/local/lib/python3.7/dist-packages (from spacy<2.4.0->pycaret) (1.0.5)\n",
            "Requirement already satisfied: catalogue<1.1.0,>=0.0.7 in /usr/local/lib/python3.7/dist-packages (from spacy<2.4.0->pycaret) (1.0.0)\n",
            "Requirement already satisfied: tqdm<5.0.0,>=4.38.0 in /usr/local/lib/python3.7/dist-packages (from spacy<2.4.0->pycaret) (4.41.1)\n",
            "Requirement already satisfied: wasabi<1.1.0,>=0.4.0 in /usr/local/lib/python3.7/dist-packages (from spacy<2.4.0->pycaret) (0.8.2)\n",
            "Requirement already satisfied: murmurhash<1.1.0,>=0.28.0 in /usr/local/lib/python3.7/dist-packages (from spacy<2.4.0->pycaret) (1.0.5)\n",
            "Requirement already satisfied: blis<0.5.0,>=0.4.0 in /usr/local/lib/python3.7/dist-packages (from spacy<2.4.0->pycaret) (0.4.1)\n",
            "Requirement already satisfied: smart-open>=1.2.1 in /usr/local/lib/python3.7/dist-packages (from gensim->pycaret) (4.2.0)\n",
            "Requirement already satisfied: funcy in /usr/local/lib/python3.7/dist-packages (from pyLDAvis->pycaret) (1.15)\n",
            "Requirement already satisfied: numexpr in /usr/local/lib/python3.7/dist-packages (from pyLDAvis->pycaret) (2.7.2)\n",
            "Requirement already satisfied: future in /usr/local/lib/python3.7/dist-packages (from pyLDAvis->pycaret) (0.16.0)\n",
            "Requirement already satisfied: jinja2>=2.7.2 in /usr/local/lib/python3.7/dist-packages (from pyLDAvis->pycaret) (2.11.3)\n",
            "Requirement already satisfied: confuse>=1.0.0 in /usr/local/lib/python3.7/dist-packages (from pandas-profiling>=2.8.0->pycaret) (1.4.0)\n",
            "Requirement already satisfied: tangled-up-in-unicode>=0.0.6 in /usr/local/lib/python3.7/dist-packages (from pandas-profiling>=2.8.0->pycaret) (0.0.6)\n",
            "Requirement already satisfied: htmlmin>=0.1.12 in /usr/local/lib/python3.7/dist-packages (from pandas-profiling>=2.8.0->pycaret) (0.1.12)\n",
            "Requirement already satisfied: phik>=0.10.0 in /usr/local/lib/python3.7/dist-packages (from pandas-profiling>=2.8.0->pycaret) (0.11.0)\n",
            "Requirement already satisfied: missingno>=0.4.2 in /usr/local/lib/python3.7/dist-packages (from pandas-profiling>=2.8.0->pycaret) (0.4.2)\n",
            "Requirement already satisfied: attrs>=19.3.0 in /usr/local/lib/python3.7/dist-packages (from pandas-profiling>=2.8.0->pycaret) (20.3.0)\n",
            "Requirement already satisfied: visions[type_image_path]==0.6.0 in /usr/local/lib/python3.7/dist-packages (from pandas-profiling>=2.8.0->pycaret) (0.6.0)\n",
            "Requirement already satisfied: decorator in /usr/local/lib/python3.7/dist-packages (from IPython->pycaret) (4.4.2)\n",
            "Requirement already satisfied: pexpect; sys_platform != \"win32\" in /usr/local/lib/python3.7/dist-packages (from IPython->pycaret) (4.8.0)\n",
            "Requirement already satisfied: pickleshare in /usr/local/lib/python3.7/dist-packages (from IPython->pycaret) (0.7.5)\n",
            "Requirement already satisfied: pygments in /usr/local/lib/python3.7/dist-packages (from IPython->pycaret) (2.6.1)\n",
            "Requirement already satisfied: prompt-toolkit<2.0.0,>=1.0.4 in /usr/local/lib/python3.7/dist-packages (from IPython->pycaret) (1.0.18)\n",
            "Requirement already satisfied: simplegeneric>0.8 in /usr/local/lib/python3.7/dist-packages (from IPython->pycaret) (0.8.1)\n",
            "Requirement already satisfied: pillow in /usr/local/lib/python3.7/dist-packages (from wordcloud->pycaret) (7.0.0)\n",
            "Requirement already satisfied: llvmlite>=0.30 in /usr/local/lib/python3.7/dist-packages (from pynndescent>=0.5->umap-learn->pycaret) (0.34.0)\n",
            "Requirement already satisfied: notebook>=4.4.1 in /usr/local/lib/python3.7/dist-packages (from widgetsnbextension~=3.5.0->ipywidgets->pycaret) (5.3.1)\n",
            "Requirement already satisfied: jupyter-client in /usr/local/lib/python3.7/dist-packages (from ipykernel>=4.5.1->ipywidgets->pycaret) (5.3.5)\n",
            "Requirement already satisfied: tornado>=4.0 in /usr/local/lib/python3.7/dist-packages (from ipykernel>=4.5.1->ipywidgets->pycaret) (5.1.1)\n",
            "Requirement already satisfied: jupyter-core in /usr/local/lib/python3.7/dist-packages (from nbformat>=4.2.0->ipywidgets->pycaret) (4.7.1)\n",
            "Requirement already satisfied: jsonschema!=2.5.0,>=2.4 in /usr/local/lib/python3.7/dist-packages (from nbformat>=4.2.0->ipywidgets->pycaret) (2.6.0)\n",
            "Requirement already satisfied: ipython-genutils in /usr/local/lib/python3.7/dist-packages (from nbformat>=4.2.0->ipywidgets->pycaret) (0.2.0)\n",
            "Requirement already satisfied: patsy>=0.4.0 in /usr/local/lib/python3.7/dist-packages (from statsmodels->pyod->pycaret) (0.5.1)\n",
            "Requirement already satisfied: python-editor>=0.3 in /usr/local/lib/python3.7/dist-packages (from alembic<=1.4.1->mlflow->pycaret) (1.0.4)\n",
            "Requirement already satisfied: Mako in /usr/local/lib/python3.7/dist-packages (from alembic<=1.4.1->mlflow->pycaret) (1.1.4)\n",
            "Requirement already satisfied: tabulate>=0.7.7 in /usr/local/lib/python3.7/dist-packages (from databricks-cli>=0.8.7->mlflow->pycaret) (0.8.8)\n",
            "Requirement already satisfied: prometheus-client in /usr/local/lib/python3.7/dist-packages (from prometheus-flask-exporter->mlflow->pycaret) (0.9.0)\n",
            "Requirement already satisfied: gitdb<5,>=4.0.1 in /usr/local/lib/python3.7/dist-packages (from gitpython>=2.1.0->mlflow->pycaret) (4.0.5)\n",
            "Requirement already satisfied: websocket-client>=0.32.0 in /usr/local/lib/python3.7/dist-packages (from docker>=4.0.0->mlflow->pycaret) (0.57.0)\n",
            "Requirement already satisfied: itsdangerous>=0.24 in /usr/local/lib/python3.7/dist-packages (from Flask->mlflow->pycaret) (1.1.0)\n",
            "Requirement already satisfied: Werkzeug>=0.15 in /usr/local/lib/python3.7/dist-packages (from Flask->mlflow->pycaret) (1.0.1)\n",
            "Requirement already satisfied: idna<3,>=2.5 in /usr/local/lib/python3.7/dist-packages (from requests>=2.17.3->mlflow->pycaret) (2.10)\n",
            "Requirement already satisfied: urllib3!=1.25.0,!=1.25.1,<1.26,>=1.21.1 in /usr/local/lib/python3.7/dist-packages (from requests>=2.17.3->mlflow->pycaret) (1.24.3)\n",
            "Requirement already satisfied: certifi>=2017.4.17 in /usr/local/lib/python3.7/dist-packages (from requests>=2.17.3->mlflow->pycaret) (2020.12.5)\n",
            "Requirement already satisfied: chardet<4,>=3.0.2 in /usr/local/lib/python3.7/dist-packages (from requests>=2.17.3->mlflow->pycaret) (3.0.4)\n",
            "Requirement already satisfied: importlib-metadata>=0.20; python_version < \"3.8\" in /usr/local/lib/python3.7/dist-packages (from catalogue<1.1.0,>=0.0.7->spacy<2.4.0->pycaret) (3.4.0)\n",
            "Requirement already satisfied: MarkupSafe>=0.23 in /usr/local/lib/python3.7/dist-packages (from jinja2>=2.7.2->pyLDAvis->pycaret) (1.1.1)\n",
            "Requirement already satisfied: networkx>=2.4 in /usr/local/lib/python3.7/dist-packages (from visions[type_image_path]==0.6.0->pandas-profiling>=2.8.0->pycaret) (2.5)\n",
            "Requirement already satisfied: imagehash; extra == \"type_image_path\" in /usr/local/lib/python3.7/dist-packages (from visions[type_image_path]==0.6.0->pandas-profiling>=2.8.0->pycaret) (4.2.0)\n",
            "Requirement already satisfied: ptyprocess>=0.5 in /usr/local/lib/python3.7/dist-packages (from pexpect; sys_platform != \"win32\"->IPython->pycaret) (0.7.0)\n",
            "Requirement already satisfied: wcwidth in /usr/local/lib/python3.7/dist-packages (from prompt-toolkit<2.0.0,>=1.0.4->IPython->pycaret) (0.2.5)\n",
            "Requirement already satisfied: terminado>=0.8.1 in /usr/local/lib/python3.7/dist-packages (from notebook>=4.4.1->widgetsnbextension~=3.5.0->ipywidgets->pycaret) (0.9.2)\n",
            "Requirement already satisfied: Send2Trash in /usr/local/lib/python3.7/dist-packages (from notebook>=4.4.1->widgetsnbextension~=3.5.0->ipywidgets->pycaret) (1.5.0)\n",
            "Requirement already satisfied: nbconvert in /usr/local/lib/python3.7/dist-packages (from notebook>=4.4.1->widgetsnbextension~=3.5.0->ipywidgets->pycaret) (5.6.1)\n",
            "Requirement already satisfied: pyzmq>=13 in /usr/local/lib/python3.7/dist-packages (from jupyter-client->ipykernel>=4.5.1->ipywidgets->pycaret) (22.0.3)\n",
            "Requirement already satisfied: smmap<4,>=3.0.1 in /usr/local/lib/python3.7/dist-packages (from gitdb<5,>=4.0.1->gitpython>=2.1.0->mlflow->pycaret) (3.0.5)\n",
            "Requirement already satisfied: zipp>=0.5 in /usr/local/lib/python3.7/dist-packages (from importlib-metadata>=0.20; python_version < \"3.8\"->catalogue<1.1.0,>=0.0.7->spacy<2.4.0->pycaret) (3.4.0)\n",
            "Requirement already satisfied: typing-extensions>=3.6.4; python_version < \"3.8\" in /usr/local/lib/python3.7/dist-packages (from importlib-metadata>=0.20; python_version < \"3.8\"->catalogue<1.1.0,>=0.0.7->spacy<2.4.0->pycaret) (3.7.4.3)\n",
            "Requirement already satisfied: PyWavelets in /usr/local/lib/python3.7/dist-packages (from imagehash; extra == \"type_image_path\"->visions[type_image_path]==0.6.0->pandas-profiling>=2.8.0->pycaret) (1.1.1)\n",
            "Requirement already satisfied: mistune<2,>=0.8.1 in /usr/local/lib/python3.7/dist-packages (from nbconvert->notebook>=4.4.1->widgetsnbextension~=3.5.0->ipywidgets->pycaret) (0.8.4)\n",
            "Requirement already satisfied: defusedxml in /usr/local/lib/python3.7/dist-packages (from nbconvert->notebook>=4.4.1->widgetsnbextension~=3.5.0->ipywidgets->pycaret) (0.6.0)\n",
            "Requirement already satisfied: pandocfilters>=1.4.1 in /usr/local/lib/python3.7/dist-packages (from nbconvert->notebook>=4.4.1->widgetsnbextension~=3.5.0->ipywidgets->pycaret) (1.4.3)\n",
            "Requirement already satisfied: bleach in /usr/local/lib/python3.7/dist-packages (from nbconvert->notebook>=4.4.1->widgetsnbextension~=3.5.0->ipywidgets->pycaret) (3.3.0)\n",
            "Requirement already satisfied: testpath in /usr/local/lib/python3.7/dist-packages (from nbconvert->notebook>=4.4.1->widgetsnbextension~=3.5.0->ipywidgets->pycaret) (0.4.4)\n",
            "Requirement already satisfied: packaging in /usr/local/lib/python3.7/dist-packages (from bleach->nbconvert->notebook>=4.4.1->widgetsnbextension~=3.5.0->ipywidgets->pycaret) (20.9)\n",
            "Requirement already satisfied: webencodings in /usr/local/lib/python3.7/dist-packages (from bleach->nbconvert->notebook>=4.4.1->widgetsnbextension~=3.5.0->ipywidgets->pycaret) (0.5.1)\n"
          ],
          "name": "stdout"
        },
        {
          "output_type": "execute_result",
          "data": {
            "application/vnd.google.colaboratory.intrinsic+json": {
              "type": "string"
            },
            "text/plain": [
              "'2.3.0'"
            ]
          },
          "metadata": {
            "tags": []
          },
          "execution_count": 8
        }
      ]
    },
    {
      "cell_type": "markdown",
      "metadata": {
        "id": "xmd-dtNgAwQa"
      },
      "source": [
        "**Importing an Anomaly dataset from Pycaret**"
      ]
    },
    {
      "cell_type": "code",
      "metadata": {
        "colab": {
          "base_uri": "https://localhost:8080/",
          "height": 195
        },
        "id": "gybJKoGqUAPo",
        "outputId": "dd0d0fe5-186f-4fbd-8900-49a51fa7390a"
      },
      "source": [
        "from pycaret.datasets import get_data\r\n",
        "data = get_data('anomaly')"
      ],
      "execution_count": null,
      "outputs": [
        {
          "output_type": "display_data",
          "data": {
            "text/html": [
              "<div>\n",
              "<style scoped>\n",
              "    .dataframe tbody tr th:only-of-type {\n",
              "        vertical-align: middle;\n",
              "    }\n",
              "\n",
              "    .dataframe tbody tr th {\n",
              "        vertical-align: top;\n",
              "    }\n",
              "\n",
              "    .dataframe thead th {\n",
              "        text-align: right;\n",
              "    }\n",
              "</style>\n",
              "<table border=\"1\" class=\"dataframe\">\n",
              "  <thead>\n",
              "    <tr style=\"text-align: right;\">\n",
              "      <th></th>\n",
              "      <th>Col1</th>\n",
              "      <th>Col2</th>\n",
              "      <th>Col3</th>\n",
              "      <th>Col4</th>\n",
              "      <th>Col5</th>\n",
              "      <th>Col6</th>\n",
              "      <th>Col7</th>\n",
              "      <th>Col8</th>\n",
              "      <th>Col9</th>\n",
              "      <th>Col10</th>\n",
              "    </tr>\n",
              "  </thead>\n",
              "  <tbody>\n",
              "    <tr>\n",
              "      <th>0</th>\n",
              "      <td>0.263995</td>\n",
              "      <td>0.764929</td>\n",
              "      <td>0.138424</td>\n",
              "      <td>0.935242</td>\n",
              "      <td>0.605867</td>\n",
              "      <td>0.518790</td>\n",
              "      <td>0.912225</td>\n",
              "      <td>0.608234</td>\n",
              "      <td>0.723782</td>\n",
              "      <td>0.733591</td>\n",
              "    </tr>\n",
              "    <tr>\n",
              "      <th>1</th>\n",
              "      <td>0.546092</td>\n",
              "      <td>0.653975</td>\n",
              "      <td>0.065575</td>\n",
              "      <td>0.227772</td>\n",
              "      <td>0.845269</td>\n",
              "      <td>0.837066</td>\n",
              "      <td>0.272379</td>\n",
              "      <td>0.331679</td>\n",
              "      <td>0.429297</td>\n",
              "      <td>0.367422</td>\n",
              "    </tr>\n",
              "    <tr>\n",
              "      <th>2</th>\n",
              "      <td>0.336714</td>\n",
              "      <td>0.538842</td>\n",
              "      <td>0.192801</td>\n",
              "      <td>0.553563</td>\n",
              "      <td>0.074515</td>\n",
              "      <td>0.332993</td>\n",
              "      <td>0.365792</td>\n",
              "      <td>0.861309</td>\n",
              "      <td>0.899017</td>\n",
              "      <td>0.088600</td>\n",
              "    </tr>\n",
              "    <tr>\n",
              "      <th>3</th>\n",
              "      <td>0.092108</td>\n",
              "      <td>0.995017</td>\n",
              "      <td>0.014465</td>\n",
              "      <td>0.176371</td>\n",
              "      <td>0.241530</td>\n",
              "      <td>0.514724</td>\n",
              "      <td>0.562208</td>\n",
              "      <td>0.158963</td>\n",
              "      <td>0.073715</td>\n",
              "      <td>0.208463</td>\n",
              "    </tr>\n",
              "    <tr>\n",
              "      <th>4</th>\n",
              "      <td>0.325261</td>\n",
              "      <td>0.805968</td>\n",
              "      <td>0.957033</td>\n",
              "      <td>0.331665</td>\n",
              "      <td>0.307923</td>\n",
              "      <td>0.355315</td>\n",
              "      <td>0.501899</td>\n",
              "      <td>0.558449</td>\n",
              "      <td>0.885169</td>\n",
              "      <td>0.182754</td>\n",
              "    </tr>\n",
              "  </tbody>\n",
              "</table>\n",
              "</div>"
            ],
            "text/plain": [
              "       Col1      Col2      Col3  ...      Col8      Col9     Col10\n",
              "0  0.263995  0.764929  0.138424  ...  0.608234  0.723782  0.733591\n",
              "1  0.546092  0.653975  0.065575  ...  0.331679  0.429297  0.367422\n",
              "2  0.336714  0.538842  0.192801  ...  0.861309  0.899017  0.088600\n",
              "3  0.092108  0.995017  0.014465  ...  0.158963  0.073715  0.208463\n",
              "4  0.325261  0.805968  0.957033  ...  0.558449  0.885169  0.182754\n",
              "\n",
              "[5 rows x 10 columns]"
            ]
          },
          "metadata": {
            "tags": []
          }
        }
      ]
    },
    {
      "cell_type": "markdown",
      "metadata": {
        "id": "XSrbkZA9A2ur"
      },
      "source": [
        "**Checking its Shape and Description**"
      ]
    },
    {
      "cell_type": "code",
      "metadata": {
        "colab": {
          "base_uri": "https://localhost:8080/"
        },
        "id": "a_f-38BeUhqT",
        "outputId": "6cbe3d5e-2187-48f5-c8c0-c3724fd0c27b"
      },
      "source": [
        "data.shape"
      ],
      "execution_count": null,
      "outputs": [
        {
          "output_type": "execute_result",
          "data": {
            "text/plain": [
              "(1000, 10)"
            ]
          },
          "metadata": {
            "tags": []
          },
          "execution_count": 10
        }
      ]
    },
    {
      "cell_type": "code",
      "metadata": {
        "colab": {
          "base_uri": "https://localhost:8080/",
          "height": 343
        },
        "id": "XlIgRrPMcQH9",
        "outputId": "5b125dc1-db3e-4082-bc39-e7fcb4dbeffe"
      },
      "source": [
        "data.describe().transpose()"
      ],
      "execution_count": null,
      "outputs": [
        {
          "output_type": "execute_result",
          "data": {
            "text/html": [
              "<div>\n",
              "<style scoped>\n",
              "    .dataframe tbody tr th:only-of-type {\n",
              "        vertical-align: middle;\n",
              "    }\n",
              "\n",
              "    .dataframe tbody tr th {\n",
              "        vertical-align: top;\n",
              "    }\n",
              "\n",
              "    .dataframe thead th {\n",
              "        text-align: right;\n",
              "    }\n",
              "</style>\n",
              "<table border=\"1\" class=\"dataframe\">\n",
              "  <thead>\n",
              "    <tr style=\"text-align: right;\">\n",
              "      <th></th>\n",
              "      <th>count</th>\n",
              "      <th>mean</th>\n",
              "      <th>std</th>\n",
              "      <th>min</th>\n",
              "      <th>25%</th>\n",
              "      <th>50%</th>\n",
              "      <th>75%</th>\n",
              "      <th>max</th>\n",
              "    </tr>\n",
              "  </thead>\n",
              "  <tbody>\n",
              "    <tr>\n",
              "      <th>Col1</th>\n",
              "      <td>1000.0</td>\n",
              "      <td>0.491362</td>\n",
              "      <td>0.259138</td>\n",
              "      <td>0.000000</td>\n",
              "      <td>0.287458</td>\n",
              "      <td>0.492070</td>\n",
              "      <td>0.694192</td>\n",
              "      <td>0.994431</td>\n",
              "    </tr>\n",
              "    <tr>\n",
              "      <th>Col2</th>\n",
              "      <td>1000.0</td>\n",
              "      <td>0.490200</td>\n",
              "      <td>0.251931</td>\n",
              "      <td>0.000000</td>\n",
              "      <td>0.291449</td>\n",
              "      <td>0.488656</td>\n",
              "      <td>0.686531</td>\n",
              "      <td>1.000000</td>\n",
              "    </tr>\n",
              "    <tr>\n",
              "      <th>Col3</th>\n",
              "      <td>1000.0</td>\n",
              "      <td>0.509077</td>\n",
              "      <td>0.256606</td>\n",
              "      <td>0.000000</td>\n",
              "      <td>0.337802</td>\n",
              "      <td>0.510077</td>\n",
              "      <td>0.686914</td>\n",
              "      <td>1.000000</td>\n",
              "    </tr>\n",
              "    <tr>\n",
              "      <th>Col4</th>\n",
              "      <td>1000.0</td>\n",
              "      <td>0.497362</td>\n",
              "      <td>0.263562</td>\n",
              "      <td>0.000000</td>\n",
              "      <td>0.256147</td>\n",
              "      <td>0.497537</td>\n",
              "      <td>0.731949</td>\n",
              "      <td>1.000000</td>\n",
              "    </tr>\n",
              "    <tr>\n",
              "      <th>Col5</th>\n",
              "      <td>1000.0</td>\n",
              "      <td>0.586120</td>\n",
              "      <td>0.334658</td>\n",
              "      <td>0.000000</td>\n",
              "      <td>0.169680</td>\n",
              "      <td>0.782019</td>\n",
              "      <td>0.847956</td>\n",
              "      <td>1.000000</td>\n",
              "    </tr>\n",
              "    <tr>\n",
              "      <th>Col6</th>\n",
              "      <td>1000.0</td>\n",
              "      <td>0.514636</td>\n",
              "      <td>0.317470</td>\n",
              "      <td>0.000000</td>\n",
              "      <td>0.142587</td>\n",
              "      <td>0.537953</td>\n",
              "      <td>0.856512</td>\n",
              "      <td>1.000000</td>\n",
              "    </tr>\n",
              "    <tr>\n",
              "      <th>Col7</th>\n",
              "      <td>1000.0</td>\n",
              "      <td>0.508270</td>\n",
              "      <td>0.278483</td>\n",
              "      <td>0.000000</td>\n",
              "      <td>0.246021</td>\n",
              "      <td>0.465679</td>\n",
              "      <td>0.804935</td>\n",
              "      <td>1.000000</td>\n",
              "    </tr>\n",
              "    <tr>\n",
              "      <th>Col8</th>\n",
              "      <td>1000.0</td>\n",
              "      <td>0.457541</td>\n",
              "      <td>0.220129</td>\n",
              "      <td>0.000000</td>\n",
              "      <td>0.245539</td>\n",
              "      <td>0.515619</td>\n",
              "      <td>0.626757</td>\n",
              "      <td>1.000000</td>\n",
              "    </tr>\n",
              "    <tr>\n",
              "      <th>Col9</th>\n",
              "      <td>1000.0</td>\n",
              "      <td>0.477685</td>\n",
              "      <td>0.241432</td>\n",
              "      <td>0.000000</td>\n",
              "      <td>0.291452</td>\n",
              "      <td>0.387753</td>\n",
              "      <td>0.723674</td>\n",
              "      <td>0.988732</td>\n",
              "    </tr>\n",
              "    <tr>\n",
              "      <th>Col10</th>\n",
              "      <td>1000.0</td>\n",
              "      <td>0.495760</td>\n",
              "      <td>0.211677</td>\n",
              "      <td>0.014495</td>\n",
              "      <td>0.329904</td>\n",
              "      <td>0.488891</td>\n",
              "      <td>0.659528</td>\n",
              "      <td>1.000000</td>\n",
              "    </tr>\n",
              "  </tbody>\n",
              "</table>\n",
              "</div>"
            ],
            "text/plain": [
              "        count      mean       std  ...       50%       75%       max\n",
              "Col1   1000.0  0.491362  0.259138  ...  0.492070  0.694192  0.994431\n",
              "Col2   1000.0  0.490200  0.251931  ...  0.488656  0.686531  1.000000\n",
              "Col3   1000.0  0.509077  0.256606  ...  0.510077  0.686914  1.000000\n",
              "Col4   1000.0  0.497362  0.263562  ...  0.497537  0.731949  1.000000\n",
              "Col5   1000.0  0.586120  0.334658  ...  0.782019  0.847956  1.000000\n",
              "Col6   1000.0  0.514636  0.317470  ...  0.537953  0.856512  1.000000\n",
              "Col7   1000.0  0.508270  0.278483  ...  0.465679  0.804935  1.000000\n",
              "Col8   1000.0  0.457541  0.220129  ...  0.515619  0.626757  1.000000\n",
              "Col9   1000.0  0.477685  0.241432  ...  0.387753  0.723674  0.988732\n",
              "Col10  1000.0  0.495760  0.211677  ...  0.488891  0.659528  1.000000\n",
              "\n",
              "[10 rows x 8 columns]"
            ]
          },
          "metadata": {
            "tags": []
          },
          "execution_count": 12
        }
      ]
    },
    {
      "cell_type": "markdown",
      "metadata": {
        "id": "kgk0NpglA8e-"
      },
      "source": [
        "**After we import everything from Anomaly, we setup a session and log it to cross-check any changes made**\r\n",
        "\r\n",
        "**Here you can see any transformations or changes made to the data**"
      ]
    },
    {
      "cell_type": "code",
      "metadata": {
        "colab": {
          "base_uri": "https://localhost:8080/",
          "height": 1000,
          "referenced_widgets": [
            "32ee73c26ff64e3fa64de7ceb135e127",
            "0df87ec5f1bb440ca40ea34954a63818",
            "476ab77bb0a142a6b3110521647ffad0",
            "437c6a65ead14e1b809f37404dcd5a72",
            "fae16e6041f74d769d3860706e984f8a",
            "d22ce2bd843041a791024d6835c25b87"
          ]
        },
        "id": "k0xdBBMDUjV0",
        "outputId": "0fd2eeba-4ae5-45c6-c0e7-59b855314c7e"
      },
      "source": [
        "from pycaret.anomaly import *\r\n",
        "s = setup(data, session_id = 123, log_experiment = True, experiment_name = 'anomaly-demo')"
      ],
      "execution_count": null,
      "outputs": [
        {
          "output_type": "display_data",
          "data": {
            "text/html": [
              "<div>\n",
              "<style scoped>\n",
              "    .dataframe tbody tr th:only-of-type {\n",
              "        vertical-align: middle;\n",
              "    }\n",
              "\n",
              "    .dataframe tbody tr th {\n",
              "        vertical-align: top;\n",
              "    }\n",
              "\n",
              "    .dataframe thead th {\n",
              "        text-align: right;\n",
              "    }\n",
              "</style>\n",
              "<table border=\"1\" class=\"dataframe\">\n",
              "  <thead>\n",
              "    <tr style=\"text-align: right;\">\n",
              "      <th></th>\n",
              "      <th>Description</th>\n",
              "      <th>Value</th>\n",
              "    </tr>\n",
              "  </thead>\n",
              "  <tbody>\n",
              "    <tr>\n",
              "      <th>0</th>\n",
              "      <td>session_id</td>\n",
              "      <td>123</td>\n",
              "    </tr>\n",
              "    <tr>\n",
              "      <th>1</th>\n",
              "      <td>Original Data</td>\n",
              "      <td>(1000, 10)</td>\n",
              "    </tr>\n",
              "    <tr>\n",
              "      <th>2</th>\n",
              "      <td>Missing Values</td>\n",
              "      <td>False</td>\n",
              "    </tr>\n",
              "    <tr>\n",
              "      <th>3</th>\n",
              "      <td>Numeric Features</td>\n",
              "      <td>10</td>\n",
              "    </tr>\n",
              "    <tr>\n",
              "      <th>4</th>\n",
              "      <td>Categorical Features</td>\n",
              "      <td>0</td>\n",
              "    </tr>\n",
              "    <tr>\n",
              "      <th>5</th>\n",
              "      <td>Ordinal Features</td>\n",
              "      <td>False</td>\n",
              "    </tr>\n",
              "    <tr>\n",
              "      <th>6</th>\n",
              "      <td>High Cardinality Features</td>\n",
              "      <td>False</td>\n",
              "    </tr>\n",
              "    <tr>\n",
              "      <th>7</th>\n",
              "      <td>High Cardinality Method</td>\n",
              "      <td>None</td>\n",
              "    </tr>\n",
              "    <tr>\n",
              "      <th>8</th>\n",
              "      <td>Transformed Data</td>\n",
              "      <td>(1000, 10)</td>\n",
              "    </tr>\n",
              "    <tr>\n",
              "      <th>9</th>\n",
              "      <td>CPU Jobs</td>\n",
              "      <td>-1</td>\n",
              "    </tr>\n",
              "    <tr>\n",
              "      <th>10</th>\n",
              "      <td>Use GPU</td>\n",
              "      <td>False</td>\n",
              "    </tr>\n",
              "    <tr>\n",
              "      <th>11</th>\n",
              "      <td>Log Experiment</td>\n",
              "      <td>True</td>\n",
              "    </tr>\n",
              "    <tr>\n",
              "      <th>12</th>\n",
              "      <td>Experiment Name</td>\n",
              "      <td>anomaly-demo</td>\n",
              "    </tr>\n",
              "    <tr>\n",
              "      <th>13</th>\n",
              "      <td>USI</td>\n",
              "      <td>a4c5</td>\n",
              "    </tr>\n",
              "    <tr>\n",
              "      <th>14</th>\n",
              "      <td>Imputation Type</td>\n",
              "      <td>simple</td>\n",
              "    </tr>\n",
              "    <tr>\n",
              "      <th>15</th>\n",
              "      <td>Iterative Imputation Iteration</td>\n",
              "      <td>None</td>\n",
              "    </tr>\n",
              "    <tr>\n",
              "      <th>16</th>\n",
              "      <td>Numeric Imputer</td>\n",
              "      <td>mean</td>\n",
              "    </tr>\n",
              "    <tr>\n",
              "      <th>17</th>\n",
              "      <td>Iterative Imputation Numeric Model</td>\n",
              "      <td>None</td>\n",
              "    </tr>\n",
              "    <tr>\n",
              "      <th>18</th>\n",
              "      <td>Categorical Imputer</td>\n",
              "      <td>mode</td>\n",
              "    </tr>\n",
              "    <tr>\n",
              "      <th>19</th>\n",
              "      <td>Iterative Imputation Categorical Model</td>\n",
              "      <td>None</td>\n",
              "    </tr>\n",
              "    <tr>\n",
              "      <th>20</th>\n",
              "      <td>Unknown Categoricals Handling</td>\n",
              "      <td>least_frequent</td>\n",
              "    </tr>\n",
              "    <tr>\n",
              "      <th>21</th>\n",
              "      <td>Normalize</td>\n",
              "      <td>False</td>\n",
              "    </tr>\n",
              "    <tr>\n",
              "      <th>22</th>\n",
              "      <td>Normalize Method</td>\n",
              "      <td>None</td>\n",
              "    </tr>\n",
              "    <tr>\n",
              "      <th>23</th>\n",
              "      <td>Transformation</td>\n",
              "      <td>False</td>\n",
              "    </tr>\n",
              "    <tr>\n",
              "      <th>24</th>\n",
              "      <td>Transformation Method</td>\n",
              "      <td>None</td>\n",
              "    </tr>\n",
              "    <tr>\n",
              "      <th>25</th>\n",
              "      <td>PCA</td>\n",
              "      <td>False</td>\n",
              "    </tr>\n",
              "    <tr>\n",
              "      <th>26</th>\n",
              "      <td>PCA Method</td>\n",
              "      <td>None</td>\n",
              "    </tr>\n",
              "    <tr>\n",
              "      <th>27</th>\n",
              "      <td>PCA Components</td>\n",
              "      <td>None</td>\n",
              "    </tr>\n",
              "    <tr>\n",
              "      <th>28</th>\n",
              "      <td>Ignore Low Variance</td>\n",
              "      <td>False</td>\n",
              "    </tr>\n",
              "    <tr>\n",
              "      <th>29</th>\n",
              "      <td>Combine Rare Levels</td>\n",
              "      <td>False</td>\n",
              "    </tr>\n",
              "    <tr>\n",
              "      <th>30</th>\n",
              "      <td>Rare Level Threshold</td>\n",
              "      <td>None</td>\n",
              "    </tr>\n",
              "    <tr>\n",
              "      <th>31</th>\n",
              "      <td>Numeric Binning</td>\n",
              "      <td>False</td>\n",
              "    </tr>\n",
              "    <tr>\n",
              "      <th>32</th>\n",
              "      <td>Remove Outliers</td>\n",
              "      <td>False</td>\n",
              "    </tr>\n",
              "    <tr>\n",
              "      <th>33</th>\n",
              "      <td>Outliers Threshold</td>\n",
              "      <td>None</td>\n",
              "    </tr>\n",
              "    <tr>\n",
              "      <th>34</th>\n",
              "      <td>Remove Multicollinearity</td>\n",
              "      <td>False</td>\n",
              "    </tr>\n",
              "    <tr>\n",
              "      <th>35</th>\n",
              "      <td>Multicollinearity Threshold</td>\n",
              "      <td>None</td>\n",
              "    </tr>\n",
              "    <tr>\n",
              "      <th>36</th>\n",
              "      <td>Clustering</td>\n",
              "      <td>False</td>\n",
              "    </tr>\n",
              "    <tr>\n",
              "      <th>37</th>\n",
              "      <td>Clustering Iteration</td>\n",
              "      <td>None</td>\n",
              "    </tr>\n",
              "    <tr>\n",
              "      <th>38</th>\n",
              "      <td>Polynomial Features</td>\n",
              "      <td>False</td>\n",
              "    </tr>\n",
              "    <tr>\n",
              "      <th>39</th>\n",
              "      <td>Polynomial Degree</td>\n",
              "      <td>None</td>\n",
              "    </tr>\n",
              "    <tr>\n",
              "      <th>40</th>\n",
              "      <td>Trignometry Features</td>\n",
              "      <td>False</td>\n",
              "    </tr>\n",
              "    <tr>\n",
              "      <th>41</th>\n",
              "      <td>Polynomial Threshold</td>\n",
              "      <td>None</td>\n",
              "    </tr>\n",
              "    <tr>\n",
              "      <th>42</th>\n",
              "      <td>Group Features</td>\n",
              "      <td>False</td>\n",
              "    </tr>\n",
              "    <tr>\n",
              "      <th>43</th>\n",
              "      <td>Feature Selection</td>\n",
              "      <td>False</td>\n",
              "    </tr>\n",
              "    <tr>\n",
              "      <th>44</th>\n",
              "      <td>Feature Selection Method</td>\n",
              "      <td>classic</td>\n",
              "    </tr>\n",
              "    <tr>\n",
              "      <th>45</th>\n",
              "      <td>Features Selection Threshold</td>\n",
              "      <td>None</td>\n",
              "    </tr>\n",
              "    <tr>\n",
              "      <th>46</th>\n",
              "      <td>Feature Interaction</td>\n",
              "      <td>False</td>\n",
              "    </tr>\n",
              "    <tr>\n",
              "      <th>47</th>\n",
              "      <td>Feature Ratio</td>\n",
              "      <td>False</td>\n",
              "    </tr>\n",
              "    <tr>\n",
              "      <th>48</th>\n",
              "      <td>Interaction Threshold</td>\n",
              "      <td>None</td>\n",
              "    </tr>\n",
              "  </tbody>\n",
              "</table>\n",
              "</div>"
            ],
            "text/plain": [
              "                               Description           Value\n",
              "0                               session_id             123\n",
              "1                            Original Data      (1000, 10)\n",
              "2                           Missing Values           False\n",
              "3                         Numeric Features              10\n",
              "4                     Categorical Features               0\n",
              "5                         Ordinal Features           False\n",
              "6                High Cardinality Features           False\n",
              "7                  High Cardinality Method            None\n",
              "8                         Transformed Data      (1000, 10)\n",
              "9                                 CPU Jobs              -1\n",
              "10                                 Use GPU           False\n",
              "11                          Log Experiment            True\n",
              "12                         Experiment Name    anomaly-demo\n",
              "13                                     USI            a4c5\n",
              "14                         Imputation Type          simple\n",
              "15          Iterative Imputation Iteration            None\n",
              "16                         Numeric Imputer            mean\n",
              "17      Iterative Imputation Numeric Model            None\n",
              "18                     Categorical Imputer            mode\n",
              "19  Iterative Imputation Categorical Model            None\n",
              "20           Unknown Categoricals Handling  least_frequent\n",
              "21                               Normalize           False\n",
              "22                        Normalize Method            None\n",
              "23                          Transformation           False\n",
              "24                   Transformation Method            None\n",
              "25                                     PCA           False\n",
              "26                              PCA Method            None\n",
              "27                          PCA Components            None\n",
              "28                     Ignore Low Variance           False\n",
              "29                     Combine Rare Levels           False\n",
              "30                    Rare Level Threshold            None\n",
              "31                         Numeric Binning           False\n",
              "32                         Remove Outliers           False\n",
              "33                      Outliers Threshold            None\n",
              "34                Remove Multicollinearity           False\n",
              "35             Multicollinearity Threshold            None\n",
              "36                              Clustering           False\n",
              "37                    Clustering Iteration            None\n",
              "38                     Polynomial Features           False\n",
              "39                       Polynomial Degree            None\n",
              "40                    Trignometry Features           False\n",
              "41                    Polynomial Threshold            None\n",
              "42                          Group Features           False\n",
              "43                       Feature Selection           False\n",
              "44                Feature Selection Method         classic\n",
              "45            Features Selection Threshold            None\n",
              "46                     Feature Interaction           False\n",
              "47                           Feature Ratio           False\n",
              "48                   Interaction Threshold            None"
            ]
          },
          "metadata": {
            "tags": []
          }
        }
      ]
    },
    {
      "cell_type": "markdown",
      "metadata": {
        "id": "vwWU7xi6BTLa"
      },
      "source": [
        "**Check for all the Outlier Detection models present in Pycaret**"
      ]
    },
    {
      "cell_type": "code",
      "metadata": {
        "colab": {
          "base_uri": "https://localhost:8080/",
          "height": 432
        },
        "id": "lm4L9af0a_W6",
        "outputId": "c2251a7a-fb9d-4c3a-b746-a24a76db3677"
      },
      "source": [
        "models()"
      ],
      "execution_count": null,
      "outputs": [
        {
          "output_type": "execute_result",
          "data": {
            "text/html": [
              "<div>\n",
              "<style scoped>\n",
              "    .dataframe tbody tr th:only-of-type {\n",
              "        vertical-align: middle;\n",
              "    }\n",
              "\n",
              "    .dataframe tbody tr th {\n",
              "        vertical-align: top;\n",
              "    }\n",
              "\n",
              "    .dataframe thead th {\n",
              "        text-align: right;\n",
              "    }\n",
              "</style>\n",
              "<table border=\"1\" class=\"dataframe\">\n",
              "  <thead>\n",
              "    <tr style=\"text-align: right;\">\n",
              "      <th></th>\n",
              "      <th>Name</th>\n",
              "      <th>Reference</th>\n",
              "    </tr>\n",
              "    <tr>\n",
              "      <th>ID</th>\n",
              "      <th></th>\n",
              "      <th></th>\n",
              "    </tr>\n",
              "  </thead>\n",
              "  <tbody>\n",
              "    <tr>\n",
              "      <th>abod</th>\n",
              "      <td>Angle-base Outlier Detection</td>\n",
              "      <td>pyod.models.abod.ABOD</td>\n",
              "    </tr>\n",
              "    <tr>\n",
              "      <th>cluster</th>\n",
              "      <td>Clustering-Based Local Outlier</td>\n",
              "      <td>pyod.models.cblof.CBLOF</td>\n",
              "    </tr>\n",
              "    <tr>\n",
              "      <th>cof</th>\n",
              "      <td>Connectivity-Based Local Outlier</td>\n",
              "      <td>pyod.models.cof.COF</td>\n",
              "    </tr>\n",
              "    <tr>\n",
              "      <th>iforest</th>\n",
              "      <td>Isolation Forest</td>\n",
              "      <td>pyod.models.iforest.IForest</td>\n",
              "    </tr>\n",
              "    <tr>\n",
              "      <th>histogram</th>\n",
              "      <td>Histogram-based Outlier Detection</td>\n",
              "      <td>pyod.models.hbos.HBOS</td>\n",
              "    </tr>\n",
              "    <tr>\n",
              "      <th>knn</th>\n",
              "      <td>K-Nearest Neighbors Detector</td>\n",
              "      <td>pyod.models.knn.KNN</td>\n",
              "    </tr>\n",
              "    <tr>\n",
              "      <th>lof</th>\n",
              "      <td>Local Outlier Factor</td>\n",
              "      <td>pyod.models.lof.LOF</td>\n",
              "    </tr>\n",
              "    <tr>\n",
              "      <th>svm</th>\n",
              "      <td>One-class SVM detector</td>\n",
              "      <td>pyod.models.ocsvm.OCSVM</td>\n",
              "    </tr>\n",
              "    <tr>\n",
              "      <th>pca</th>\n",
              "      <td>Principal Component Analysis</td>\n",
              "      <td>pyod.models.pca.PCA</td>\n",
              "    </tr>\n",
              "    <tr>\n",
              "      <th>mcd</th>\n",
              "      <td>Minimum Covariance Determinant</td>\n",
              "      <td>pyod.models.mcd.MCD</td>\n",
              "    </tr>\n",
              "    <tr>\n",
              "      <th>sod</th>\n",
              "      <td>Subspace Outlier Detection</td>\n",
              "      <td>pyod.models.sod.SOD</td>\n",
              "    </tr>\n",
              "    <tr>\n",
              "      <th>sos</th>\n",
              "      <td>Stochastic Outlier Selection</td>\n",
              "      <td>pyod.models.sos.SOS</td>\n",
              "    </tr>\n",
              "  </tbody>\n",
              "</table>\n",
              "</div>"
            ],
            "text/plain": [
              "                                        Name                    Reference\n",
              "ID                                                                       \n",
              "abod            Angle-base Outlier Detection        pyod.models.abod.ABOD\n",
              "cluster       Clustering-Based Local Outlier      pyod.models.cblof.CBLOF\n",
              "cof         Connectivity-Based Local Outlier          pyod.models.cof.COF\n",
              "iforest                     Isolation Forest  pyod.models.iforest.IForest\n",
              "histogram  Histogram-based Outlier Detection        pyod.models.hbos.HBOS\n",
              "knn             K-Nearest Neighbors Detector          pyod.models.knn.KNN\n",
              "lof                     Local Outlier Factor          pyod.models.lof.LOF\n",
              "svm                   One-class SVM detector      pyod.models.ocsvm.OCSVM\n",
              "pca             Principal Component Analysis          pyod.models.pca.PCA\n",
              "mcd           Minimum Covariance Determinant          pyod.models.mcd.MCD\n",
              "sod               Subspace Outlier Detection          pyod.models.sod.SOD\n",
              "sos             Stochastic Outlier Selection          pyod.models.sos.SOS"
            ]
          },
          "metadata": {
            "tags": []
          },
          "execution_count": 14
        }
      ]
    },
    {
      "cell_type": "markdown",
      "metadata": {
        "id": "MMpUHyR2Bae7"
      },
      "source": [
        "**Now, create an iForest model**"
      ]
    },
    {
      "cell_type": "code",
      "metadata": {
        "id": "56t7Ve3jdgXc"
      },
      "source": [
        "iforest = create_model('iforest')"
      ],
      "execution_count": null,
      "outputs": []
    },
    {
      "cell_type": "code",
      "metadata": {
        "colab": {
          "base_uri": "https://localhost:8080/"
        },
        "id": "I8924WSJeCjc",
        "outputId": "1dc47405-a390-42f7-823c-b4f5dec88355"
      },
      "source": [
        "iforest"
      ],
      "execution_count": null,
      "outputs": [
        {
          "output_type": "execute_result",
          "data": {
            "text/plain": [
              "IForest(behaviour='new', bootstrap=False, contamination=0.05,\n",
              "    max_features=1.0, max_samples='auto', n_estimators=100, n_jobs=-1,\n",
              "    random_state=123, verbose=0)"
            ]
          },
          "metadata": {
            "tags": []
          },
          "execution_count": 16
        }
      ]
    },
    {
      "cell_type": "code",
      "metadata": {
        "colab": {
          "base_uri": "https://localhost:8080/"
        },
        "id": "RGP2CJ1_eDyX",
        "outputId": "fe3d012c-52e8-4ad8-e4d6-bf5000e7f373"
      },
      "source": [
        "type(iforest)"
      ],
      "execution_count": null,
      "outputs": [
        {
          "output_type": "execute_result",
          "data": {
            "text/plain": [
              "pyod.models.iforest.IForest"
            ]
          },
          "metadata": {
            "tags": []
          },
          "execution_count": 17
        }
      ]
    },
    {
      "cell_type": "markdown",
      "metadata": {
        "id": "xKNbsg7gBlnl"
      },
      "source": [
        "**Now, assign the data loaded to the iForest model**"
      ]
    },
    {
      "cell_type": "code",
      "metadata": {
        "colab": {
          "base_uri": "https://localhost:8080/",
          "height": 195
        },
        "id": "MjwkfzvEeE81",
        "outputId": "ed7b659f-b1a7-487c-d331-ee8f4d3b50f3"
      },
      "source": [
        "results = assign_model(iforest)\r\n",
        "results.head()"
      ],
      "execution_count": null,
      "outputs": [
        {
          "output_type": "execute_result",
          "data": {
            "text/html": [
              "<div>\n",
              "<style scoped>\n",
              "    .dataframe tbody tr th:only-of-type {\n",
              "        vertical-align: middle;\n",
              "    }\n",
              "\n",
              "    .dataframe tbody tr th {\n",
              "        vertical-align: top;\n",
              "    }\n",
              "\n",
              "    .dataframe thead th {\n",
              "        text-align: right;\n",
              "    }\n",
              "</style>\n",
              "<table border=\"1\" class=\"dataframe\">\n",
              "  <thead>\n",
              "    <tr style=\"text-align: right;\">\n",
              "      <th></th>\n",
              "      <th>Col1</th>\n",
              "      <th>Col2</th>\n",
              "      <th>Col3</th>\n",
              "      <th>Col4</th>\n",
              "      <th>Col5</th>\n",
              "      <th>Col6</th>\n",
              "      <th>Col7</th>\n",
              "      <th>Col8</th>\n",
              "      <th>Col9</th>\n",
              "      <th>Col10</th>\n",
              "      <th>Anomaly</th>\n",
              "      <th>Anomaly_Score</th>\n",
              "    </tr>\n",
              "  </thead>\n",
              "  <tbody>\n",
              "    <tr>\n",
              "      <th>0</th>\n",
              "      <td>0.263995</td>\n",
              "      <td>0.764929</td>\n",
              "      <td>0.138424</td>\n",
              "      <td>0.935242</td>\n",
              "      <td>0.605867</td>\n",
              "      <td>0.518790</td>\n",
              "      <td>0.912225</td>\n",
              "      <td>0.608234</td>\n",
              "      <td>0.723782</td>\n",
              "      <td>0.733591</td>\n",
              "      <td>0</td>\n",
              "      <td>-0.035865</td>\n",
              "    </tr>\n",
              "    <tr>\n",
              "      <th>1</th>\n",
              "      <td>0.546092</td>\n",
              "      <td>0.653975</td>\n",
              "      <td>0.065575</td>\n",
              "      <td>0.227772</td>\n",
              "      <td>0.845269</td>\n",
              "      <td>0.837066</td>\n",
              "      <td>0.272379</td>\n",
              "      <td>0.331679</td>\n",
              "      <td>0.429297</td>\n",
              "      <td>0.367422</td>\n",
              "      <td>0</td>\n",
              "      <td>-0.084927</td>\n",
              "    </tr>\n",
              "    <tr>\n",
              "      <th>2</th>\n",
              "      <td>0.336714</td>\n",
              "      <td>0.538842</td>\n",
              "      <td>0.192801</td>\n",
              "      <td>0.553563</td>\n",
              "      <td>0.074515</td>\n",
              "      <td>0.332993</td>\n",
              "      <td>0.365792</td>\n",
              "      <td>0.861309</td>\n",
              "      <td>0.899017</td>\n",
              "      <td>0.088600</td>\n",
              "      <td>1</td>\n",
              "      <td>0.025356</td>\n",
              "    </tr>\n",
              "    <tr>\n",
              "      <th>3</th>\n",
              "      <td>0.092108</td>\n",
              "      <td>0.995017</td>\n",
              "      <td>0.014465</td>\n",
              "      <td>0.176371</td>\n",
              "      <td>0.241530</td>\n",
              "      <td>0.514724</td>\n",
              "      <td>0.562208</td>\n",
              "      <td>0.158963</td>\n",
              "      <td>0.073715</td>\n",
              "      <td>0.208463</td>\n",
              "      <td>1</td>\n",
              "      <td>0.042415</td>\n",
              "    </tr>\n",
              "    <tr>\n",
              "      <th>4</th>\n",
              "      <td>0.325261</td>\n",
              "      <td>0.805968</td>\n",
              "      <td>0.957033</td>\n",
              "      <td>0.331665</td>\n",
              "      <td>0.307923</td>\n",
              "      <td>0.355315</td>\n",
              "      <td>0.501899</td>\n",
              "      <td>0.558449</td>\n",
              "      <td>0.885169</td>\n",
              "      <td>0.182754</td>\n",
              "      <td>0</td>\n",
              "      <td>-0.023408</td>\n",
              "    </tr>\n",
              "  </tbody>\n",
              "</table>\n",
              "</div>"
            ],
            "text/plain": [
              "       Col1      Col2      Col3  ...     Col10  Anomaly  Anomaly_Score\n",
              "0  0.263995  0.764929  0.138424  ...  0.733591        0      -0.035865\n",
              "1  0.546092  0.653975  0.065575  ...  0.367422        0      -0.084927\n",
              "2  0.336714  0.538842  0.192801  ...  0.088600        1       0.025356\n",
              "3  0.092108  0.995017  0.014465  ...  0.208463        1       0.042415\n",
              "4  0.325261  0.805968  0.957033  ...  0.182754        0      -0.023408\n",
              "\n",
              "[5 rows x 12 columns]"
            ]
          },
          "metadata": {
            "tags": []
          },
          "execution_count": 18
        }
      ]
    },
    {
      "cell_type": "markdown",
      "metadata": {
        "id": "oj3wK1jfBrhW"
      },
      "source": [
        "**This step predicts the Outliers in the data we have**"
      ]
    },
    {
      "cell_type": "code",
      "metadata": {
        "colab": {
          "base_uri": "https://localhost:8080/",
          "height": 404
        },
        "id": "U5PwRoKPeckA",
        "outputId": "40c102fe-994b-4337-ab6e-69ab316f1a66"
      },
      "source": [
        "predict_model(iforest, data = data)"
      ],
      "execution_count": null,
      "outputs": [
        {
          "output_type": "execute_result",
          "data": {
            "text/html": [
              "<div>\n",
              "<style scoped>\n",
              "    .dataframe tbody tr th:only-of-type {\n",
              "        vertical-align: middle;\n",
              "    }\n",
              "\n",
              "    .dataframe tbody tr th {\n",
              "        vertical-align: top;\n",
              "    }\n",
              "\n",
              "    .dataframe thead th {\n",
              "        text-align: right;\n",
              "    }\n",
              "</style>\n",
              "<table border=\"1\" class=\"dataframe\">\n",
              "  <thead>\n",
              "    <tr style=\"text-align: right;\">\n",
              "      <th></th>\n",
              "      <th>Col1</th>\n",
              "      <th>Col2</th>\n",
              "      <th>Col3</th>\n",
              "      <th>Col4</th>\n",
              "      <th>Col5</th>\n",
              "      <th>Col6</th>\n",
              "      <th>Col7</th>\n",
              "      <th>Col8</th>\n",
              "      <th>Col9</th>\n",
              "      <th>Col10</th>\n",
              "      <th>Anomaly</th>\n",
              "      <th>Anomaly_Score</th>\n",
              "    </tr>\n",
              "  </thead>\n",
              "  <tbody>\n",
              "    <tr>\n",
              "      <th>0</th>\n",
              "      <td>0.263995</td>\n",
              "      <td>0.764929</td>\n",
              "      <td>0.138424</td>\n",
              "      <td>0.935242</td>\n",
              "      <td>0.605867</td>\n",
              "      <td>0.518790</td>\n",
              "      <td>0.912225</td>\n",
              "      <td>0.608234</td>\n",
              "      <td>0.723782</td>\n",
              "      <td>0.733591</td>\n",
              "      <td>0</td>\n",
              "      <td>-0.035865</td>\n",
              "    </tr>\n",
              "    <tr>\n",
              "      <th>1</th>\n",
              "      <td>0.546092</td>\n",
              "      <td>0.653975</td>\n",
              "      <td>0.065575</td>\n",
              "      <td>0.227772</td>\n",
              "      <td>0.845269</td>\n",
              "      <td>0.837066</td>\n",
              "      <td>0.272379</td>\n",
              "      <td>0.331679</td>\n",
              "      <td>0.429297</td>\n",
              "      <td>0.367422</td>\n",
              "      <td>0</td>\n",
              "      <td>-0.084927</td>\n",
              "    </tr>\n",
              "    <tr>\n",
              "      <th>2</th>\n",
              "      <td>0.336714</td>\n",
              "      <td>0.538842</td>\n",
              "      <td>0.192801</td>\n",
              "      <td>0.553563</td>\n",
              "      <td>0.074515</td>\n",
              "      <td>0.332993</td>\n",
              "      <td>0.365792</td>\n",
              "      <td>0.861309</td>\n",
              "      <td>0.899017</td>\n",
              "      <td>0.088600</td>\n",
              "      <td>1</td>\n",
              "      <td>0.025356</td>\n",
              "    </tr>\n",
              "    <tr>\n",
              "      <th>3</th>\n",
              "      <td>0.092108</td>\n",
              "      <td>0.995017</td>\n",
              "      <td>0.014465</td>\n",
              "      <td>0.176371</td>\n",
              "      <td>0.241530</td>\n",
              "      <td>0.514724</td>\n",
              "      <td>0.562208</td>\n",
              "      <td>0.158963</td>\n",
              "      <td>0.073715</td>\n",
              "      <td>0.208463</td>\n",
              "      <td>1</td>\n",
              "      <td>0.042415</td>\n",
              "    </tr>\n",
              "    <tr>\n",
              "      <th>4</th>\n",
              "      <td>0.325261</td>\n",
              "      <td>0.805968</td>\n",
              "      <td>0.957033</td>\n",
              "      <td>0.331665</td>\n",
              "      <td>0.307923</td>\n",
              "      <td>0.355315</td>\n",
              "      <td>0.501899</td>\n",
              "      <td>0.558449</td>\n",
              "      <td>0.885169</td>\n",
              "      <td>0.182754</td>\n",
              "      <td>0</td>\n",
              "      <td>-0.023408</td>\n",
              "    </tr>\n",
              "    <tr>\n",
              "      <th>...</th>\n",
              "      <td>...</td>\n",
              "      <td>...</td>\n",
              "      <td>...</td>\n",
              "      <td>...</td>\n",
              "      <td>...</td>\n",
              "      <td>...</td>\n",
              "      <td>...</td>\n",
              "      <td>...</td>\n",
              "      <td>...</td>\n",
              "      <td>...</td>\n",
              "      <td>...</td>\n",
              "      <td>...</td>\n",
              "    </tr>\n",
              "    <tr>\n",
              "      <th>995</th>\n",
              "      <td>0.305055</td>\n",
              "      <td>0.656837</td>\n",
              "      <td>0.331665</td>\n",
              "      <td>0.822525</td>\n",
              "      <td>0.907127</td>\n",
              "      <td>0.882276</td>\n",
              "      <td>0.855732</td>\n",
              "      <td>0.584786</td>\n",
              "      <td>0.808640</td>\n",
              "      <td>0.242762</td>\n",
              "      <td>0</td>\n",
              "      <td>-0.083981</td>\n",
              "    </tr>\n",
              "    <tr>\n",
              "      <th>996</th>\n",
              "      <td>0.812627</td>\n",
              "      <td>0.864258</td>\n",
              "      <td>0.616604</td>\n",
              "      <td>0.167966</td>\n",
              "      <td>0.811223</td>\n",
              "      <td>0.938071</td>\n",
              "      <td>0.418462</td>\n",
              "      <td>0.472306</td>\n",
              "      <td>0.348347</td>\n",
              "      <td>0.671129</td>\n",
              "      <td>0</td>\n",
              "      <td>-0.075839</td>\n",
              "    </tr>\n",
              "    <tr>\n",
              "      <th>997</th>\n",
              "      <td>0.250967</td>\n",
              "      <td>0.138627</td>\n",
              "      <td>0.919703</td>\n",
              "      <td>0.461234</td>\n",
              "      <td>0.886555</td>\n",
              "      <td>0.869888</td>\n",
              "      <td>0.800908</td>\n",
              "      <td>0.530324</td>\n",
              "      <td>0.779433</td>\n",
              "      <td>0.234952</td>\n",
              "      <td>0</td>\n",
              "      <td>-0.052903</td>\n",
              "    </tr>\n",
              "    <tr>\n",
              "      <th>998</th>\n",
              "      <td>0.502436</td>\n",
              "      <td>0.936820</td>\n",
              "      <td>0.580062</td>\n",
              "      <td>0.540773</td>\n",
              "      <td>0.151995</td>\n",
              "      <td>0.059452</td>\n",
              "      <td>0.225220</td>\n",
              "      <td>0.242755</td>\n",
              "      <td>0.279385</td>\n",
              "      <td>0.538755</td>\n",
              "      <td>0</td>\n",
              "      <td>-0.075104</td>\n",
              "    </tr>\n",
              "    <tr>\n",
              "      <th>999</th>\n",
              "      <td>0.457991</td>\n",
              "      <td>0.017755</td>\n",
              "      <td>0.714113</td>\n",
              "      <td>0.125992</td>\n",
              "      <td>0.063316</td>\n",
              "      <td>0.154739</td>\n",
              "      <td>0.922974</td>\n",
              "      <td>0.692299</td>\n",
              "      <td>0.816777</td>\n",
              "      <td>0.307592</td>\n",
              "      <td>0</td>\n",
              "      <td>-0.008665</td>\n",
              "    </tr>\n",
              "  </tbody>\n",
              "</table>\n",
              "<p>1000 rows × 12 columns</p>\n",
              "</div>"
            ],
            "text/plain": [
              "         Col1      Col2      Col3  ...     Col10  Anomaly  Anomaly_Score\n",
              "0    0.263995  0.764929  0.138424  ...  0.733591        0      -0.035865\n",
              "1    0.546092  0.653975  0.065575  ...  0.367422        0      -0.084927\n",
              "2    0.336714  0.538842  0.192801  ...  0.088600        1       0.025356\n",
              "3    0.092108  0.995017  0.014465  ...  0.208463        1       0.042415\n",
              "4    0.325261  0.805968  0.957033  ...  0.182754        0      -0.023408\n",
              "..        ...       ...       ...  ...       ...      ...            ...\n",
              "995  0.305055  0.656837  0.331665  ...  0.242762        0      -0.083981\n",
              "996  0.812627  0.864258  0.616604  ...  0.671129        0      -0.075839\n",
              "997  0.250967  0.138627  0.919703  ...  0.234952        0      -0.052903\n",
              "998  0.502436  0.936820  0.580062  ...  0.538755        0      -0.075104\n",
              "999  0.457991  0.017755  0.714113  ...  0.307592        0      -0.008665\n",
              "\n",
              "[1000 rows x 12 columns]"
            ]
          },
          "metadata": {
            "tags": []
          },
          "execution_count": 19
        }
      ]
    },
    {
      "cell_type": "markdown",
      "metadata": {
        "id": "h4jquZTGByb2"
      },
      "source": [
        "**The plot_model function plots an interactive 3D visual for the inliers and outliers with a color scale**"
      ]
    },
    {
      "cell_type": "code",
      "metadata": {
        "colab": {
          "base_uri": "https://localhost:8080/",
          "height": 817,
          "referenced_widgets": [
            "0b639d96752f43089a184b93f3940c9d",
            "cbf1c875d12d42f4a9f96b5c69acc278",
            "f67b305c08624f1888017c76d9cfd3e4"
          ]
        },
        "id": "AY_Z5cvnehye",
        "outputId": "3515599b-de23-4f44-cb5d-e1f29818f900"
      },
      "source": [
        "plot_model(iforest)"
      ],
      "execution_count": null,
      "outputs": [
        {
          "output_type": "display_data",
          "data": {
            "text/html": [
              "<html>\n",
              "<head><meta charset=\"utf-8\" /></head>\n",
              "<body>\n",
              "    <div>\n",
              "            <script src=\"https://cdnjs.cloudflare.com/ajax/libs/mathjax/2.7.5/MathJax.js?config=TeX-AMS-MML_SVG\"></script><script type=\"text/javascript\">if (window.MathJax) {MathJax.Hub.Config({SVG: {font: \"STIX-Web\"}});}</script>\n",
              "                <script type=\"text/javascript\">window.PlotlyConfig = {MathJaxConfig: 'local'};</script>\n",
              "        <script src=\"https://cdn.plot.ly/plotly-latest.min.js\"></script>    \n",
              "            <div id=\"8582902f-e222-4373-af28-307ff0630646\" class=\"plotly-graph-div\" style=\"height:800px; width:900px;\"></div>\n",
              "            <script type=\"text/javascript\">\n",
              "                \n",
              "                    window.PLOTLYENV=window.PLOTLYENV || {};\n",
              "                    \n",
              "                if (document.getElementById(\"8582902f-e222-4373-af28-307ff0630646\")) {\n",
              "                    Plotly.newPlot(\n",
              "                        '8582902f-e222-4373-af28-307ff0630646',\n",
              "                        [{\"customdata\": [[0.263995357], [0.546092303], [0.33671410399999996], [0.092107835], [0.325261175], [0.212464853], [0.258565714], [0.869236755], [0.197077957], [0.292984504], [0.82178316], [0.796622959], [0.045577010999999994], [0.613660351], [0.9507445659999999], [0.33634633700000005], [0.034440667], [0.741544275], [0.18443265], [0.664514943], [0.16282485800000002], [0.729838445], [0.62837389], [0.057883660999999996], [0.445534827], [0.80183695], [0.27709612], [0.228634015], [0.834860657], [0.6697665110000001], [0.532527349], [0.17045907100000002], [0.5102884679999999], [0.977561989], [0.249775993], [0.9755006820000001], [0.613701727], [0.16742036300000002], [0.537472516], [0.379899131], [0.633897303], [0.633960424], [0.5499746529999999], [0.178172988], [0.85563814], [0.321796672], [0.8174905370000001], [0.254879417], [0.344140513], [0.8061457259999999], [0.27708167100000003], [0.544328519], [0.07708393], [0.273081458], [0.390877336], [0.349621385], [0.214549744], [0.206075222], [0.86461997], [0.9817088540000001], [0.33482964600000004], [0.648387061], [0.093643561], [0.837802698], [0.7603439670000001], [0.29140417399999996], [0.3413454], [0.7611124840000001], [0.541899775], [0.684176639], [0.983535597], [0.52081245], [0.328227724], [0.09715793800000001], [0.876088593], [0.870214512], [0.656086992], [0.306791514], [0.48126734], [0.259559174], [0.326123655], [0.930568042], [0.6583894], [0.689992335], [0.315781109], [0.5669050929999999], [0.637526619], [0.687540723], [0.324300602], [0.592704906], [0.7402531259999999], [0.5940328770000001], [0.596452977], [0.27768081699999997], [0.258329663], [0.142460864], [0.435533461], [0.7024990440000001], [0.58897535], [0.653304374], [0.336968524], [0.631244736], [0.73530076], [0.050390366], [0.064264924], [0.665359476], [0.917835245], [0.44651012], [0.661938199], [0.43935985299999997], [0.6875724040000001], [0.363462248], [0.6542621820000001], [0.578553536], [0.065927945], [0.550148559], [0.13918281400000002], [0.080004635], [0.278228358], [0.560124266], [0.53639864], [0.42653190399999996], [0.789109796], [0.742900474], [0.901692589], [0.650337401], [0.114057311], [0.260812592], [0.43991232], [0.964409284], [0.184401415], [0.345145446], [0.17589458100000002], [0.312514453], [0.674131879], [0.32825045], [0.598231057], [0.09259881699999999], [0.497916521], [0.419776521], [0.31217670000000003], [0.937857107], [0.049030963], [0.47610452600000003], [0.447397526], [0.295806058], [0.737363977], [0.625896253], [0.408813429], [0.437511156], [0.691351375], [0.935555275], [0.437846654], [0.072217715], [0.67636067], [0.468883999], [0.543820644], [0.6555226470000001], [0.6935289240000001], [0.10887831199999999], [0.285463743], [0.0], [0.706495497], [0.273530633], [0.292320271], [0.673984307], [0.12612182800000002], [0.9467074590000001], [0.9363388979999999], [0.8537553640000001], [0.7060713609999999], [0.693682186], [0.508527882], [0.34717038899999997], [0.704154263], [0.658730088], [0.155841557], [0.311085435], [0.281135347], [0.094587802], [0.6832609540000001], [0.9077292509999999], [0.29151267399999997], [0.752734459], [0.93482964], [0.071413953], [0.5948963270000001], [0.404672015], [0.13837621], [0.7473384679999999], [0.530882486], [0.282649594], [0.699335734], [0.056111250999999994], [0.855234998], [0.07789512700000001], [0.891649583], [0.38674227899999997], [0.27113158], [0.958888961], [0.085120869], [0.5269022489999999], [0.066577785], [0.841506738], [0.255342095], [0.060545771], [0.073385869], [0.187493723], [0.858365688], [0.090640352], [0.7097252270000001], [0.631300647], [0.24750447399999997], [0.822843584], [0.373476759], [0.625538582], [0.292951715], [0.299730324], [0.25121407], [0.344480551], [0.293064767], [0.7628032240000001], [0.7384708040000001], [0.674883265], [0.719151612], [0.13098021599999998], [0.511328036], [0.04492903], [0.560914449], [0.7440406409999999], [0.266961634], [0.644231853], [0.038113352], [0.05715529900000001], [0.34139246100000004], [0.7204636320000001], [0.402878236], [0.635148967], [0.320729467], [0.09120969400000001], [0.23414609], [0.8902211309999999], [0.602170884], [0.633652055], [0.806240837], [0.739731184], [0.465231269], [0.7321109], [0.373874305], [0.501587947], [0.11538315800000001], [0.7319466040000001], [0.41829872799999995], [0.062259590999999996], [0.391496379], [0.35984929], [0.24523562699999998], [0.610028339], [0.43540360200000006], [0.434309675], [0.523763344], [0.17118786600000002], [0.18773430300000002], [0.945014638], [0.027851097000000002], [0.68445706], [0.178014532], [0.643427879], [0.59588355], [0.372361682], [0.586103584], [0.271658852], [0.59951107], [0.468363088], [0.314515565], [0.21893726], [0.254716562], [0.25612815], [0.602259755], [0.134381075], [0.513887424], [0.624241636], [0.160251854], [0.580708108], [0.270540486], [0.832919932], [0.93032134], [0.719157884], [0.886720033], [0.098792281], [0.787174286], [0.365592376], [0.719576193], [0.8058956], [0.7555783340000001], [0.526005909], [0.68880424], [0.22111531199999998], [0.739369477], [0.408440236], [0.348926542], [0.433713763], [0.5964966070000001], [0.6942953000000001], [0.7090309659999999], [0.867652984], [0.89332545], [0.746020922], [0.538284443], [0.8922193140000001], [0.935175765], [0.260527707], [0.956780449], [0.204932484], [0.687733351], [0.329063619], [0.632149831], [0.463744506], [0.698859621], [0.385446564], [0.47997537700000004], [0.732279108], [0.3813543], [0.459326013], [0.257401434], [0.665014804], [0.103399542], [0.425284413], [0.943529051], [0.594750236], [0.543776817], [0.18203988], [0.23584208399999998], [0.585984497], [0.762013168], [0.6849829070000001], [0.676936933], [0.290184964], [0.48106822200000005], [0.492766033], [0.22185623399999999], [0.053875998], [0.082751144], [0.385366225], [0.702513961], [0.91553156], [0.082087436], [0.251280378], [0.41672181700000005], [0.277032672], [0.579539754], [0.569363476], [0.133399703], [0.265045463], [0.936571901], [0.252618554], [0.054033081], [0.802481439], [0.528197693], [0.9515026], [0.572121173], [0.752938227], [0.143857535], [0.513484576], [0.313322389], [0.6877973959999999], [0.37705984], [0.348226142], [0.67763282], [0.24138752100000002], [0.8506501790000001], [0.22034810300000002], [0.476445464], [0.690324025], [0.364695946], [0.6492491970000001], [0.9437019209999999], [0.529645971], [0.299097002], [0.96696247], [0.272005242], [0.314161447], [0.752020991], [0.221882453], [0.7203326729999999], [0.379204782], [0.60168653], [0.582932673], [0.950809853], [0.58830141], [0.880887227], [0.467857701], [0.8799021709999999], [0.619844009], [0.359002573], [0.291511278], [0.694157143], [0.727960353], [0.617703921], [0.39581257], [0.58317282], [0.710332374], [0.253753693], [0.049412227999999996], [0.728378695], [0.432432881], [0.58612345], [0.052342373], [0.053483902], [0.518729378], [0.933040208], [0.7035542840000001], [0.268989899], [0.733006927], [0.44435246700000003], [0.5833946210000001], [0.871172692], [0.42876707799999997], [0.30046084100000003], [0.9533294590000001], [0.606443965], [0.90986815], [0.714896449], [0.49734950899999997], [0.8530974859999999], [0.721804145], [0.303467328], [0.664485096], [0.27978062], [0.569481665], [0.628628926], [0.088368123], [0.733567326], [0.537436778], [0.638593691], [0.954726948], [0.632202332], [0.642134651], [0.744653087], [0.115714007], [0.48625007299999995], [0.440356144], [0.08272289], [0.511591027], [0.394627555], [0.224394], [0.626927584], [0.290254057], [0.779008053], [0.86610579], [0.873326081], [0.49548916], [0.594297695], [0.9182015840000001], [0.5770427539999999], [0.019467671000000002], [0.6702982820000001], [0.546595316], [0.591665146], [0.42155819], [0.6856085590000001], [0.340303024], [0.675626741], [0.319067345], [0.38849966399999997], [0.706949589], [0.559409515], [0.687663508], [0.7088045540000001], [0.6818880940000001], [0.42253510899999996], [0.320004605], [0.6582813679999999], [0.634154867], [0.7773320090000001], [0.812677205], [0.074280797], [0.39600217], [0.054933913], [0.825058925], [0.382642009], [0.8687298179999999], [0.588043346], [0.891551577], [0.10920046], [0.647682781], [0.724342512], [0.07016304400000001], [0.280882054], [0.039113261], [0.579641592], [0.639000922], [0.281745925], [0.647857744], [0.6479057970000001], [0.875226264], [0.567603305], [0.262940591], [0.268026042], [0.40519133], [0.479965451], [0.33552403], [0.777165379], [0.42548796299999997], [0.237986115], [0.142522971], [0.724176488], [0.234698933], [0.07818228099999999], [0.855990155], [0.270251765], [0.435517841], [0.762697513], [0.46448725799999996], [0.396112685], [0.37638092100000003], [0.29459467699999997], [0.6944921209999999], [0.622767949], [0.8475597220000001], [0.301463054], [0.912937812], [0.500017182], [0.902587935], [0.304517943], [0.299165673], [0.092014087], [0.488548917], [0.664664437], [0.26534954899999996], [0.723657021], [0.149262385], [0.04577339], [0.69661064], [0.42181486], [0.733845785], [0.418795386], [0.677443529], [0.26128360300000003], [0.268527767], [0.5443222360000001], [0.431632036], [0.981018141], [0.21498072399999998], [0.39472999299999995], [0.122224944], [0.297496875], [0.37490443100000004], [0.68698771], [0.388549207], [0.039296071], [0.73553424], [0.37929489299999997], [0.7321233859999999], [0.33922143899999996], [0.659450594], [0.054838642], [0.640112102], [0.30714170399999996], [0.39661190700000004], [0.420439161], [0.24171497399999997], [0.065893153], [0.9105219370000001], [0.697163103], [0.072559853], [0.81825094], [0.311888815], [0.961644609], [0.816325524], [0.14647302], [0.548753945], [0.946158087], [0.293992717], [0.331479643], [0.9062200309999999], [0.525540416], [0.83301411], [0.514849806], [0.574609024], [0.46871185299999996], [0.71002775], [0.645973276], [0.229794416], [0.551783393], [0.055822990999999995], [0.331750941], [0.715520198], [0.583924357], [0.30695769100000003], [0.7914782370000001], [0.16423663900000002], [0.065711219], [0.948993132], [0.080423835], [0.052495426], [0.566346135], [0.3630266], [0.605442195], [0.6308505839999999], [0.065791238], [0.28681707100000003], [0.685462839], [0.260853706], [0.659122429], [0.44317392200000005], [0.602063986], [0.060366910999999995], [0.781903153], [0.5145798070000001], [0.48388621299999995], [0.600213807], [0.49736405200000006], [0.411145245], [0.116999171], [0.34189014100000004], [0.746950848], [0.39629274600000003], [0.6221438429999999], [0.335271141], [0.140257137], [0.081620681], [0.069837569], [0.46894000799999996], [0.9908574170000001], [0.896616832], [0.255310561], [0.22464526699999998], [0.01991825], [0.296480415], [0.155458996], [0.577916714], [0.9563030309999999], [0.813464394], [0.529675785], [0.287671353], [0.48039136], [0.28104482199999997], [0.633196521], [0.09332537699999999], [0.28447398100000004], [0.052223775], [0.051129385], [0.967405608], [0.040045727999999996], [0.9085829209999999], [0.6621174160000001], [0.42470320899999997], [0.72207806], [0.666193327], [0.509681253], [0.7513536209999999], [0.279073124], [0.074927], [0.916359535], [0.31040327], [0.716604052], [0.485587085], [0.30607518100000003], [0.477558204], [0.7119239409999999], [0.066348638], [0.27453935100000004], [0.31082252], [0.47607312700000004], [0.186795565], [0.26654207], [0.070231142], [0.26951927], [0.800004713], [0.27363366699999997], [0.14647919199999998], [0.378318951], [0.373849065], [0.242170835], [0.249796488], [0.066591188], [0.372956798], [0.501812291], [0.313097752], [0.8802021959999999], [0.51981893], [0.364138746], [0.49268289600000004], [0.285732652], [0.890114985], [0.316419561], [0.26866354], [0.771975959], [0.968888992], [0.080334377], [0.7368282209999999], [0.30055807100000004], [0.9179503929999999], [0.465815039], [0.054036682], [0.963150123], [0.08965350300000001], [0.7076932340000001], [0.636416037], [0.539521117], [0.114757161], [0.357312419], [0.67639834], [0.43482839], [0.032326387000000005], [0.711365605], [0.187486519], [0.052789653], [0.5058636129999999], [0.927431873], [0.6809842559999999], [0.882822186], [0.495705441], [0.596240398], [0.320610701], [0.3413685], [0.159681797], [0.318133669], [0.8393010479999999], [0.06435925099999999], [0.470216633], [0.7762522909999999], [0.635843383], [0.62510543], [0.52959065], [0.986900166], [0.078585688], [0.233284267], [0.363330957], [0.7167169809999999], [0.37588979200000006], [0.223316889], [0.299343986], [0.538595767], [0.730297124], [0.66033077], [0.435296009], [0.326494313], [0.854402708], [0.5734938470000001], [0.757786135], [0.704743233], [0.281575597], [0.671968208], [0.313726015], [0.364338275], [0.368216396], [0.38629520700000003], [0.655971865], [0.5660252729999999], [0.424999093], [0.090110371], [0.772350538], [0.331047258], [0.273716188], [0.23877568], [0.37307977200000003], [0.331185868], [0.256134531], [0.678373225], [0.43463833799999996], [0.654668307], [0.986681065], [0.371520495], [0.408359618], [0.40932365], [0.283412082], [0.395246531], [0.010984428000000001], [0.306013869], [0.266194806], [0.299318521], [0.318293946], [0.74282591], [0.09766432900000001], [0.079666942], [0.613258767], [0.99443072], [0.568835082], [0.7080345159999999], [0.37059271899999996], [0.669867361], [0.651295625], [0.462531569], [0.7196256190000001], [0.45377248], [0.394863946], [0.323974831], [0.146454724], [0.7790670409999999], [0.401828915], [0.601479585], [0.856423023], [0.565242962], [0.301225108], [0.282108144], [0.594378011], [0.705312368], [0.5408696279999999], [0.319249574], [0.36176613799999996], [0.625000704], [0.316287401], [0.047239021], [0.801182233], [0.508474436], [0.8178934109999999], [0.399235601], [0.9740519990000001], [0.72241535], [0.039564764], [0.908684108], [0.47301013399999997], [0.7180496279999999], [0.7634790690000001], [0.6475965370000001], [0.8949973859999999], [0.22282590100000002], [0.359012234], [0.944910252], [0.297877816], [0.172517997], [0.556586265], [0.876481735], [0.48667784299999994], [0.459496733], [0.47412637700000004], [0.70101144], [0.337597387], [0.537578886], [0.966992448], [0.056849545], [0.233249065], [0.380054711], [0.602929443], [0.303847999], [0.170194553], [0.972168554], [0.332168927], [0.6887286890000001], [0.110773401], [0.273352065], [0.572939678], [0.491457065], [0.281389999], [0.821697261], [0.6749776829999999], [0.585134549], [0.7105961159999999], [0.040488789], [0.568054311], [0.321752928], [0.611850232], [0.926096887], [0.618347428], [0.667629785], [0.39773346600000004], [0.290875487], [0.594375103], [0.508255233], [0.338571357], [0.43230234700000003], [0.302221978], [0.87619819], [0.080204492], [0.092333532], [0.09365644699999999], [0.6084523510000001], [0.732654598], [0.944158855], [0.26742308], [0.731124201], [0.661308553], [0.38776626200000003], [0.962585273], [0.322067067], [0.6340810929999999], [0.475345002], [0.35355897299999994], [0.8859363159999999], [0.876798106], [0.221581064], [0.394362449], [0.8050356759999999], [0.452898486], [0.592520516], [0.761026394], [0.245049023], [0.37213936299999995], [0.681054822], [0.7471431479999999], [0.9207395290000001], [0.097207945], [0.699302998], [0.721647006], [0.5353561139999999], [0.738293805], [0.7064675509999999], [0.67395061], [0.7112122909999999], [0.302558708], [0.080097855], [0.707010837], [0.512248622], [0.659627472], [0.657559694], [0.100645606], [0.92665363], [0.892879338], [0.839157508], [0.890959718], [0.556754471], [0.960361937], [0.631037864], [0.029838065], [0.278843351], [0.926157705], [0.551504258], [0.485942349], [0.43723469600000003], [0.25231801800000003], [0.515466972], [0.43725229600000004], [0.493724207], [0.83324725], [0.317521477], [0.28623456199999997], [0.726833965], [0.495667033], [0.028645255], [0.31967191699999997], [0.674344598], [0.7660371890000001], [0.65456992], [0.7565143809999999], [0.528253719], [0.38971949100000003], [0.355087459], [0.87015202], [0.7390833059999999], [0.305761846], [0.411587673], [0.063633094], [0.735409395], [0.605916669], [0.539395562], [0.566183532], [0.674795186], [0.070993366], [0.12526410000000002], [0.279601492], [0.952174402], [0.233806762], [0.43724742899999997], [0.925423095], [0.433498634], [0.52517902], [0.088435529], [0.447677638], [0.647000631], [0.9036033370000001], [0.265790738], [0.66419695], [0.498120658], [0.49018894399999996], [0.747084187], [0.906783648], [0.678770917], [0.348599859], [0.294839683], [0.705691827], [0.211917931], [0.063201124], [0.276699543], [0.672459395], [0.8082059490000001], [0.296538373], [0.16012686199999998], [0.439385032], [0.555951416], [0.386240112], [0.158689619], [0.214499855], [0.299579429], [0.569161656], [0.488614799], [0.8782950209999999], [0.649380949], [0.465713341], [0.16813774], [0.87529545], [0.8411323409999999], [0.33292081], [0.5130478589999999], [0.30505507800000004], [0.8126269909999999], [0.25096706], [0.5024355779999999], [0.45799074100000003]], \"hoverlabel\": {\"namelength\": 0}, \"hovertemplate\": \"0=%{x}<br>1=%{y}<br>2=%{z}<br>Feature=%{customdata[0]}<br>Anomaly=%{marker.color}\", \"legendgroup\": \"\", \"marker\": {\"color\": [0, 0, 1, 1, 0, 0, 0, 1, 1, 0, 0, 1, 0, 0, 1, 0, 1, 0, 0, 0, 1, 0, 0, 1, 1, 1, 0, 0, 1, 1, 0, 0, 1, 1, 1, 0, 0, 0, 0, 0, 1, 0, 0, 1, 0, 0, 0, 0, 0, 0, 0, 1, 0, 1, 0, 1, 0, 0, 0, 1, 0, 0, 1, 1, 0, 0, 1, 0, 0, 1, 0, 0, 0, 0, 0, 0, 0, 0, 0, 0, 0, 0, 0, 0, 0, 0, 0, 0, 0, 0, 0, 0, 0, 0, 0, 0, 0, 0, 0, 0, 0, 0, 0, 0, 0, 0, 0, 0, 0, 0, 0, 0, 0, 0, 0, 0, 0, 0, 0, 0, 0, 0, 0, 0, 0, 0, 0, 0, 0, 0, 0, 0, 0, 0, 0, 0, 0, 0, 0, 0, 0, 0, 0, 0, 0, 0, 0, 0, 0, 0, 0, 0, 0, 0, 0, 0, 0, 0, 0, 0, 0, 0, 0, 0, 0, 0, 0, 0, 0, 0, 0, 0, 0, 0, 0, 0, 0, 0, 0, 0, 0, 0, 0, 0, 0, 0, 0, 0, 0, 0, 0, 0, 0, 0, 0, 0, 0, 0, 1, 0, 0, 0, 0, 0, 0, 0, 0, 0, 0, 0, 0, 0, 0, 0, 0, 0, 0, 0, 0, 0, 0, 0, 0, 0, 0, 0, 0, 0, 0, 0, 0, 0, 0, 0, 0, 0, 0, 0, 0, 0, 0, 0, 0, 0, 0, 0, 0, 0, 0, 0, 0, 0, 0, 0, 0, 0, 0, 0, 0, 0, 0, 0, 0, 0, 0, 0, 0, 0, 0, 0, 0, 0, 0, 0, 0, 0, 0, 0, 0, 0, 0, 0, 0, 0, 0, 0, 0, 0, 0, 0, 0, 0, 0, 0, 0, 0, 0, 0, 0, 0, 0, 0, 0, 0, 0, 0, 0, 0, 0, 0, 0, 0, 0, 0, 0, 0, 0, 0, 0, 0, 0, 0, 0, 0, 0, 0, 0, 0, 0, 0, 0, 0, 0, 0, 0, 0, 0, 0, 0, 0, 0, 0, 0, 0, 0, 0, 0, 0, 0, 0, 0, 0, 0, 0, 0, 0, 0, 0, 0, 0, 0, 0, 0, 0, 0, 0, 0, 0, 0, 0, 0, 0, 0, 0, 0, 0, 0, 0, 0, 0, 0, 0, 0, 0, 0, 0, 0, 0, 0, 0, 0, 0, 0, 0, 0, 0, 0, 0, 0, 0, 0, 0, 0, 0, 0, 0, 0, 0, 0, 0, 0, 0, 0, 0, 0, 0, 0, 0, 0, 0, 0, 0, 0, 0, 0, 0, 0, 0, 0, 0, 0, 0, 0, 0, 0, 0, 0, 0, 0, 0, 0, 0, 0, 0, 0, 0, 0, 0, 0, 0, 0, 0, 0, 0, 0, 0, 0, 0, 0, 0, 0, 0, 0, 0, 0, 0, 0, 0, 0, 0, 0, 0, 0, 0, 0, 0, 0, 0, 0, 0, 0, 0, 0, 0, 0, 0, 0, 0, 0, 0, 0, 0, 0, 0, 0, 0, 0, 0, 0, 0, 0, 0, 0, 0, 0, 0, 0, 0, 0, 0, 0, 0, 0, 0, 0, 0, 0, 0, 0, 0, 0, 0, 0, 0, 0, 0, 0, 0, 0, 0, 0, 0, 0, 0, 0, 0, 0, 0, 0, 0, 0, 0, 0, 0, 0, 1, 0, 0, 0, 0, 0, 0, 0, 0, 0, 0, 0, 0, 0, 0, 0, 0, 0, 0, 0, 0, 0, 0, 0, 0, 0, 0, 0, 0, 0, 0, 0, 1, 0, 0, 0, 0, 0, 0, 0, 0, 0, 0, 0, 0, 0, 0, 0, 0, 0, 0, 0, 0, 0, 0, 0, 0, 1, 0, 0, 0, 0, 0, 0, 0, 0, 0, 0, 0, 0, 0, 0, 0, 0, 0, 0, 0, 0, 0, 0, 0, 0, 0, 0, 0, 0, 0, 0, 0, 0, 0, 0, 0, 0, 0, 0, 0, 0, 0, 0, 0, 0, 0, 0, 0, 0, 0, 0, 0, 0, 0, 0, 0, 0, 0, 0, 0, 0, 0, 0, 0, 0, 0, 0, 0, 0, 0, 0, 0, 0, 0, 0, 0, 0, 0, 1, 0, 0, 0, 0, 0, 0, 0, 0, 0, 0, 0, 0, 0, 0, 0, 0, 0, 0, 0, 1, 1, 0, 1, 1, 0, 0, 1, 1, 0, 0, 0, 0, 1, 0, 0, 1, 1, 1, 0, 1, 0, 1, 1, 1, 0, 0, 0, 1, 0, 0, 0, 0, 0, 0, 0, 0, 0, 0, 0, 0, 0, 0, 1, 0, 0, 0, 0, 0, 0, 0, 0, 0, 0, 0, 0, 0, 0, 0, 0, 0, 0, 0, 0, 0, 0, 0, 0, 0, 0, 0, 0, 0, 0, 0, 0, 0, 0, 0, 0, 1, 0, 0, 0, 0, 0, 0, 0, 0, 0, 0, 0, 0, 0, 0, 0, 0, 0, 0, 0, 0, 0, 0, 0, 0, 0, 0, 0, 0, 0, 0, 0, 0, 0, 0, 0, 0, 0, 0, 0, 0, 0, 0, 0, 0, 0, 0, 0, 0, 0, 0, 0, 0, 0, 0, 0, 0, 0, 0, 0, 0, 0, 0, 0, 0, 0, 0, 0, 0, 0, 0, 0, 0, 0, 0, 0, 0, 0, 0, 0, 0, 0, 0, 1, 0, 0, 0, 0, 0, 0, 0, 0, 0, 0, 0, 0, 0, 0, 0, 0, 0, 0, 0, 0, 0, 0, 0, 0, 0, 0, 0, 0, 0, 0, 0, 0, 0, 0, 0, 0, 0, 0, 0, 0, 0, 0, 0, 0, 0, 0, 0, 0, 0, 0, 0, 0, 0, 0, 0, 0, 0, 1, 0, 0, 0, 0, 0, 0, 0, 0, 0, 0, 0, 0, 0, 0, 0, 0, 0, 0, 0, 0, 0, 0, 0, 0, 0, 0, 0, 0, 0, 0, 0, 0, 0, 0, 0, 0, 0, 0, 0, 0, 0, 0, 0, 0, 0, 0, 0, 0, 0, 0, 0, 0, 0, 0, 0, 0, 0, 0, 0, 0, 0, 0, 0, 0, 0, 0, 0, 0, 0, 0, 0, 0, 0, 0, 0, 0, 0, 0], \"coloraxis\": \"coloraxis\", \"opacity\": 0.7, \"symbol\": \"circle\"}, \"mode\": \"markers\", \"name\": \"\", \"scene\": \"scene\", \"showlegend\": false, \"type\": \"scatter3d\", \"x\": [-3.990161895751953, -3.8475961685180664, 2.7751498222351074, 4.889815807342529, 1.0336501598358154, -1.3826935291290283, -6.293219089508057, 0.4389064610004425, -7.916141510009766, -0.6158570051193237, 2.263540267944336, 6.177187442779541, 8.406781196594238, -3.4134726524353027, -0.09013700485229492, -5.3907012939453125, 8.430505752563477, -5.668084144592285, 3.235564708709717, 6.436453819274902, -1.9664489030838013, 0.5454278588294983, -3.055140972137451, -7.762507915496826, 2.879974842071533, 1.6019612550735474, 5.694650173187256, -6.154279708862305, -3.561088800430298, -3.4043827056884766, -5.6335554122924805, -3.1565210819244385, -1.4360101222991943, -1.054731845855713, -6.1460113525390625, -0.332205593585968, -4.63087797164917, -6.376076698303223, -0.39583712816238403, -0.3962939977645874, -0.011094982735812664, -0.52657550573349, 0.011400959454476833, 3.7084357738494873, -0.5559356808662415, -5.898925304412842, -1.3424627780914307, -7.590795993804932, 6.045477390289307, 1.0050746202468872, 5.380952835083008, 3.5657174587249756, -5.592851638793945, -5.669142246246338, 5.978549480438232, 0.9382489919662476, -0.29136011004447937, -8.571063041687012, -1.0936851501464844, 3.7899060249328613, -7.176336765289307, 0.162367045879364, 4.409142971038818, -0.48276224732398987, 2.528271198272705, -2.180112838745117, -4.578715801239014, -5.426730155944824, 4.936864376068115, 3.1114461421966553, -1.4044207334518433, 1.0980486869812012, -0.48013174533843994, 5.912637710571289, -0.5661134123802185, -0.648862361907959, 3.1643993854522705, 2.04738450050354, 3.091371536254883, 1.8646135330200195, 1.009285569190979, 1.357800841331482, -0.7199404239654541, -0.033422403037548065, -5.113684177398682, -1.0956047773361206, 2.06109881401062, -1.089611291885376, -2.888820171356201, 2.4881105422973633, 0.7248181104660034, 3.1406772136688232, 0.5752289891242981, -5.358372211456299, -0.49790018796920776, 3.097820520401001, -2.616604804992676, 0.8301200866699219, -6.1262288093566895, 2.0157411098480225, 0.28279274702072144, -0.3977259695529938, 0.6904603838920593, -5.5868353843688965, 3.370889186859131, -1.439148187637329, 2.9947075843811035, -0.3151210844516754, -0.31908124685287476, 0.8896802067756653, 3.5969436168670654, 1.881697177886963, 5.3622918128967285, -1.3945331573486328, 2.796691656112671, 3.3028805255889893, -2.5470540523529053, -5.438748359680176, 5.269315719604492, -5.368931770324707, 3.4605252742767334, -3.5647990703582764, 0.505219578742981, 0.5675106048583984, 1.4396027326583862, -2.36993145942688, 0.3682333827018738, 3.159249782562256, -4.717529773712158, -1.25673508644104, -5.044199466705322, -3.4144771099090576, 4.177735328674316, -6.134772300720215, -0.20112846791744232, -3.680229425430298, -0.355887234210968, 4.31859016418457, -3.754854202270508, -4.490980625152588, 5.152168273925781, 2.4879136085510254, -6.156136512756348, 0.6550666689872742, -5.351326942443848, 0.3756310045719147, 1.5332310199737549, -2.1102447509765625, -4.078192710876465, 2.1479430198669434, 3.8583130836486816, 0.5728192329406738, 1.721100091934204, -6.39080810546875, -0.052279114723205566, -2.068387985229492, 2.2647976875305176, 0.9151298403739929, 1.8020451068878174, 5.888169288635254, -3.48909592628479, -7.779922008514404, 2.8304786682128906, 3.835313081741333, 3.95577073097229, 0.8744879364967346, 5.460237979888916, -1.952470302581787, 1.5579577684402466, 2.910891532897949, 2.8297152519226074, 0.7178160548210144, 3.451810836791992, 1.2486729621887207, -1.5789376497268677, -0.524278461933136, 5.3049445152282715, 1.2056852579116821, -4.31358528137207, 3.0944623947143555, -0.938689649105072, 1.439740538597107, -1.6680281162261963, -2.5589613914489746, -2.5732858180999756, -3.250549077987671, 1.8261014223098755, -4.988224029541016, 0.03900126367807388, 0.946006715297699, -1.462152123451233, 1.5933369398117065, 3.2424776554107666, 2.38639235496521, 0.5847212672233582, -5.124403953552246, -0.7485215067863464, 0.4222813546657562, 1.0994399785995483, 0.795391857624054, -5.3212409019470215, -4.210212230682373, -1.0622209310531616, -0.20086978375911713, 2.5237045288085938, -3.150547504425049, 3.5687923431396484, -4.991837501525879, 2.0848000049591064, -6.226039886474609, -1.5808757543563843, 3.937419891357422, 0.9863061904907227, 3.6126708984375, -3.5732028484344482, -2.219061851501465, -5.417098045349121, 3.212949514389038, 2.099891424179077, -4.807744979858398, 2.92590069770813, -0.5408974885940552, 0.8001116514205933, 0.7488614320755005, 0.6746745109558105, 3.880962371826172, 1.0351451635360718, 1.0490853786468506, -0.1430552750825882, 6.22813606262207, -4.869532585144043, 0.8328520655632019, 3.802788496017456, 3.9824917316436768, -5.762513637542725, -0.49702417850494385, -6.51354455947876, 0.570954442024231, 2.805088520050049, 0.522931694984436, -4.546396732330322, 3.139392375946045, 0.1388246864080429, -2.1288509368896484, -0.42849263548851013, 0.6451309323310852, -1.4187169075012207, 4.228121757507324, 0.7081241607666016, -1.8166817426681519, -8.15156078338623, -3.1041259765625, 1.1344865560531616, -7.314672946929932, -0.6042520999908447, -5.185547828674316, -3.5864450931549072, -2.646543025970459, 6.12462854385376, -5.674902439117432, -0.26602843403816223, -6.223581790924072, 1.0008571147918701, -0.13238349556922913, -7.974582195281982, -2.0590054988861084, 3.441248893737793, -0.8042453527450562, -0.3200286626815796, 2.2572739124298096, 0.9540612101554871, -2.695382595062256, -2.2969465255737305, -0.626594066619873, 4.986088752746582, -5.139737606048584, 3.377441883087158, 1.7749136686325073, -0.12237296998500824, -0.2151724398136139, 0.39427661895751953, -0.6926532983779907, -0.7493177652359009, -2.7916510105133057, 2.8545632362365723, 0.37619549036026, -2.698962688446045, -0.9771237373352051, -1.1293262243270874, 0.10100478678941727, 3.627088785171509, -1.1719245910644531, 3.1378118991851807, 0.1897740513086319, 0.09566399455070496, 5.6987528800964355, 1.7223466634750366, 4.609620094299316, 1.9617465734481812, -2.6982944011688232, -1.9726893901824951, -3.6908349990844727, -0.3154646158218384, 0.08808214217424393, 1.599695086479187, 1.0688490867614746, 1.8520433902740479, 1.6085275411605835, -0.5789037346839905, -2.914754867553711, -2.444054365158081, -2.767726421356201, 1.1259852647781372, 0.04510892555117607, -1.1061887741088867, -2.4309871196746826, 2.6639068126678467, -4.23220682144165, 1.4009840488433838, -1.3128647804260254, -1.5086709260940552, -0.6640843749046326, 1.956364631652832, 0.05186748132109642, 5.281070232391357, -0.5327895879745483, 3.2646963596343994, 2.3490121364593506, -0.017211241647601128, 1.8613104820251465, -0.7673357725143433, 4.195746898651123, -5.417796611785889, -2.0684070587158203, -0.7849206924438477, 2.176241159439087, -2.200186014175415, -4.186339855194092, 1.6735097169876099, 3.997857093811035, -3.860900640487671, -1.1538244485855103, 5.517613887786865, -6.316437721252441, 0.6671381592750549, -0.3792690634727478, -6.394768238067627, -0.7183822393417358, 3.7111072540283203, 4.180384159088135, -3.6018190383911133, -2.729649066925049, -6.578019618988037, -2.285590410232544, -2.743162155151367, -1.050140142440796, -4.853985786437988, -2.2384095191955566, 1.8758835792541504, 0.7727648615837097, -2.5016722679138184, 0.7789530754089355, -7.5738115310668945, -0.9525727033615112, 2.8721749782562256, 3.0908892154693604, 0.9421585202217102, -2.8409385681152344, -2.3863718509674072, -0.5390374064445496, -0.8344465494155884, -4.325319290161133, 2.959164619445801, 1.6995559930801392, 2.004192590713501, 0.7840231657028198, 0.9160943627357483, 1.5476841926574707, -1.4264055490493774, 1.285223364830017, 4.32193660736084, -5.389045238494873, -0.5842029452323914, -1.4804844856262207, -1.932650089263916, -2.4448060989379883, 3.4396297931671143, 2.4871559143066406, 0.03046436980366707, 2.169373035430908, -1.2687937021255493, -2.5598692893981934, -0.7333675622940063, 0.5302274227142334, -5.882009983062744, -2.367471933364868, -1.8122390508651733, -0.4623004198074341, -0.915626049041748, -1.5540659427642822, -5.496958255767822, -2.1321001052856445, -3.0354626178741455, -2.708251476287842, -1.240127682685852, -1.728490948677063, 2.8953585624694824, -6.275920391082764, 7.1359968185424805, -0.095768503844738, -0.7403663992881775, 1.5081827640533447, 1.884560465812683, 2.1807754039764404, -1.9384533166885376, 0.500468909740448, -0.24126434326171875, -3.7789766788482666, 2.824434757232666, -0.07019568234682083, 2.356658697128296, 2.2041711807250977, -0.38226211071014404, -2.931022882461548, 1.9335322380065918, -0.4999331533908844, -4.98298978805542, 1.6102449893951416, -1.207465410232544, 2.979761838912964, 2.913361072540283, -4.396222114562988, -0.3863266408443451, 0.8016238212585449, -0.8216069340705872, 0.2146996706724167, -4.143035411834717, 2.027928113937378, 0.3339376747608185, 3.209556818008423, -1.2332266569137573, 3.769843816757202, 2.9261317253112793, 3.080211639404297, -3.508641481399536, 5.1074981689453125, -0.5699634552001953, -4.561654090881348, -1.4058486223220825, 1.1307179927825928, -1.6617910861968994, 0.34818148612976074, 0.29711249470710754, 1.4828119277954102, 4.444642066955566, 0.007299485150724649, 0.04852615296840668, -0.2393326759338379, 2.7096030712127686, 3.9268605709075928, -1.6640101671218872, 2.968219518661499, 0.9191096425056458, -0.20918312668800354, -5.360372066497803, 0.7399656772613525, -0.47303974628448486, -0.48994144797325134, 0.5047903656959534, 1.276955246925354, 3.4714572429656982, -5.065827369689941, 2.6849467754364014, -1.7566789388656616, 0.47057586908340454, 0.0696101263165474, -5.141124248504639, 2.4758191108703613, -4.835639476776123, -1.90998113155365, -0.35678088665008545, -0.9725795984268188, 1.314509391784668, 1.5648953914642334, -3.0922391414642334, 2.2366983890533447, 1.6103522777557373, -1.262100100517273, -3.8331298828125, 0.3961057960987091, 3.7274575233459473, 5.171149730682373, 5.027550220489502, -0.41542041301727295, 0.5942376255989075, 0.9542238116264343, 0.06344569474458694, 5.951702117919922, -5.364173412322998, 2.299281597137451, -3.690426826477051, -5.66990852355957, 0.3295323848724365, -2.834740161895752, -1.696833610534668, 0.14931222796440125, 1.3405789136886597, -1.9070367813110352, -0.5659119486808777, 1.1902616024017334, 2.4361159801483154, 0.6936478614807129, 2.469052791595459, 3.9848756790161133, 3.5150210857391357, -4.114927291870117, -7.953163146972656, 2.0532233715057373, -3.4149060249328613, 2.125770330429077, 1.1942269802093506, -0.8873313665390015, 4.535829544067383, -0.0356302335858345, 2.8368117809295654, -1.433943748474121, -2.146476984024048, -3.5123419761657715, -1.4244011640548706, -1.8251765966415405, 0.8927046656608582, 1.432835340499878, 6.555007457733154, -1.2023334503173828, 5.501858711242676, -2.1773524284362793, -0.8052501082420349, 0.6911268830299377, -5.012509346008301, 1.9130520820617676, -3.99358868598938, 3.450547456741333, -0.5212786793708801, -4.3480401039123535, -0.4990675449371338, 6.298313140869141, 0.044139400124549866, 2.8366751670837402, 0.6769670844078064, -0.5120304226875305, -3.567997932434082, -2.2428433895111084, 3.2906601428985596, 1.6618125438690186, -4.909820556640625, 0.6233134269714355, 6.926557540893555, -1.0317903757095337, 3.0026378631591797, -4.969478130340576, 3.2338149547576904, 1.8942592144012451, -4.894506931304932, 2.121344804763794, -3.6561882495880127, 2.7443668842315674, 0.13766081631183624, -5.380853176116943, 0.4033697545528412, 3.6876208782196045, -2.610039710998535, 4.611550807952881, -0.21908853948116302, 4.34658145904541, -3.026123523712158, -2.338454008102417, -3.4133105278015137, -1.3321431875228882, -2.8249218463897705, 4.237002849578857, 1.4796627759933472, 3.2754921913146973, 1.7715578079223633, -4.2216901779174805, -0.3832014501094818, 3.532426357269287, -2.3936753273010254, 1.3380672931671143, -0.5113800168037415, 1.1511996984481812, -1.918722152709961, -1.9997378587722778, -6.2088212966918945, -0.7393813729286194, -6.281628608703613, -6.506947994232178, 1.0227159261703491, 0.7908583283424377, 2.1816604137420654, 2.798311710357666, 5.073727607727051, -4.898671627044678, 1.1567108631134033, -4.865050315856934, 2.963303804397583, -3.98164963722229, 1.4314861297607422, 4.062786102294922, -4.644876003265381, -1.5296348333358765, 4.7693986892700195, 2.809913158416748, 1.6410759687423706, -2.9209723472595215, -0.1983603984117508, -4.04383659362793, -1.161403775215149, -2.20088529586792, 2.195960760116577, -2.101497173309326, -7.569597244262695, -5.423027038574219, -8.185757637023926, -4.239500045776367, 0.47865843772888184, -0.032064300030469894, -3.323450803756714, 2.9494762420654297, -6.320357322692871, -0.07294367998838425, -7.065367698669434, 0.6138948202133179, 0.5572566390037537, -0.7782939672470093, 2.31453013420105, -4.910478115081787, 4.018568992614746, -7.325847625732422, 4.2237138748168945, -6.7848029136657715, 2.4192843437194824, -6.291737079620361, -4.92157506942749, 1.9099383354187012, 4.5858845710754395, 3.5281074047088623, 1.7820085287094116, -3.034066915512085, -0.9688994288444519, -1.5922791957855225, 1.064937949180603, -0.3949832618236542, -5.297290802001953, 5.272328853607178, -0.2428842931985855, -0.3056594729423523, 1.0491753816604614, -2.7795071601867676, 1.7035776376724243, 1.2223718166351318, -0.986266016960144, -4.944648265838623, -5.638680458068848, -3.119805335998535, 2.96797251701355, -6.478662490844727, 4.036097049713135, -6.123440265655518, 0.3011615574359894, -0.824307918548584, -4.492405891418457, -1.220028281211853, -7.898946762084961, -6.980321407318115, 5.389761924743652, -2.6967861652374268, -5.763244152069092, 6.246830463409424, 1.6818853616714478, -6.101963043212891, 1.1748740673065186, -0.35565242171287537, -3.4812490940093994, 3.6430599689483643, -6.503596782684326, -0.745100200176239, 0.9208447337150574, -0.3571169674396515, 2.980443000793457, -1.7995147705078125, 5.414852142333984, -2.0700843334198, 1.6463812589645386, 1.2087751626968384, 4.641974449157715, 7.257083892822266, 0.35711729526519775, 3.7274999618530273, 2.527355194091797, 2.072199583053589, -1.9552160501480103, 5.674266815185547, -3.378683567047119, -3.615159749984741, -1.996936321258545, 0.14012661576271057, 2.2004752159118652, 5.734304904937744, -8.541149139404297, 3.7589733600616455, -1.2478431463241577, 0.9383401274681091, 3.813074827194214, 1.677998423576355, 5.26153564453125, 5.968235969543457, -1.5180139541625977, -5.531158924102783, 5.412460803985596, 3.0038814544677734, 3.213529586791992, -0.5546332597732544, 2.5616822242736816, 3.5846805572509766, 0.43287602066993713, -1.4920063018798828, 1.2708443403244019, 7.857032775878906, 2.370558261871338, -0.7167494893074036, -1.6135801076889038, 3.7531750202178955, -7.162856578826904, 3.1427817344665527, 0.6701525449752808, 3.522975206375122, 3.2200927734375, 4.1237874031066895, 3.935220956802368, 4.14998722076416, 2.085239887237549, -1.3062411546707153, -2.017247200012207, 6.114858150482178, -0.8151136040687561, 4.400534629821777, 4.51276969909668, 5.645585060119629, 0.07740971446037292, -0.7780774831771851, -3.421900510787964, 3.0116052627563477, -0.6539433002471924, 0.4403557777404785, -0.38404548168182373, 1.6054905652999878, 1.8883616924285889, -5.898017883300781, 4.05712890625, -1.5812609195709229, -2.3609187602996826, -8.077837944030762, 2.271961212158203, 0.8733588457107544, -2.5318100452423096, -2.737480878829956, -1.7303249835968018, 2.422041416168213, -4.528636932373047, 1.9746567010879517, 1.5100113153457642, -4.573539733886719, -6.7375922203063965, -4.766659736633301, -1.2365105152130127, -2.2120792865753174, -6.167531967163086, -1.4671436548233032, 0.5004390478134155, -1.2474250793457031, 1.836646556854248, -2.430506467819214, 0.20267552137374878, 3.7612617015838623, 4.6432600021362305, -1.6643140316009521, -3.9919869899749756, 5.023351192474365, 3.4865610599517822, 3.965385913848877, -1.7609018087387085, 0.07686788588762283, 5.687869071960449, 0.5006871819496155, -0.33845341205596924, -2.3991987705230713, -1.4973735809326172, -0.8840456604957581, 2.1605143547058105, -2.6252992153167725, -3.57812237739563, -5.502967834472656, -2.3931679725646973, -4.312207221984863, 0.9348630905151367, 0.20162446796894073, -4.378729820251465, 0.31603920459747314, 4.982461929321289, -1.0951504707336426, 1.5665998458862305, 6.045222282409668, 0.5348988771438599, 2.016526460647583, -0.1751530021429062, -1.4191876649856567, 0.5736172795295715, -0.5197625160217285, 4.871417999267578, 2.9546058177948, 2.121577024459839, -0.40078723430633545, 4.764841079711914, -0.8307438492774963, 2.5020956993103027, -4.455028533935547, 4.8778486251831055, 2.6408755779266357, 0.19436456263065338, 1.8031916618347168, 0.8878046870231628, 0.44864705204963684, 3.8563482761383057, 5.099274158477783, -0.43072521686553955, 3.2387750148773193, 3.621141195297241, 0.9975151419639587, 2.565056324005127, -4.438539505004883, 2.453713893890381, -5.679468631744385, 3.14207124710083, -0.6337099075317383, -3.4123406410217285, 6.100924015045166, 0.7407609224319458, 2.6073014736175537, 3.9584271907806396, 1.6579551696777344, 6.777471542358398, 1.8596575260162354, -5.7201313972473145, 2.8262033462524414, -0.7844765186309814, 2.2827422618865967, -2.3657004833221436, 6.295161724090576, 3.707895517349243, 5.87790584564209, 0.17534922063350677, 2.689835548400879, -3.7960550785064697, 4.735179424285889, 2.2418360710144043, 4.220775604248047, -5.078372478485107, 3.796691417694092, 3.1275899410247803, 2.4786901473999023, 0.8000935912132263, -3.2128424644470215, 1.9145631790161133, 4.447318077087402, -1.6942763328552246, 2.1839606761932373, -6.03786563873291, -1.9212939739227295, -3.4774484634399414, 2.035273551940918, 3.682837963104248, 4.28232479095459, -1.1699682474136353, 1.5548661947250366, -0.5291759967803955, 5.214388370513916, -1.0792878866195679, 2.5044939517974854, -3.1341350078582764, 4.032743453979492, 0.9792482852935791, -2.875270128250122, 1.0754059553146362, -0.1946496069431305, -3.3351497650146484, 1.2274785041809082, -2.8428194522857666, -0.7063643336296082, -0.8983408212661743, -4.468845844268799, -1.1169205904006958, -6.0122270584106445, -1.943781852722168, -0.020251203328371048, 5.317499160766602, -0.5852733850479126, 1.4750397205352783, -3.8064286708831787, 1.0180004835128784, 0.7449381351470947, -0.8643582463264465, 1.8335026502609253, 0.8663432598114014, -0.4770137369632721, 4.715106964111328, 2.928985118865967, -4.526206016540527, 0.24019432067871094, 5.928873538970947, 3.9776036739349365, 1.3659029006958008, 3.812391757965088, -5.450333595275879, -0.4488115608692169, 2.297560214996338, 4.213188648223877, -2.2992072105407715, -4.173550128936768, 1.7292494773864746, 2.0603702068328857, 2.8433642387390137, -3.4061548709869385, 2.457810640335083, -0.6665926575660706, 0.17774245142936707, 2.6811888217926025, -2.274017333984375, 2.9221765995025635, -3.8179712295532227, 2.3550407886505127, 3.1964163780212402, -4.989960193634033, 3.5638859272003174, 6.685711860656738, 2.2953600883483887, 3.979680061340332, 3.8509654998779297, 0.20695267617702484, -0.06496880203485489, -2.6917734146118164, -5.26804780960083, -5.736536026000977, -0.5651498436927795, 2.8669283390045166, 2.1696512699127197, -0.2641681134700775, 4.610512733459473, 1.6018517017364502, 5.269925117492676, -2.6313767433166504, -0.8485251069068909, 2.2453396320343018, 0.9661350846290588, 2.5164504051208496, -2.8791017532348633, 0.7811774611473083, -0.340938925743103, 1.0704848766326904, 3.4288339614868164, -5.2039361000061035, 2.3388848304748535, 4.216734886169434, -4.0847320556640625, 2.971111297607422, 0.5637839436531067, -2.069762945175171, -1.7485268115997314, 3.3969457149505615, -7.167863368988037, 5.064305782318115, 4.2899370193481445, 0.5522260069847107, 4.9969635009765625, -3.975266695022583, 3.1614160537719727, -2.597395420074463, -2.330728054046631, 1.811909794807434, 4.1433610916137695, 2.6244075298309326, 4.844454288482666, 0.3142799139022827, 3.9830970764160156, 2.940657377243042, 3.969355583190918, -3.9433000087738037, -4.334457874298096, 3.2532057762145996, 1.6543625593185425, 3.653658628463745], \"y\": [-1.159624457359314, 0.25247329473495483, -11.22009563446045, -13.934026718139648, -18.155561447143555, -9.768783569335938, 7.757264137268066, -16.478435516357422, -0.6090677976608276, 12.58116340637207, -15.161486625671387, -17.404878616333008, -15.103764533996582, -4.067983627319336, -10.660706520080566, -13.098343849182129, -15.090577125549316, 12.0374116897583, -9.555098533630371, -15.400372505187988, -9.277545928955078, -0.007565376348793507, -5.067196846008301, -0.8545001149177551, -9.027634620666504, -1.349453091621399, -15.877099990844727, -0.4547889828681946, -18.083494186401367, -15.12549114227295, -1.3393019437789917, 1.6902505159378052, -3.160114049911499, -10.388829231262207, 7.818297863006592, 0.7939931750297546, -2.9100472927093506, -0.6667015552520752, -1.8222447633743286, -11.316157341003418, 15.268658638000488, -13.378230094909668, 10.937332153320312, -8.364042282104492, -12.821505546569824, -12.950684547424316, -12.371761322021484, -0.5943154096603394, -16.99892807006836, 10.548375129699707, -18.582902908325195, -7.722567081451416, 9.477505683898926, -12.954906463623047, -9.110331535339355, 5.186468601226807, 6.859013557434082, 7.223998069763184, -10.863718032836914, -12.373372077941895, 5.860701560974121, 6.853704929351807, -19.45741081237793, -13.342633247375488, 11.150776863098145, -12.444514274597168, 12.753775596618652, 11.4287109375, -16.52444076538086, -9.441570281982422, -19.318622589111328, -15.188644409179688, -2.5720694065093994, -14.968302726745605, 7.185379505157471, 3.942328691482544, -16.0902042388916, -15.997414588928223, 8.940481185913086, 9.428729057312012, 9.157861709594727, 4.042704105377197, -16.877098083496094, 5.817181587219238, 6.003539085388184, 2.337430238723755, 8.355365753173828, 8.490068435668945, 6.247403144836426, 1.26296067237854, 2.299677610397339, -14.271312713623047, 9.780563354492188, 8.950371742248535, 4.581119537353516, -19.493616104125977, 10.33414363861084, 3.044203281402588, 5.917270183563232, -16.253013610839844, -1.15024733543396, 11.408957481384277, 3.6733992099761963, 11.246827125549316, -19.532712936401367, 10.012679100036621, 7.565795421600342, 0.4590740501880646, 7.981362819671631, -15.39611530303955, 2.25807785987854, -1.8942184448242188, -13.557065963745117, 5.447619915008545, -15.811515808105469, 5.0375542640686035, 8.225503921508789, 9.243241310119629, -14.020709037780762, 7.751391887664795, 5.911855220794678, 4.542633056640625, 0.47735846042633057, 11.552131652832031, 2.172614336013794, 2.208519697189331, 3.4179983139038086, -14.01535415649414, 5.237155914306641, 2.4611082077026367, 5.6594743728637695, 10.26489543914795, -18.205350875854492, 5.077186584472656, 11.445708274841309, 3.1844630241394043, -15.985243797302246, -17.209247589111328, 2.8966054916381836, 2.9671120643615723, -15.400893211364746, 2.040839433670044, 10.697724342346191, -17.51978302001953, 8.779569625854492, 10.244590759277344, -12.927111625671387, 11.832551956176758, 1.979162335395813, 6.010654926300049, 1.3681206703186035, 5.275873184204102, 1.2284845113754272, 11.335295677185059, -0.5714502930641174, 10.905269622802734, 11.313253402709961, 13.03213882446289, 5.676430702209473, -12.220209121704102, 7.143067359924316, 7.626577377319336, 4.176811218261719, 10.109006881713867, -12.516753196716309, 12.043002128601074, -15.939881324768066, -16.651906967163086, -13.023558616638184, 3.1887049674987793, 8.45761775970459, 2.5310986042022705, -9.76201057434082, -14.45780086517334, 1.2565984725952148, 9.48038387298584, -10.015423774719238, -13.447766304016113, 1.8630261421203613, -16.22251319885254, 3.625304698944092, -9.014077186584473, 1.114004373550415, -17.55439567565918, -16.88792610168457, 8.97087574005127, -13.020387649536133, 6.462331771850586, 8.723981857299805, 4.846750736236572, 11.857117652893066, -17.713788986206055, -15.16082763671875, -14.638957023620605, 8.581056594848633, 6.623353004455566, 4.440256118774414, -0.6379480361938477, -0.7276390790939331, 1.7893885374069214, 4.95095682144165, 2.3463990688323975, 3.0929200649261475, -17.464862823486328, -13.12805461883545, 1.827924132347107, 10.745105743408203, 5.215109825134277, -9.651896476745605, 3.078040361404419, 2.0892603397369385, -14.01705265045166, -16.417835235595703, 3.7800753116607666, 4.438873291015625, 4.41574764251709, 3.1761462688446045, -16.639944076538086, -18.919904708862305, 2.035348653793335, -12.990293502807617, 3.6025924682617188, -16.88365364074707, 8.55508041381836, 9.573904037475586, 9.667017936706543, 12.120183944702148, 10.94828987121582, 12.237907409667969, -11.479559898376465, 6.8259453773498535, 10.166444778442383, -15.917414665222168, -16.867143630981445, 8.8264741897583, 3.313828229904175, 3.6915283203125, 5.3003692626953125, -14.021854400634766, -12.605358123779297, 5.329336643218994, 3.0161850452423096, -12.421008110046387, 7.286253452301025, -14.493988990783691, 9.824972152709961, 7.014904022216797, 6.549687385559082, 12.680188179016113, -15.742290496826172, 9.05634880065918, 1.529425024986267, -14.702656745910645, 7.597485065460205, 10.081543922424316, 0.20444637537002563, 0.6044135689735413, 9.430038452148438, -12.232017517089844, 8.396632194519043, -13.34559154510498, 7.416362285614014, -16.766632080078125, 2.9061412811279297, 9.744458198547363, 6.912689208984375, -18.331151962280273, 7.3745293617248535, 7.918476104736328, -0.5913306474685669, 1.6131584644317627, 3.653937816619873, 2.7427592277526855, -12.54938793182373, -12.065106391906738, 10.531021118164062, -17.985538482666016, -17.75922393798828, 1.7838622331619263, 8.653247833251953, 11.935493469238281, -12.659344673156738, 10.120169639587402, 2.7163500785827637, -15.438203811645508, 4.858423709869385, 9.079081535339355, 3.370643138885498, 9.193968772888184, -0.8145869374275208, 1.0591903924942017, 0.808854341506958, 7.471964359283447, 5.373554706573486, 5.809578895568848, -14.51704216003418, -12.341597557067871, 9.239891052246094, 5.1320600509643555, 0.3788432478904724, 2.9304065704345703, 9.490013122558594, -17.21439552307129, -15.094928741455078, -10.911840438842773, 4.746753215789795, 2.9446821212768555, 4.5395989418029785, 14.445289611816406, -16.969799041748047, -16.050424575805664, 13.256750106811523, -8.36213493347168, -12.721864700317383, 6.897805213928223, -0.3199070990085602, 3.3351755142211914, 6.6054277420043945, 5.7135796546936035, 3.634023904800415, 2.2027816772460938, 4.002817630767822, -15.839524269104004, 4.133875370025635, 7.3795270919799805, 1.2712345123291016, -18.527912139892578, -18.446033477783203, -13.373053550720215, -11.63041877746582, 7.685863018035889, -16.667570114135742, 9.069869041442871, 10.286764144897461, 8.411239624023438, -15.410426139831543, 2.612497568130493, 3.201606512069702, -13.234848976135254, -15.25749397277832, 2.442094564437866, 10.515804290771484, -14.122359275817871, 11.49141788482666, -16.589500427246094, -15.023337364196777, 4.386728286743164, 14.225851058959961, -13.92102336883545, -16.833824157714844, 0.6185793280601501, 3.279336452484131, 8.165135383605957, 3.8296196460723877, 9.077704429626465, 10.959630966186523, 8.448590278625488, 3.4017655849456787, -20.01384735107422, 0.9798669815063477, 1.46634840965271, 3.128955602645874, 3.0011231899261475, 12.931886672973633, -15.129318237304688, 4.469107151031494, -17.30805015563965, 9.761874198913574, 9.856488227844238, -0.011451555415987968, 9.940537452697754, 5.371304512023926, -16.991336822509766, -12.674500465393066, -15.794445991516113, 10.44067668914795, 6.278275012969971, -11.996150016784668, 4.035050868988037, 2.1055283546447754, -13.367984771728516, 2.816514730453491, 6.330687999725342, -3.215956687927246, 1.7388828992843628, 9.66663646697998, 7.412722587585449, 6.605121612548828, 1.6261558532714844, -1.3420461416244507, 9.3328857421875, 10.588576316833496, 2.3731882572174072, 5.742363929748535, 7.619074821472168, 3.678203582763672, 9.880762100219727, -14.66189956665039, 0.11178411543369293, 7.870333194732666, 7.4011688232421875, 7.440979480743408, 12.995930671691895, 1.2488678693771362, -16.923446655273438, 7.2962727546691895, -13.241524696350098, 2.7281548976898193, -12.031106948852539, -0.36197492480278015, 5.694337844848633, 2.924577474594116, -19.991317749023438, 5.154701232910156, 0.43648362159729004, 10.511039733886719, 8.388238906860352, 4.7402143478393555, -18.42339324951172, -15.155080795288086, -1.4412012100219727, 6.279878616333008, 3.580695629119873, 3.1284937858581543, -13.599900245666504, 10.632903099060059, 7.147511959075928, -11.368443489074707, -1.633315920829773, -15.959454536437988, 4.543163776397705, 8.323674201965332, 6.1313347816467285, -12.964512825012207, -19.1158504486084, 3.3356287479400635, 9.773065567016602, -16.56986427307129, 8.008353233337402, -13.3342924118042, 9.909708976745605, 8.433622360229492, -14.363475799560547, -18.263092041015625, 7.321388244628906, -10.668002128601074, -17.92954444885254, 11.042088508605957, -14.384990692138672, -9.97680950164795, 8.191767692565918, -16.205829620361328, 11.32407283782959, 4.977797985076904, -13.631580352783203, 3.7227399349212646, 0.0576266273856163, -15.182722091674805, 8.291930198669434, 8.174243927001953, 1.11307954788208, -14.482882499694824, 10.477132797241211, 10.963652610778809, -0.13913460075855255, 2.3559138774871826, 8.285456657409668, -18.681947708129883, 11.86337661743164, -13.612407684326172, 6.956155300140381, 11.155159950256348, 8.818991661071777, 4.645257949829102, 9.769759178161621, 9.070385932922363, 6.073423862457275, -10.924225807189941, 1.5157521963119507, 5.676995277404785, 13.398558616638184, 6.875949382781982, -11.073482513427734, -17.11176872253418, 8.319663047790527, -17.75370216369629, 2.049750566482544, -2.273817539215088, 2.219752073287964, -13.44497299194336, 5.995391845703125, -14.102080345153809, -10.832602500915527, -17.37689208984375, -12.8367280960083, -12.640676498413086, -0.6716784834861755, -12.62380313873291, 10.282551765441895, 0.600394070148468, 2.863891363143921, -0.2541418969631195, 1.1228866577148438, 5.692688465118408, -1.6726995706558228, -13.475373268127441, 7.556817054748535, 13.746927261352539, -2.8899168968200684, -8.327695846557617, -17.51567840576172, 13.30361557006836, 2.4006927013397217, -14.994236946105957, 9.400177955627441, 12.621076583862305, 10.496413230895996, 8.020099639892578, 0.5916122794151306, 2.0238263607025146, -2.900367498397827, -16.86394500732422, -12.267473220825195, -13.48327350616455, -19.30419158935547, 8.342303276062012, -2.998199939727783, 9.570128440856934, 0.8031539916992188, -0.1604699343442917, 3.569744825363159, -16.43404769897461, -13.83468246459961, 9.9342041015625, -12.777457237243652, -15.365939140319824, 0.3145236670970917, -17.911434173583984, 1.457895040512085, -0.5789194703102112, 2.6793248653411865, -11.783432960510254, 5.6231207847595215, 2.656914710998535, 13.896849632263184, -16.52374267578125, 10.088711738586426, -13.317928314208984, -12.558701515197754, 10.282658576965332, 11.713123321533203, 3.8809854984283447, -15.888547897338867, 5.712188243865967, 10.325090408325195, 5.80070161819458, -12.833992004394531, 5.7965288162231445, -18.54531478881836, 0.30520883202552795, -18.55322265625, -19.293838500976562, 10.968856811523438, -12.388493537902832, 8.807109832763672, 10.951436042785645, 10.78454875946045, 0.13761793076992035, -11.506789207458496, -12.160547256469727, -1.1458826065063477, -12.833587646484375, -16.35888671875, -17.194175720214844, 0.649612307548523, -17.775754928588867, 5.3486151695251465, 8.733101844787598, 2.207423210144043, 5.493618488311768, -1.4173144102096558, 5.786326885223389, -12.72069263458252, 5.229129314422607, 14.399531364440918, 11.071310997009277, -0.07338625937700272, 8.77460765838623, 9.657681465148926, -17.139331817626953, 6.92437219619751, 13.139541625976562, 0.1989974081516266, -16.682613372802734, 2.0435690879821777, 10.284279823303223, -15.646746635437012, -16.58350944519043, -10.393410682678223, -17.714466094970703, -15.448431015014648, 5.398921489715576, -8.065417289733887, 8.05634880065918, -10.702249526977539, 2.8600077629089355, -18.378475189208984, -18.26999855041504, 7.934096813201904, 3.7287042140960693, -11.663460731506348, 2.180182695388794, -2.7300407886505127, 1.7584741115570068, 11.572900772094727, 11.793704986572266, 4.331862926483154, 5.928067207336426, 2.9598071575164795, 0.21313542127609253, 1.9812958240509033, 10.015031814575195, 9.621748924255371, 0.24303385615348816, -13.124872207641602, -18.77920150756836, 7.6887526512146, -16.6346378326416, 3.476201295852661, 10.838397026062012, 6.920673370361328, -0.04854009672999382, 7.194550514221191, -16.819080352783203, 0.9041858315467834, 1.4629215002059937, 3.0071182250976562, 2.3305447101593018, -13.288619041442871, 3.0600857734680176, -12.849254608154297, 2.9946014881134033, 6.631805419921875, 2.4555823802948, -16.89830780029297, 4.67455530166626, -12.754426956176758, 4.9843950271606445, -18.971160888671875, 2.911099672317505, 12.0786771774292, 10.380864143371582, 3.2216148376464844, -16.68701171875, 9.818516731262207, 3.948164224624634, -16.603992462158203, 2.804591655731201, 6.519339561462402, -15.597500801086426, -18.046295166015625, 9.236360549926758, 0.13409513235092163, -0.19372890889644623, -12.429548263549805, 3.611236572265625, -16.51017189025879, 4.573389530181885, -0.7778657674789429, 10.422598838806152, 3.1170477867126465, 10.605052947998047, 10.656620025634766, 3.9502718448638916, -11.26640510559082, 11.873124122619629, 2.563822031021118, -13.370840072631836, -13.218085289001465, 5.2759246826171875, -12.633732795715332, 11.156185150146484, 3.112929344177246, -9.705080032348633, 10.820764541625977, 10.58485221862793, 10.03995418548584, 14.736868858337402, -14.402351379394531, -17.03096580505371, -16.566715240478516, -15.139863967895508, -19.735950469970703, 1.9632153511047363, -15.138620376586914, -13.231172561645508, 1.2813024520874023, 9.462904930114746, 6.880365371704102, -12.56261157989502, 4.734070777893066, 10.550646781921387, -4.106488227844238, -18.099016189575195, 8.053186416625977, 5.13938570022583, -15.38664722442627, -19.001985549926758, 1.8049569129943848, -9.121321678161621, -10.930960655212402, 12.516166687011719, 3.4073903560638428, -1.4131890535354614, 7.1721038818359375, -10.189712524414062, -9.746865272521973, -12.736413955688477, 7.153999328613281, 7.436665058135986, -9.669248580932617, 8.229263305664062, 2.3421080112457275, -7.631577968597412, -6.174619674682617, -3.249284029006958, -9.308398246765137, -13.353584289550781, -16.28912353515625, -10.927993774414062, 2.3786120414733887, -16.90648078918457, 3.407593250274658, 4.964338779449463, 0.12042796611785889, -13.459423065185547, 4.130217552185059, 7.548375129699707, 8.898889541625977, -11.62205696105957, 4.748560905456543, 3.5050482749938965, 3.3117494583129883, -11.359216690063477, 0.017085706815123558, 9.037494659423828, 7.079765319824219, -13.705225944519043, -14.779500007629395, -18.626895904541016, 1.0778162479400635, -16.394718170166016, 5.218433380126953, 8.600475311279297, 12.649097442626953, -13.717086791992188, 9.361644744873047, 7.486150741577148, -15.46976089477539, 13.82610034942627, -17.621444702148438, 10.63621997833252, 9.462190628051758, 9.187530517578125, -0.5025553107261658, 9.162060737609863, 7.386477470397949, -17.676450729370117, 6.517228603363037, -18.498315811157227, 9.11330509185791, 2.0411441326141357, 0.570597231388092, 6.687084197998047, 1.6571533679962158, 13.558370590209961, 3.3912978172302246, 4.4377007484436035, 7.006896018981934, 1.4298609495162964, 5.5216851234436035, 8.077677726745605, 2.4752230644226074, 1.8462468385696411, 7.141841888427734, -18.39944076538086, 7.90979528427124, -11.476140975952148, 10.541426658630371, 9.730111122131348, -17.264484405517578, 6.3575439453125, -11.539301872253418, 4.947707176208496, 8.599849700927734, 0.5632185339927673, 12.41804313659668, -14.488162994384766, 5.950279712677002, 12.170517921447754, 7.462051868438721, 2.172628164291382, 0.6263962388038635, 0.9166516661643982, -13.174296379089355, 11.409157752990723, 12.416598320007324, 5.035455226898193, -15.698124885559082, 9.174370765686035, -16.150293350219727, -11.106965065002441, 5.785858154296875, -1.5889275074005127, 2.0416622161865234, -14.302359580993652, 3.5653867721557617, -17.894847869873047, -9.320987701416016, -14.200986862182617, -12.49001693725586, -12.653791427612305, 9.583539009094238, 4.063189506530762, 3.156275749206543, 10.535923957824707, -15.531586647033691, 9.122559547424316, 2.7197933197021484, -16.941606521606445, 5.839941024780273, 1.2586636543273926, -18.77090835571289, -10.838024139404297, -15.3190336227417, -10.498331069946289, -17.95458221435547, -17.831300735473633, -11.278155326843262, 11.036108016967773, 5.594178199768066, 10.975934028625488, -14.601049423217773, 1.6582300662994385, 7.458196640014648, -12.488771438598633, 0.3685609996318817, 6.078423023223877, 2.46179461479187, 2.3449902534484863, -12.859331130981445, -2.6830694675445557, 11.354084014892578, 5.63465690612793, 1.405160903930664, 1.0632941722869873, 3.3764700889587402, -15.779923439025879, 9.521016120910645, -11.605995178222656, -1.1173663139343262, 8.855474472045898, -0.09350476413965225, 7.093398571014404, 2.6483819484710693, -17.105628967285156, 9.58761215209961, 9.65301513671875, -11.08426284790039, 1.8282822370529175, -10.68747329711914, 11.582354545593262, 8.382528305053711, 3.115185499191284, 5.128506660461426, 8.983118057250977, 7.669421672821045, 6.314343452453613, 1.8664292097091675, -12.68335247039795, 1.5310906171798706, 3.978323459625244, 10.685545921325684, -15.800535202026367, -14.918394088745117, -13.933266639709473, 1.6194876432418823, 6.560494899749756, 0.40682512521743774, -9.90293025970459, -16.76683235168457, -16.115896224975586, -13.224019050598145, 11.068892478942871, -17.27105712890625, 3.9840407371520996, 3.907433271408081, 10.150474548339844, 0.7281540036201477, 5.198507785797119, 3.4202730655670166, 7.830211639404297, 13.038453102111816, -18.41305160522461, 7.1172003746032715, -17.542469024658203, -12.91504192352295, 2.161139488220215, -12.969398498535156, 8.290061950683594, 6.420625686645508, 8.343738555908203, 9.918238639831543, 7.256870746612549, -10.979768753051758, -17.14943504333496, 1.31667959690094, 1.260644793510437, -15.18799114227295, -14.08965015411377, -2.0905802249908447, -18.160490036010742, 6.484127998352051, 7.51526403427124, 0.08763010054826736, 1.0376938581466675, 4.004543781280518, 1.3603441715240479, 4.7601399421691895, 0.7041352391242981, -18.29670524597168, 10.232328414916992, 8.03024959564209, -18.040603637695312, -14.958325386047363, -15.30435848236084, 10.470914840698242, -12.524666786193848, 1.9151756763458252, -12.857934951782227, -12.870911598205566, 6.114565372467041, 8.924114227294922, -13.137764930725098, 5.577960014343262, -13.001103401184082, 6.276360034942627, 3.8368799686431885, 2.5247421264648438, 4.971213340759277, 1.51223886013031, 2.447739839553833, -17.637502670288086, -16.21775245666504, 6.435120582580566, 8.32401180267334, -14.830466270446777, -13.824913024902344, -10.760143280029297, 5.6317315101623535, 9.89860725402832, 6.634914875030518, -12.898865699768066, 7.601931571960449, 2.429351329803467, 13.41240406036377, 5.123905658721924, 5.66847562789917, -11.809976577758789, 9.24262809753418, -18.015113830566406, 5.427953720092773, 2.79207181930542, -16.961620330810547, 8.560595512390137, 7.7534050941467285, 6.37487268447876, -17.243549346923828, 3.310351848602295, -11.057028770446777, -11.816079139709473, -1.1268740892410278, 9.506372451782227, 8.952544212341309, -17.014419555664062, 7.568253517150879, 6.385480880737305, -11.562219619750977, -12.56789779663086, -18.0988826751709, -12.527463912963867, 5.287959098815918, 4.58969783782959, -12.631144523620605, -13.555994987487793, 2.009805679321289, 8.445003509521484, 10.232898712158203, -12.440906524658203, -17.475326538085938], \"z\": [-8.515168190002441, 7.127265930175781, -9.063240051269531, 3.6227307319641113, -8.804998397827148, 4.059653282165527, 9.935454368591309, 8.835554122924805, 2.8002982139587402, -8.941489219665527, 11.541857719421387, -5.966034412384033, 4.613157749176025, -2.917689561843872, -2.3418121337890625, 2.424745559692383, 4.704189777374268, 4.847303867340088, -8.977444648742676, -5.481655120849609, 3.8838813304901123, -6.234763145446777, -3.19307017326355, 3.567214012145996, 3.0056655406951904, -3.4744021892547607, -5.943584442138672, -0.42194315791130066, -0.9333971738815308, 1.8427069187164307, 1.2153213024139404, 10.233205795288086, -4.601914882659912, -0.6426348686218262, -2.7375431060791016, -5.077696800231934, 2.694983959197998, -0.7521233558654785, -7.237273216247559, 4.605251312255859, 2.9012720584869385, 0.9505776762962341, -0.9437233805656433, 1.1258997917175293, -0.9412119388580322, 3.0062520503997803, -0.5995861887931824, 3.2410964965820312, -5.944515705108643, 4.155419826507568, 8.758123397827148, -8.483119010925293, -3.680312156677246, 2.9238741397857666, 5.0516157150268555, 13.99737548828125, 14.275253295898438, 0.5588380694389343, -0.09809713810682297, -4.9262285232543945, 1.6805680990219116, 0.5959828495979309, 1.5372384786605835, 1.5640000104904175, 1.3142085075378418, -0.642987072467804, 2.7857563495635986, 4.9563889503479, -5.7147932052612305, 6.734838008880615, 1.4061787128448486, 5.4081130027771, -8.808051109313965, 6.720157146453857, -13.901951789855957, -8.926918983459473, -4.250205993652344, 1.9459668397903442, -15.250042915344238, -11.637913703918457, -11.75631046295166, -8.720357894897461, -4.847475051879883, 1.4422261714935303, 7.473516941070557, 8.900506973266602, 5.279926300048828, 6.273169994354248, -2.0969889163970947, -8.365297317504883, -10.625826835632324, 9.881942749023438, -1.99578058719635, 9.184303283691406, 11.740954399108887, 0.8161134719848633, -4.012209415435791, 7.294178485870361, 3.851020574569702, -4.006952285766602, -9.48603343963623, 4.34537410736084, 7.5134968757629395, -2.8367393016815186, 3.0000672340393066, -6.563970565795898, 0.4457938075065613, 4.699676036834717, -13.293966293334961, 1.9109387397766113, -9.778752326965332, -7.741910457611084, 11.689099311828613, -9.469647407531738, -8.17823314666748, -9.768836975097656, 12.160565376281738, 9.263710975646973, 5.055909633636475, 4.519030570983887, -10.099259376525879, -2.7660531997680664, 6.426732540130615, 1.7655912637710571, -2.736419916152954, 6.74047327041626, 12.28693675994873, 4.749735355377197, 6.914560317993164, 6.468594551086426, -0.17078723013401031, -3.7881839275360107, 7.809042453765869, 9.545265197753906, 5.79337215423584, -9.760650634765625, -6.85848331451416, 5.363704204559326, 6.467137336730957, 0.8960492014884949, 7.449524402618408, -6.640048980712891, -2.3942294120788574, -6.128635883331299, 5.470598220825195, -8.728336334228516, 8.860211372375488, 3.5741028785705566, 7.136807441711426, -1.4898865222930908, -9.293285369873047, -11.02795124053955, 1.8294785022735596, -1.5703285932540894, -7.3396759033203125, -3.2943978309631348, 2.8593263626098633, 2.8646762371063232, -16.334938049316406, 5.993767738342285, 12.103857040405273, 0.2688160538673401, -13.43055534362793, -14.29918384552002, 4.9263129234313965, 4.746743202209473, 6.7465500831604, 1.8884227275848389, -4.719079494476318, -2.603292226791382, 0.14303822815418243, 8.233016967773438, 4.504595756530762, -8.281110763549805, -0.8132157921791077, 5.3526611328125, 4.46382999420166, -8.134601593017578, 8.10101318359375, 5.06919002532959, -0.38578593730926514, 7.667496204376221, 10.27625846862793, 4.588491916656494, 2.6631107330322266, 11.52911376953125, 0.7737018465995789, -0.0193229541182518, -9.887040138244629, -10.55215835571289, 3.7620017528533936, -6.910099983215332, 10.261924743652344, -8.855265617370605, 9.617863655090332, 11.445252418518066, -0.8338847756385803, 5.322821617126465, -10.579536437988281, -2.0933752059936523, -2.281029224395752, 0.0602523572742939, 13.160537719726562, -4.726105690002441, -8.681734085083008, 10.81020736694336, -11.10116195678711, -1.8246757984161377, 8.027549743652344, 6.867216110229492, -1.329146146774292, 0.4922462999820709, 0.5582362413406372, -9.382271766662598, -2.6787290573120117, -0.5882222056388855, 6.644248962402344, 2.716597080230713, 1.7408511638641357, 2.2554821968078613, -9.278225898742676, 4.643604755401611, -4.8031768798828125, -14.122632026672363, 8.26332950592041, -10.534432411193848, 0.11948894709348679, -10.037115097045898, 5.948892593383789, -0.2827208340167999, 10.143903732299805, -1.929166555404663, 5.842669486999512, 5.391664028167725, 7.450596332550049, 4.050623416900635, 4.952609062194824, -9.883991241455078, 4.744676113128662, -9.110748291015625, -1.7510473728179932, 5.942007541656494, -6.579408645629883, 6.9269208908081055, 6.957528591156006, 7.358262538909912, -10.145926475524902, -14.781734466552734, -0.08373810350894928, -6.581157207489014, -0.9250665903091431, 1.1038838624954224, 5.102980613708496, 0.26092925667762756, -7.063985347747803, 4.26545524597168, -10.098340034484863, 7.084517478942871, -0.03886360302567482, 5.5870161056518555, -7.387297630310059, -0.6149820685386658, -8.138789176940918, 0.12337023764848709, -2.455209493637085, 6.816091537475586, 5.5681352615356445, 10.090317726135254, -13.103240013122559, 4.747141361236572, 4.386585235595703, 12.044371604919434, -11.150317192077637, -7.4893598556518555, 5.011874198913574, 1.1284996271133423, 0.28161725401878357, -6.948948860168457, 4.359995365142822, -9.728901863098145, 0.27110666036605835, -7.112217903137207, -9.222345352172852, -7.78829288482666, -7.534050464630127, 5.080450534820557, 3.1317903995513916, 4.957291603088379, 7.725743293762207, -11.085227966308594, -8.151165962219238, 4.185923099517822, 0.05862109363079071, 4.372073173522949, 1.7385072708129883, 9.247703552246094, 7.768117427825928, -13.421144485473633, 0.10843067616224289, -8.634742736816406, 9.40844440460205, 8.2004976272583, 1.808345079421997, 6.915640354156494, 5.692936420440674, -14.145565032958984, 5.590664386749268, -13.007061004638672, 2.661294937133789, 2.99355411529541, 2.7712769508361816, 3.427633285522461, 7.164963722229004, -8.590147972106934, -1.2709405422210693, -10.081013679504395, -2.7258424758911133, 8.28663444519043, -14.608893394470215, 12.835820198059082, 8.898119926452637, -11.80707836151123, 5.799546241760254, 9.60877513885498, -10.853455543518066, -7.558763027191162, 4.0386457443237305, 6.194714069366455, -3.149235486984253, 6.489178657531738, 10.328435897827148, 1.3198163509368896, 0.8610160946846008, -5.339022636413574, 5.8264360427856445, -4.20231819152832, 5.99223518371582, -10.04857349395752, 1.1325513124465942, -0.37311458587646484, -10.783844947814941, -10.965025901794434, 5.112062931060791, -0.7667661309242249, 8.069897651672363, -3.911743640899658, 9.605838775634766, 5.003027439117432, 5.1346588134765625, 1.8820717334747314, 0.9259166121482849, -11.345495223999023, 5.605550765991211, 11.693527221679688, 3.117327928543091, -11.044219017028809, -2.650092124938965, 4.296855926513672, 0.778904378414154, -4.778737545013428, 7.532523155212402, 5.868218898773193, 1.5122431516647339, 2.276008367538452, 5.926677703857422, -13.431391716003418, 2.381834030151367, 9.954255104064941, 7.005368232727051, 4.282236099243164, 0.2145763486623764, -1.8186111450195312, -5.247116565704346, -2.4692041873931885, 5.7049126625061035, 1.1942070722579956, -13.198075294494629, 5.820257186889648, 12.544281005859375, -6.6381330490112305, 6.8670573234558105, -0.40120500326156616, -12.455448150634766, -9.25305461883545, 6.798401832580566, -3.899118185043335, -0.36641424894332886, -0.8491403460502625, -1.1986926794052124, -8.65044116973877, 2.5530638694763184, -4.653764247894287, -11.998010635375977, -10.535446166992188, 6.6435699462890625, 11.89453125, -6.795833110809326, 6.585187911987305, -7.4984540939331055, -10.182903289794922, 4.337198734283447, 1.4649664163589478, 3.379575490951538, 10.772831916809082, 6.322900772094727, 10.49810791015625, -5.884845733642578, -1.685321569442749, 6.663034439086914, 8.718891143798828, 5.911495208740234, -7.86033296585083, 2.8782413005828857, -13.762554168701172, 4.483159065246582, -1.3874460458755493, 4.792996406555176, 7.622161865234375, 6.343360900878906, -3.5796937942504883, -8.551435470581055, 2.2358908653259277, 4.323444843292236, 8.083637237548828, -4.259882926940918, 6.665849208831787, 9.65990161895752, 6.192729473114014, -8.939976692199707, -3.86726450920105, -9.682631492614746, 11.555839538574219, 1.2285561561584473, 5.590185642242432, 0.6139020323753357, 0.3336764872074127, 6.370208740234375, -4.936865329742432, -13.774823188781738, -8.308507919311523, -7.356833457946777, -14.80019474029541, -8.401289939880371, -2.7342636585235596, -2.0328445434570312, 4.594936370849609, 2.5408318042755127, -0.0833793431520462, -5.781463146209717, 9.035909652709961, 1.6767237186431885, -6.660581588745117, 1.2674827575683594, -14.055495262145996, 10.91711711883545, 12.256357192993164, -0.04761861264705658, -6.951269626617432, -15.26312255859375, -16.248544692993164, 6.958894729614258, -6.924317836761475, -0.8352779746055603, -12.551650047302246, 2.5737192630767822, -10.662930488586426, -12.985921859741211, 4.082344055175781, 4.970491886138916, -5.267386436462402, -10.314172744750977, 7.19978666305542, 5.275355339050293, -10.606647491455078, 1.217424988746643, 9.347161293029785, 10.938071250915527, 4.501486301422119, -8.525014877319336, 6.815499782562256, 2.3805370330810547, 1.5086570978164673, 4.7816314697265625, -2.628847360610962, 11.958479881286621, -3.5293734073638916, 1.2990896701812744, -9.457977294921875, -9.80162525177002, -9.894237518310547, -13.580429077148438, 9.748805046081543, 2.4123239517211914, 1.1392455101013184, -6.192777633666992, 8.490889549255371, 7.5715155601501465, 7.469308376312256, -1.0282845497131348, -9.259406089782715, 6.346072673797607, 0.2460929900407791, -6.9657206535339355, -1.93378746509552, -8.852972984313965, -9.242513656616211, -15.6505708694458, 4.62430477142334, -9.451083183288574, 6.710072040557861, -7.700462818145752, 3.410400629043579, 4.597294330596924, 0.3691466450691223, -14.230613708496094, -0.5400267839431763, -1.003342866897583, -15.735664367675781, 0.7190433740615845, 5.56282377243042, -8.750978469848633, -3.146620273590088, 0.8477210402488708, -2.666334629058838, 1.5912028551101685, 12.208125114440918, -9.522478103637695, 8.207284927368164, -0.5823773741722107, -11.224214553833008, 7.460546970367432, 1.8929287195205688, 6.726595401763916, -0.44179221987724304, 9.16229248046875, 3.0589733123779297, 9.644466400146484, -4.416036128997803, -5.576085090637207, 4.959011077880859, 2.4202969074249268, 7.151092529296875, 5.693238258361816, 7.977124214172363, 5.447168827056885, 7.914203643798828, -7.683432102203369, 6.703434944152832, 7.827743053436279, -8.679649353027344, -2.3398172855377197, -8.543249130249023, -6.1560773849487305, -16.345827102661133, 0.6054143905639648, 8.335477828979492, 6.549135684967041, -14.157145500183105, 5.124703884124756, 4.627277851104736, -3.223130226135254, 2.0450117588043213, 1.1758475303649902, 10.002856254577637, 3.8015096187591553, -12.315340042114258, 3.299628257751465, 0.30701130628585815, 9.73165225982666, 10.358302116394043, -8.967195510864258, 9.866016387939453, 7.494635581970215, 1.7851388454437256, 8.835526466369629, 2.032703399658203, 7.593832492828369, 7.076260566711426, -8.267951965332031, -10.58213996887207, -8.511591911315918, -12.309432983398438, -3.096108913421631, 8.263072967529297, 2.6379919052124023, -11.020378112792969, -10.918761253356934, 1.3816319704055786, 9.484550476074219, 2.365154504776001, 2.0467519760131836, 0.5657110214233398, 3.888761043548584, 6.704273700714111, 3.52339243888855, -2.623037815093994, 6.989799499511719, 0.8110246062278748, 5.425263404846191, -3.2102324962615967, 5.694579124450684, -3.0299437046051025, 6.04443359375, 10.6018648147583, 7.649825096130371, 6.580033302307129, 6.327569961547852, 0.5484345555305481, 4.476279258728027, 8.625146865844727, 0.7076274752616882, -8.302775382995605, -9.680395126342773, -10.890869140625, -11.158782958984375, 1.3798108100891113, -1.7620927095413208, -2.8886940479278564, -2.9045443534851074, -11.19082260131836, 1.918777346611023, -2.407980442047119, -1.5330027341842651, 0.8370655179023743, -2.9410083293914795, 5.9007463455200195, 11.698447227478027, -8.724394798278809, -0.6605281829833984, -12.720513343811035, -1.3555947542190552, 5.892070770263672, -15.685001373291016, -3.990062952041626, -8.358596801757812, -5.798295497894287, -7.687608242034912, 2.2022976875305176, 10.810802459716797, 3.798426628112793, -8.74345588684082, 7.075184345245361, 11.175430297851562, -6.846495151519775, 0.10503222048282623, -14.154160499572754, -5.904524803161621, -9.5300874710083, -0.2144521325826645, -11.827470779418945, 0.09069766104221344, 3.2241251468658447, 0.11874981969594955, 6.652458190917969, 5.246474742889404, 10.187986373901367, -4.460157871246338, -8.57895278930664, -1.8496333360671997, 2.1514298915863037, 2.809475898742676, -2.730513572692871, 2.664545774459839, -8.88216781616211, 7.022726058959961, 5.351420879364014, 4.312437057495117, 9.644013404846191, 5.121645927429199, 4.466209411621094, 1.594932198524475, -10.344837188720703, -0.8241257667541504, 3.0657122135162354, 5.642313480377197, -1.7696572542190552, 8.139633178710938, 10.429542541503906, 6.482006549835205, 9.549839973449707, -4.547260284423828, -0.2012500762939453, -11.37960433959961, 4.595810890197754, 2.045287609100342, 4.9513444900512695, -7.781435966491699, 4.052665710449219, 10.54664421081543, 2.532707691192627, -0.39116793870925903, 3.153860330581665, 2.2368648052215576, 0.4518393874168396, 11.347304344177246, 6.070997714996338, -6.309315204620361, -10.291337013244629, -16.01213264465332, 0.12227819859981537, -3.3671109676361084, -11.004758834838867, -2.9503962993621826, -0.9590038061141968, -9.32375717163086, 13.293445587158203, 9.468337059020996, 8.952216148376465, 1.211835265159607, 1.2779600620269775, -0.6804623603820801, 2.2402422428131104, -1.9934927225112915, -3.2736799716949463, -1.378770351409912, 7.370210647583008, 4.023021697998047, 3.6188085079193115, -1.4416745901107788, 2.1074140071868896, -8.997796058654785, 12.339967727661133, 1.4471515417099, -8.449773788452148, 5.8568291664123535, -4.519141674041748, 8.30997085571289, 5.641635417938232, 6.6426920890808105, 4.302307605743408, -1.0654352903366089, -4.416812896728516, 2.7699384689331055, -3.5772769451141357, 0.4550735354423523, 10.866487503051758, -9.59957218170166, -13.265971183776855, -14.092080116271973, -0.4702523350715637, -1.0938652753829956, -7.361532211303711, -8.149276733398438, 1.4161121845245361, -7.265702724456787, -13.467781066894531, -10.139203071594238, 10.532803535461426, -7.4386305809021, 2.547210931777954, 7.2715678215026855, -5.824972152709961, 12.00213623046875, 9.671931266784668, 0.7122021913528442, -8.410868644714355, -11.370813369750977, -0.19913068413734436, 0.45982295274734497, 4.848806381225586, 3.8664095401763916, -0.7643553614616394, 0.45042604207992554, 6.280472278594971, -9.609521865844727, 10.206624984741211, 10.563684463500977, -6.2820611000061035, 8.519426345825195, -7.01738977432251, -11.342835426330566, -7.760550498962402, 2.0575222969055176, 9.909066200256348, -7.704540729522705, 1.240465760231018, -0.6047840118408203, -2.319504976272583, -15.698335647583008, -9.187260627746582, -9.893172264099121, 10.603436470031738, 8.253422737121582, -9.109476089477539, -14.555929183959961, 2.9799904823303223, 0.6411459445953369, 6.330718040466309, -13.162766456604004, -9.450474739074707, 6.517971038818359, -9.935303688049316, -0.10813917219638824, -14.538553237915039, 10.271904945373535, 10.500885009765625, -0.8533626794815063, -6.203563213348389, -11.480772972106934, 3.0955452919006348, -2.1407363414764404, -1.2108243703842163, -0.1434767097234726, 7.832740306854248, -9.254311561584473, 4.990935325622559, -0.2999277412891388, 7.776432991027832, 8.123376846313477, 0.08764541149139404, -5.085282325744629, 2.6375064849853516, -14.504592895507812, -7.821315765380859, 8.635011672973633, -5.683144569396973, 6.747560501098633, 5.721240520477295, 4.301937580108643, 6.662648677825928, 10.154706001281738, -8.34571647644043, -14.106874465942383, 8.714841842651367, 4.149163722991943, 7.421759128570557, 8.253119468688965, -12.287691116333008, -11.346024513244629, 1.3001314401626587, 8.506440162658691, -6.379927635192871, 0.720515787601471, 2.1161768436431885, -7.481388092041016, 6.737917423248291, -4.301313877105713, -7.2595391273498535, 9.873984336853027, -0.41929197311401367, -10.753660202026367, -2.896970510482788, 6.251573085784912, 4.080835819244385, 8.49437427520752, 7.812154293060303, 8.579252243041992, -11.26024341583252, -9.32883358001709, -2.815298318862915, 6.482202529907227, -9.998889923095703, -0.8080323934555054, -10.39372444152832, -1.213062047958374, 5.027320384979248, 0.1292518973350525, 8.875073432922363, -11.78315544128418, 0.04785323515534401, -7.960500717163086, -10.862222671508789, 4.390065670013428, -9.631826400756836, 5.347079277038574, 5.526717185974121, 9.672294616699219, -9.889162063598633, 7.575054168701172, -7.311367511749268, 9.73862361907959, -2.0729715824127197, 5.486494064331055, -9.40847396850586, 12.875075340270996, 1.2587785720825195, 6.916012287139893, -1.2579340934753418, -7.03936767578125, -7.4018096923828125, -7.495552062988281, -13.784421920776367, -10.269139289855957, 4.247070789337158, 6.773836612701416, 11.281487464904785, -9.112030029296875, 0.211612731218338, -9.12686538696289, 1.404959797859192, -5.201054096221924, 2.8581838607788086, -3.8531038761138916, -9.82934284210205, 3.8208062648773193, -8.897680282592773, -9.634846687316895, 6.031753063201904, -0.5171003937721252, 4.378559589385986, 4.60230827331543, -0.25614073872566223, 0.16959482431411743, 5.495946407318115, -11.024989128112793, -5.098004341125488, 7.803262233734131, 10.61660099029541, -3.471888780593872, -14.485247611999512, 3.3323121070861816, 1.5235481262207031, -2.3245222568511963, -14.399114608764648, -0.06023334339261055, -8.48583984375, -6.947279453277588, 6.680683135986328, 9.154032707214355, 11.309977531433105, -9.5792875289917, 7.844858646392822, 4.513720512390137, -10.071751594543457, 4.96494722366333, -8.672548294067383, 11.02210521697998, -7.64206075668335, 0.2785084545612335, 5.002752780914307, -8.051530838012695, -1.3113148212432861, 4.806013584136963, 3.5797040462493896, 6.826600074768066, -4.023601055145264, -3.8154826164245605, -7.461531162261963, 7.960420608520508, 10.47775936126709, -5.265626430511475, -0.19050590693950653, -14.547369956970215, 7.690064430236816, -14.180610656738281, -0.25445911288261414, -13.575937271118164, -12.0610990524292, 4.691931247711182, 10.955331802368164, -8.310123443603516, -1.2936415672302246, 5.9750142097473145, 5.834072113037109, -1.401092767715454, 4.74962854385376, 11.255842208862305, 1.9269993305206299, 2.14994215965271, -2.1167898178100586, 9.463842391967773, 2.036241292953491, -8.188789367675781, -15.15992546081543, -8.470332145690918, 3.803011655807495, 3.978025197982788, -16.720008850097656, 0.284575879573822, 0.3800571858882904, 1.1488820314407349, -11.608119010925293, -11.118596076965332, -8.17487907409668, -10.0465087890625, 7.983329772949219, 6.814671039581299, 0.896538496017456, 2.7339224815368652, 6.641713619232178, 0.5170086026191711, -9.581128120422363, -12.829524993896484, 10.962300300598145, 1.6001709699630737, 1.2763301134109497, -1.6061131954193115, 7.999350547790527, 9.875237464904785, -3.934913158416748, 5.65169095993042, -14.661734580993652, -14.104018211364746, -7.325611114501953, 1.1289550065994263, -8.46984577178955, 4.6487298011779785, -12.638143539428711, 5.7285356521606445, -4.2970781326293945]}],\n",
              "                        {\"coloraxis\": {\"colorbar\": {\"title\": {\"text\": \"Anomaly\"}}, \"colorscale\": [[0.0, \"#0d0887\"], [0.1111111111111111, \"#46039f\"], [0.2222222222222222, \"#7201a8\"], [0.3333333333333333, \"#9c179e\"], [0.4444444444444444, \"#bd3786\"], [0.5555555555555556, \"#d8576b\"], [0.6666666666666666, \"#ed7953\"], [0.7777777777777778, \"#fb9f3a\"], [0.8888888888888888, \"#fdca26\"], [1.0, \"#f0f921\"]]}, \"height\": 800, \"legend\": {\"tracegroupgap\": 0}, \"scene\": {\"domain\": {\"x\": [0.0, 1.0], \"y\": [0.0, 1.0]}, \"xaxis\": {\"title\": {\"text\": \"0\"}}, \"yaxis\": {\"title\": {\"text\": \"1\"}}, \"zaxis\": {\"title\": {\"text\": \"2\"}}}, \"template\": {\"data\": {\"bar\": [{\"error_x\": {\"color\": \"#2a3f5f\"}, \"error_y\": {\"color\": \"#2a3f5f\"}, \"marker\": {\"line\": {\"color\": \"#E5ECF6\", \"width\": 0.5}}, \"type\": \"bar\"}], \"barpolar\": [{\"marker\": {\"line\": {\"color\": \"#E5ECF6\", \"width\": 0.5}}, \"type\": \"barpolar\"}], \"carpet\": [{\"aaxis\": {\"endlinecolor\": \"#2a3f5f\", \"gridcolor\": \"white\", \"linecolor\": \"white\", \"minorgridcolor\": \"white\", \"startlinecolor\": \"#2a3f5f\"}, \"baxis\": {\"endlinecolor\": \"#2a3f5f\", \"gridcolor\": \"white\", \"linecolor\": \"white\", \"minorgridcolor\": \"white\", \"startlinecolor\": \"#2a3f5f\"}, \"type\": \"carpet\"}], \"choropleth\": [{\"colorbar\": {\"outlinewidth\": 0, \"ticks\": \"\"}, \"type\": \"choropleth\"}], \"contour\": [{\"colorbar\": {\"outlinewidth\": 0, \"ticks\": \"\"}, \"colorscale\": [[0.0, \"#0d0887\"], [0.1111111111111111, \"#46039f\"], [0.2222222222222222, \"#7201a8\"], [0.3333333333333333, \"#9c179e\"], [0.4444444444444444, \"#bd3786\"], [0.5555555555555556, \"#d8576b\"], [0.6666666666666666, \"#ed7953\"], [0.7777777777777778, \"#fb9f3a\"], [0.8888888888888888, \"#fdca26\"], [1.0, \"#f0f921\"]], \"type\": \"contour\"}], \"contourcarpet\": [{\"colorbar\": {\"outlinewidth\": 0, \"ticks\": \"\"}, \"type\": \"contourcarpet\"}], \"heatmap\": [{\"colorbar\": {\"outlinewidth\": 0, \"ticks\": \"\"}, \"colorscale\": [[0.0, \"#0d0887\"], [0.1111111111111111, \"#46039f\"], [0.2222222222222222, \"#7201a8\"], [0.3333333333333333, \"#9c179e\"], [0.4444444444444444, \"#bd3786\"], [0.5555555555555556, \"#d8576b\"], [0.6666666666666666, \"#ed7953\"], [0.7777777777777778, \"#fb9f3a\"], [0.8888888888888888, \"#fdca26\"], [1.0, \"#f0f921\"]], \"type\": \"heatmap\"}], \"heatmapgl\": [{\"colorbar\": {\"outlinewidth\": 0, \"ticks\": \"\"}, \"colorscale\": [[0.0, \"#0d0887\"], [0.1111111111111111, \"#46039f\"], [0.2222222222222222, \"#7201a8\"], [0.3333333333333333, \"#9c179e\"], [0.4444444444444444, \"#bd3786\"], [0.5555555555555556, \"#d8576b\"], [0.6666666666666666, \"#ed7953\"], [0.7777777777777778, \"#fb9f3a\"], [0.8888888888888888, \"#fdca26\"], [1.0, \"#f0f921\"]], \"type\": \"heatmapgl\"}], \"histogram\": [{\"marker\": {\"colorbar\": {\"outlinewidth\": 0, \"ticks\": \"\"}}, \"type\": \"histogram\"}], \"histogram2d\": [{\"colorbar\": {\"outlinewidth\": 0, \"ticks\": \"\"}, \"colorscale\": [[0.0, \"#0d0887\"], [0.1111111111111111, \"#46039f\"], [0.2222222222222222, \"#7201a8\"], [0.3333333333333333, \"#9c179e\"], [0.4444444444444444, \"#bd3786\"], [0.5555555555555556, \"#d8576b\"], [0.6666666666666666, \"#ed7953\"], [0.7777777777777778, \"#fb9f3a\"], [0.8888888888888888, \"#fdca26\"], [1.0, \"#f0f921\"]], \"type\": \"histogram2d\"}], \"histogram2dcontour\": [{\"colorbar\": {\"outlinewidth\": 0, \"ticks\": \"\"}, \"colorscale\": [[0.0, \"#0d0887\"], [0.1111111111111111, \"#46039f\"], [0.2222222222222222, \"#7201a8\"], [0.3333333333333333, \"#9c179e\"], [0.4444444444444444, \"#bd3786\"], [0.5555555555555556, \"#d8576b\"], [0.6666666666666666, \"#ed7953\"], [0.7777777777777778, \"#fb9f3a\"], [0.8888888888888888, \"#fdca26\"], [1.0, \"#f0f921\"]], \"type\": \"histogram2dcontour\"}], \"mesh3d\": [{\"colorbar\": {\"outlinewidth\": 0, \"ticks\": \"\"}, \"type\": \"mesh3d\"}], \"parcoords\": [{\"line\": {\"colorbar\": {\"outlinewidth\": 0, \"ticks\": \"\"}}, \"type\": \"parcoords\"}], \"pie\": [{\"automargin\": true, \"type\": \"pie\"}], \"scatter\": [{\"marker\": {\"colorbar\": {\"outlinewidth\": 0, \"ticks\": \"\"}}, \"type\": \"scatter\"}], \"scatter3d\": [{\"line\": {\"colorbar\": {\"outlinewidth\": 0, \"ticks\": \"\"}}, \"marker\": {\"colorbar\": {\"outlinewidth\": 0, \"ticks\": \"\"}}, \"type\": \"scatter3d\"}], \"scattercarpet\": [{\"marker\": {\"colorbar\": {\"outlinewidth\": 0, \"ticks\": \"\"}}, \"type\": \"scattercarpet\"}], \"scattergeo\": [{\"marker\": {\"colorbar\": {\"outlinewidth\": 0, \"ticks\": \"\"}}, \"type\": \"scattergeo\"}], \"scattergl\": [{\"marker\": {\"colorbar\": {\"outlinewidth\": 0, \"ticks\": \"\"}}, \"type\": \"scattergl\"}], \"scattermapbox\": [{\"marker\": {\"colorbar\": {\"outlinewidth\": 0, \"ticks\": \"\"}}, \"type\": \"scattermapbox\"}], \"scatterpolar\": [{\"marker\": {\"colorbar\": {\"outlinewidth\": 0, \"ticks\": \"\"}}, \"type\": \"scatterpolar\"}], \"scatterpolargl\": [{\"marker\": {\"colorbar\": {\"outlinewidth\": 0, \"ticks\": \"\"}}, \"type\": \"scatterpolargl\"}], \"scatterternary\": [{\"marker\": {\"colorbar\": {\"outlinewidth\": 0, \"ticks\": \"\"}}, \"type\": \"scatterternary\"}], \"surface\": [{\"colorbar\": {\"outlinewidth\": 0, \"ticks\": \"\"}, \"colorscale\": [[0.0, \"#0d0887\"], [0.1111111111111111, \"#46039f\"], [0.2222222222222222, \"#7201a8\"], [0.3333333333333333, \"#9c179e\"], [0.4444444444444444, \"#bd3786\"], [0.5555555555555556, \"#d8576b\"], [0.6666666666666666, \"#ed7953\"], [0.7777777777777778, \"#fb9f3a\"], [0.8888888888888888, \"#fdca26\"], [1.0, \"#f0f921\"]], \"type\": \"surface\"}], \"table\": [{\"cells\": {\"fill\": {\"color\": \"#EBF0F8\"}, \"line\": {\"color\": \"white\"}}, \"header\": {\"fill\": {\"color\": \"#C8D4E3\"}, \"line\": {\"color\": \"white\"}}, \"type\": \"table\"}]}, \"layout\": {\"annotationdefaults\": {\"arrowcolor\": \"#2a3f5f\", \"arrowhead\": 0, \"arrowwidth\": 1}, \"coloraxis\": {\"colorbar\": {\"outlinewidth\": 0, \"ticks\": \"\"}}, \"colorscale\": {\"diverging\": [[0, \"#8e0152\"], [0.1, \"#c51b7d\"], [0.2, \"#de77ae\"], [0.3, \"#f1b6da\"], [0.4, \"#fde0ef\"], [0.5, \"#f7f7f7\"], [0.6, \"#e6f5d0\"], [0.7, \"#b8e186\"], [0.8, \"#7fbc41\"], [0.9, \"#4d9221\"], [1, \"#276419\"]], \"sequential\": [[0.0, \"#0d0887\"], [0.1111111111111111, \"#46039f\"], [0.2222222222222222, \"#7201a8\"], [0.3333333333333333, \"#9c179e\"], [0.4444444444444444, \"#bd3786\"], [0.5555555555555556, \"#d8576b\"], [0.6666666666666666, \"#ed7953\"], [0.7777777777777778, \"#fb9f3a\"], [0.8888888888888888, \"#fdca26\"], [1.0, \"#f0f921\"]], \"sequentialminus\": [[0.0, \"#0d0887\"], [0.1111111111111111, \"#46039f\"], [0.2222222222222222, \"#7201a8\"], [0.3333333333333333, \"#9c179e\"], [0.4444444444444444, \"#bd3786\"], [0.5555555555555556, \"#d8576b\"], [0.6666666666666666, \"#ed7953\"], [0.7777777777777778, \"#fb9f3a\"], [0.8888888888888888, \"#fdca26\"], [1.0, \"#f0f921\"]]}, \"colorway\": [\"#636efa\", \"#EF553B\", \"#00cc96\", \"#ab63fa\", \"#FFA15A\", \"#19d3f3\", \"#FF6692\", \"#B6E880\", \"#FF97FF\", \"#FECB52\"], \"font\": {\"color\": \"#2a3f5f\"}, \"geo\": {\"bgcolor\": \"white\", \"lakecolor\": \"white\", \"landcolor\": \"#E5ECF6\", \"showlakes\": true, \"showland\": true, \"subunitcolor\": \"white\"}, \"hoverlabel\": {\"align\": \"left\"}, \"hovermode\": \"closest\", \"mapbox\": {\"style\": \"light\"}, \"paper_bgcolor\": \"white\", \"plot_bgcolor\": \"#E5ECF6\", \"polar\": {\"angularaxis\": {\"gridcolor\": \"white\", \"linecolor\": \"white\", \"ticks\": \"\"}, \"bgcolor\": \"#E5ECF6\", \"radialaxis\": {\"gridcolor\": \"white\", \"linecolor\": \"white\", \"ticks\": \"\"}}, \"scene\": {\"xaxis\": {\"backgroundcolor\": \"#E5ECF6\", \"gridcolor\": \"white\", \"gridwidth\": 2, \"linecolor\": \"white\", \"showbackground\": true, \"ticks\": \"\", \"zerolinecolor\": \"white\"}, \"yaxis\": {\"backgroundcolor\": \"#E5ECF6\", \"gridcolor\": \"white\", \"gridwidth\": 2, \"linecolor\": \"white\", \"showbackground\": true, \"ticks\": \"\", \"zerolinecolor\": \"white\"}, \"zaxis\": {\"backgroundcolor\": \"#E5ECF6\", \"gridcolor\": \"white\", \"gridwidth\": 2, \"linecolor\": \"white\", \"showbackground\": true, \"ticks\": \"\", \"zerolinecolor\": \"white\"}}, \"shapedefaults\": {\"line\": {\"color\": \"#2a3f5f\"}}, \"ternary\": {\"aaxis\": {\"gridcolor\": \"white\", \"linecolor\": \"white\", \"ticks\": \"\"}, \"baxis\": {\"gridcolor\": \"white\", \"linecolor\": \"white\", \"ticks\": \"\"}, \"bgcolor\": \"#E5ECF6\", \"caxis\": {\"gridcolor\": \"white\", \"linecolor\": \"white\", \"ticks\": \"\"}}, \"title\": {\"x\": 0.05}, \"xaxis\": {\"automargin\": true, \"gridcolor\": \"white\", \"linecolor\": \"white\", \"ticks\": \"\", \"title\": {\"standoff\": 15}, \"zerolinecolor\": \"white\", \"zerolinewidth\": 2}, \"yaxis\": {\"automargin\": true, \"gridcolor\": \"white\", \"linecolor\": \"white\", \"ticks\": \"\", \"title\": {\"standoff\": 15}, \"zerolinecolor\": \"white\", \"zerolinewidth\": 2}}}, \"title\": {\"text\": \"3d TSNE Plot for Outliers\"}, \"width\": 900},\n",
              "                        {\"responsive\": true}\n",
              "                    ).then(function(){\n",
              "                            \n",
              "var gd = document.getElementById('8582902f-e222-4373-af28-307ff0630646');\n",
              "var x = new MutationObserver(function (mutations, observer) {{\n",
              "        var display = window.getComputedStyle(gd).display;\n",
              "        if (!display || display === 'none') {{\n",
              "            console.log([gd, 'removed!']);\n",
              "            Plotly.purge(gd);\n",
              "            observer.disconnect();\n",
              "        }}\n",
              "}});\n",
              "\n",
              "// Listen for the removal of the full notebook cells\n",
              "var notebookContainer = gd.closest('#notebook-container');\n",
              "if (notebookContainer) {{\n",
              "    x.observe(notebookContainer, {childList: true});\n",
              "}}\n",
              "\n",
              "// Listen for the clearing of the current output cell\n",
              "var outputEl = gd.closest('.output');\n",
              "if (outputEl) {{\n",
              "    x.observe(outputEl, {childList: true});\n",
              "}}\n",
              "\n",
              "                        })\n",
              "                };\n",
              "                \n",
              "            </script>\n",
              "        </div>\n",
              "</body>\n",
              "</html>"
            ]
          },
          "metadata": {
            "tags": []
          }
        }
      ]
    },
    {
      "cell_type": "markdown",
      "metadata": {
        "id": "yHpizVczB8nn"
      },
      "source": [
        "**Using the umap type, you can change the type of visualization**"
      ]
    },
    {
      "cell_type": "code",
      "metadata": {
        "colab": {
          "base_uri": "https://localhost:8080/",
          "height": 817,
          "referenced_widgets": [
            "5d2a651cd4434226ad6a23dae06cf524",
            "ad2a9f0072a34d339745226cbf75865a",
            "cc52a9d8734a4c318f6306afce8bd055"
          ]
        },
        "id": "vGMjEgfSfYOI",
        "outputId": "4d3e9a43-f36a-4cb1-a3d7-012eb8a94124"
      },
      "source": [
        "plot_model(iforest, plot = 'umap')"
      ],
      "execution_count": null,
      "outputs": [
        {
          "output_type": "display_data",
          "data": {
            "text/html": [
              "<html>\n",
              "<head><meta charset=\"utf-8\" /></head>\n",
              "<body>\n",
              "    <div>\n",
              "            <script src=\"https://cdnjs.cloudflare.com/ajax/libs/mathjax/2.7.5/MathJax.js?config=TeX-AMS-MML_SVG\"></script><script type=\"text/javascript\">if (window.MathJax) {MathJax.Hub.Config({SVG: {font: \"STIX-Web\"}});}</script>\n",
              "                <script type=\"text/javascript\">window.PlotlyConfig = {MathJaxConfig: 'local'};</script>\n",
              "        <script src=\"https://cdn.plot.ly/plotly-latest.min.js\"></script>    \n",
              "            <div id=\"d00aedee-812d-4ebc-b1ef-f528e5cfb392\" class=\"plotly-graph-div\" style=\"height:800px; width:900px;\"></div>\n",
              "            <script type=\"text/javascript\">\n",
              "                \n",
              "                    window.PLOTLYENV=window.PLOTLYENV || {};\n",
              "                    \n",
              "                if (document.getElementById(\"d00aedee-812d-4ebc-b1ef-f528e5cfb392\")) {\n",
              "                    Plotly.newPlot(\n",
              "                        'd00aedee-812d-4ebc-b1ef-f528e5cfb392',\n",
              "                        [{\"customdata\": [[0.263995357], [0.546092303], [0.33671410399999996], [0.092107835], [0.325261175], [0.212464853], [0.258565714], [0.869236755], [0.197077957], [0.292984504], [0.82178316], [0.796622959], [0.045577010999999994], [0.613660351], [0.9507445659999999], [0.33634633700000005], [0.034440667], [0.741544275], [0.18443265], [0.664514943], [0.16282485800000002], [0.729838445], [0.62837389], [0.057883660999999996], [0.445534827], [0.80183695], [0.27709612], [0.228634015], [0.834860657], [0.6697665110000001], [0.532527349], [0.17045907100000002], [0.5102884679999999], [0.977561989], [0.249775993], [0.9755006820000001], [0.613701727], [0.16742036300000002], [0.537472516], [0.379899131], [0.633897303], [0.633960424], [0.5499746529999999], [0.178172988], [0.85563814], [0.321796672], [0.8174905370000001], [0.254879417], [0.344140513], [0.8061457259999999], [0.27708167100000003], [0.544328519], [0.07708393], [0.273081458], [0.390877336], [0.349621385], [0.214549744], [0.206075222], [0.86461997], [0.9817088540000001], [0.33482964600000004], [0.648387061], [0.093643561], [0.837802698], [0.7603439670000001], [0.29140417399999996], [0.3413454], [0.7611124840000001], [0.541899775], [0.684176639], [0.983535597], [0.52081245], [0.328227724], [0.09715793800000001], [0.876088593], [0.870214512], [0.656086992], [0.306791514], [0.48126734], [0.259559174], [0.326123655], [0.930568042], [0.6583894], [0.689992335], [0.315781109], [0.5669050929999999], [0.637526619], [0.687540723], [0.324300602], [0.592704906], [0.7402531259999999], [0.5940328770000001], [0.596452977], [0.27768081699999997], [0.258329663], [0.142460864], [0.435533461], [0.7024990440000001], [0.58897535], [0.653304374], [0.336968524], [0.631244736], [0.73530076], [0.050390366], [0.064264924], [0.665359476], [0.917835245], [0.44651012], [0.661938199], [0.43935985299999997], [0.6875724040000001], [0.363462248], [0.6542621820000001], [0.578553536], [0.065927945], [0.550148559], [0.13918281400000002], [0.080004635], [0.278228358], [0.560124266], [0.53639864], [0.42653190399999996], [0.789109796], [0.742900474], [0.901692589], [0.650337401], [0.114057311], [0.260812592], [0.43991232], [0.964409284], [0.184401415], [0.345145446], [0.17589458100000002], [0.312514453], [0.674131879], [0.32825045], [0.598231057], [0.09259881699999999], [0.497916521], [0.419776521], [0.31217670000000003], [0.937857107], [0.049030963], [0.47610452600000003], [0.447397526], [0.295806058], [0.737363977], [0.625896253], [0.408813429], [0.437511156], [0.691351375], [0.935555275], [0.437846654], [0.072217715], [0.67636067], [0.468883999], [0.543820644], [0.6555226470000001], [0.6935289240000001], [0.10887831199999999], [0.285463743], [0.0], [0.706495497], [0.273530633], [0.292320271], [0.673984307], [0.12612182800000002], [0.9467074590000001], [0.9363388979999999], [0.8537553640000001], [0.7060713609999999], [0.693682186], [0.508527882], [0.34717038899999997], [0.704154263], [0.658730088], [0.155841557], [0.311085435], [0.281135347], [0.094587802], [0.6832609540000001], [0.9077292509999999], [0.29151267399999997], [0.752734459], [0.93482964], [0.071413953], [0.5948963270000001], [0.404672015], [0.13837621], [0.7473384679999999], [0.530882486], [0.282649594], [0.699335734], [0.056111250999999994], [0.855234998], [0.07789512700000001], [0.891649583], [0.38674227899999997], [0.27113158], [0.958888961], [0.085120869], [0.5269022489999999], [0.066577785], [0.841506738], [0.255342095], [0.060545771], [0.073385869], [0.187493723], [0.858365688], [0.090640352], [0.7097252270000001], [0.631300647], [0.24750447399999997], [0.822843584], [0.373476759], [0.625538582], [0.292951715], [0.299730324], [0.25121407], [0.344480551], [0.293064767], [0.7628032240000001], [0.7384708040000001], [0.674883265], [0.719151612], [0.13098021599999998], [0.511328036], [0.04492903], [0.560914449], [0.7440406409999999], [0.266961634], [0.644231853], [0.038113352], [0.05715529900000001], [0.34139246100000004], [0.7204636320000001], [0.402878236], [0.635148967], [0.320729467], [0.09120969400000001], [0.23414609], [0.8902211309999999], [0.602170884], [0.633652055], [0.806240837], [0.739731184], [0.465231269], [0.7321109], [0.373874305], [0.501587947], [0.11538315800000001], [0.7319466040000001], [0.41829872799999995], [0.062259590999999996], [0.391496379], [0.35984929], [0.24523562699999998], [0.610028339], [0.43540360200000006], [0.434309675], [0.523763344], [0.17118786600000002], [0.18773430300000002], [0.945014638], [0.027851097000000002], [0.68445706], [0.178014532], [0.643427879], [0.59588355], [0.372361682], [0.586103584], [0.271658852], [0.59951107], [0.468363088], [0.314515565], [0.21893726], [0.254716562], [0.25612815], [0.602259755], [0.134381075], [0.513887424], [0.624241636], [0.160251854], [0.580708108], [0.270540486], [0.832919932], [0.93032134], [0.719157884], [0.886720033], [0.098792281], [0.787174286], [0.365592376], [0.719576193], [0.8058956], [0.7555783340000001], [0.526005909], [0.68880424], [0.22111531199999998], [0.739369477], [0.408440236], [0.348926542], [0.433713763], [0.5964966070000001], [0.6942953000000001], [0.7090309659999999], [0.867652984], [0.89332545], [0.746020922], [0.538284443], [0.8922193140000001], [0.935175765], [0.260527707], [0.956780449], [0.204932484], [0.687733351], [0.329063619], [0.632149831], [0.463744506], [0.698859621], [0.385446564], [0.47997537700000004], [0.732279108], [0.3813543], [0.459326013], [0.257401434], [0.665014804], [0.103399542], [0.425284413], [0.943529051], [0.594750236], [0.543776817], [0.18203988], [0.23584208399999998], [0.585984497], [0.762013168], [0.6849829070000001], [0.676936933], [0.290184964], [0.48106822200000005], [0.492766033], [0.22185623399999999], [0.053875998], [0.082751144], [0.385366225], [0.702513961], [0.91553156], [0.082087436], [0.251280378], [0.41672181700000005], [0.277032672], [0.579539754], [0.569363476], [0.133399703], [0.265045463], [0.936571901], [0.252618554], [0.054033081], [0.802481439], [0.528197693], [0.9515026], [0.572121173], [0.752938227], [0.143857535], [0.513484576], [0.313322389], [0.6877973959999999], [0.37705984], [0.348226142], [0.67763282], [0.24138752100000002], [0.8506501790000001], [0.22034810300000002], [0.476445464], [0.690324025], [0.364695946], [0.6492491970000001], [0.9437019209999999], [0.529645971], [0.299097002], [0.96696247], [0.272005242], [0.314161447], [0.752020991], [0.221882453], [0.7203326729999999], [0.379204782], [0.60168653], [0.582932673], [0.950809853], [0.58830141], [0.880887227], [0.467857701], [0.8799021709999999], [0.619844009], [0.359002573], [0.291511278], [0.694157143], [0.727960353], [0.617703921], [0.39581257], [0.58317282], [0.710332374], [0.253753693], [0.049412227999999996], [0.728378695], [0.432432881], [0.58612345], [0.052342373], [0.053483902], [0.518729378], [0.933040208], [0.7035542840000001], [0.268989899], [0.733006927], [0.44435246700000003], [0.5833946210000001], [0.871172692], [0.42876707799999997], [0.30046084100000003], [0.9533294590000001], [0.606443965], [0.90986815], [0.714896449], [0.49734950899999997], [0.8530974859999999], [0.721804145], [0.303467328], [0.664485096], [0.27978062], [0.569481665], [0.628628926], [0.088368123], [0.733567326], [0.537436778], [0.638593691], [0.954726948], [0.632202332], [0.642134651], [0.744653087], [0.115714007], [0.48625007299999995], [0.440356144], [0.08272289], [0.511591027], [0.394627555], [0.224394], [0.626927584], [0.290254057], [0.779008053], [0.86610579], [0.873326081], [0.49548916], [0.594297695], [0.9182015840000001], [0.5770427539999999], [0.019467671000000002], [0.6702982820000001], [0.546595316], [0.591665146], [0.42155819], [0.6856085590000001], [0.340303024], [0.675626741], [0.319067345], [0.38849966399999997], [0.706949589], [0.559409515], [0.687663508], [0.7088045540000001], [0.6818880940000001], [0.42253510899999996], [0.320004605], [0.6582813679999999], [0.634154867], [0.7773320090000001], [0.812677205], [0.074280797], [0.39600217], [0.054933913], [0.825058925], [0.382642009], [0.8687298179999999], [0.588043346], [0.891551577], [0.10920046], [0.647682781], [0.724342512], [0.07016304400000001], [0.280882054], [0.039113261], [0.579641592], [0.639000922], [0.281745925], [0.647857744], [0.6479057970000001], [0.875226264], [0.567603305], [0.262940591], [0.268026042], [0.40519133], [0.479965451], [0.33552403], [0.777165379], [0.42548796299999997], [0.237986115], [0.142522971], [0.724176488], [0.234698933], [0.07818228099999999], [0.855990155], [0.270251765], [0.435517841], [0.762697513], [0.46448725799999996], [0.396112685], [0.37638092100000003], [0.29459467699999997], [0.6944921209999999], [0.622767949], [0.8475597220000001], [0.301463054], [0.912937812], [0.500017182], [0.902587935], [0.304517943], [0.299165673], [0.092014087], [0.488548917], [0.664664437], [0.26534954899999996], [0.723657021], [0.149262385], [0.04577339], [0.69661064], [0.42181486], [0.733845785], [0.418795386], [0.677443529], [0.26128360300000003], [0.268527767], [0.5443222360000001], [0.431632036], [0.981018141], [0.21498072399999998], [0.39472999299999995], [0.122224944], [0.297496875], [0.37490443100000004], [0.68698771], [0.388549207], [0.039296071], [0.73553424], [0.37929489299999997], [0.7321233859999999], [0.33922143899999996], [0.659450594], [0.054838642], [0.640112102], [0.30714170399999996], [0.39661190700000004], [0.420439161], [0.24171497399999997], [0.065893153], [0.9105219370000001], [0.697163103], [0.072559853], [0.81825094], [0.311888815], [0.961644609], [0.816325524], [0.14647302], [0.548753945], [0.946158087], [0.293992717], [0.331479643], [0.9062200309999999], [0.525540416], [0.83301411], [0.514849806], [0.574609024], [0.46871185299999996], [0.71002775], [0.645973276], [0.229794416], [0.551783393], [0.055822990999999995], [0.331750941], [0.715520198], [0.583924357], [0.30695769100000003], [0.7914782370000001], [0.16423663900000002], [0.065711219], [0.948993132], [0.080423835], [0.052495426], [0.566346135], [0.3630266], [0.605442195], [0.6308505839999999], [0.065791238], [0.28681707100000003], [0.685462839], [0.260853706], [0.659122429], [0.44317392200000005], [0.602063986], [0.060366910999999995], [0.781903153], [0.5145798070000001], [0.48388621299999995], [0.600213807], [0.49736405200000006], [0.411145245], [0.116999171], [0.34189014100000004], [0.746950848], [0.39629274600000003], [0.6221438429999999], [0.335271141], [0.140257137], [0.081620681], [0.069837569], [0.46894000799999996], [0.9908574170000001], [0.896616832], [0.255310561], [0.22464526699999998], [0.01991825], [0.296480415], [0.155458996], [0.577916714], [0.9563030309999999], [0.813464394], [0.529675785], [0.287671353], [0.48039136], [0.28104482199999997], [0.633196521], [0.09332537699999999], [0.28447398100000004], [0.052223775], [0.051129385], [0.967405608], [0.040045727999999996], [0.9085829209999999], [0.6621174160000001], [0.42470320899999997], [0.72207806], [0.666193327], [0.509681253], [0.7513536209999999], [0.279073124], [0.074927], [0.916359535], [0.31040327], [0.716604052], [0.485587085], [0.30607518100000003], [0.477558204], [0.7119239409999999], [0.066348638], [0.27453935100000004], [0.31082252], [0.47607312700000004], [0.186795565], [0.26654207], [0.070231142], [0.26951927], [0.800004713], [0.27363366699999997], [0.14647919199999998], [0.378318951], [0.373849065], [0.242170835], [0.249796488], [0.066591188], [0.372956798], [0.501812291], [0.313097752], [0.8802021959999999], [0.51981893], [0.364138746], [0.49268289600000004], [0.285732652], [0.890114985], [0.316419561], [0.26866354], [0.771975959], [0.968888992], [0.080334377], [0.7368282209999999], [0.30055807100000004], [0.9179503929999999], [0.465815039], [0.054036682], [0.963150123], [0.08965350300000001], [0.7076932340000001], [0.636416037], [0.539521117], [0.114757161], [0.357312419], [0.67639834], [0.43482839], [0.032326387000000005], [0.711365605], [0.187486519], [0.052789653], [0.5058636129999999], [0.927431873], [0.6809842559999999], [0.882822186], [0.495705441], [0.596240398], [0.320610701], [0.3413685], [0.159681797], [0.318133669], [0.8393010479999999], [0.06435925099999999], [0.470216633], [0.7762522909999999], [0.635843383], [0.62510543], [0.52959065], [0.986900166], [0.078585688], [0.233284267], [0.363330957], [0.7167169809999999], [0.37588979200000006], [0.223316889], [0.299343986], [0.538595767], [0.730297124], [0.66033077], [0.435296009], [0.326494313], [0.854402708], [0.5734938470000001], [0.757786135], [0.704743233], [0.281575597], [0.671968208], [0.313726015], [0.364338275], [0.368216396], [0.38629520700000003], [0.655971865], [0.5660252729999999], [0.424999093], [0.090110371], [0.772350538], [0.331047258], [0.273716188], [0.23877568], [0.37307977200000003], [0.331185868], [0.256134531], [0.678373225], [0.43463833799999996], [0.654668307], [0.986681065], [0.371520495], [0.408359618], [0.40932365], [0.283412082], [0.395246531], [0.010984428000000001], [0.306013869], [0.266194806], [0.299318521], [0.318293946], [0.74282591], [0.09766432900000001], [0.079666942], [0.613258767], [0.99443072], [0.568835082], [0.7080345159999999], [0.37059271899999996], [0.669867361], [0.651295625], [0.462531569], [0.7196256190000001], [0.45377248], [0.394863946], [0.323974831], [0.146454724], [0.7790670409999999], [0.401828915], [0.601479585], [0.856423023], [0.565242962], [0.301225108], [0.282108144], [0.594378011], [0.705312368], [0.5408696279999999], [0.319249574], [0.36176613799999996], [0.625000704], [0.316287401], [0.047239021], [0.801182233], [0.508474436], [0.8178934109999999], [0.399235601], [0.9740519990000001], [0.72241535], [0.039564764], [0.908684108], [0.47301013399999997], [0.7180496279999999], [0.7634790690000001], [0.6475965370000001], [0.8949973859999999], [0.22282590100000002], [0.359012234], [0.944910252], [0.297877816], [0.172517997], [0.556586265], [0.876481735], [0.48667784299999994], [0.459496733], [0.47412637700000004], [0.70101144], [0.337597387], [0.537578886], [0.966992448], [0.056849545], [0.233249065], [0.380054711], [0.602929443], [0.303847999], [0.170194553], [0.972168554], [0.332168927], [0.6887286890000001], [0.110773401], [0.273352065], [0.572939678], [0.491457065], [0.281389999], [0.821697261], [0.6749776829999999], [0.585134549], [0.7105961159999999], [0.040488789], [0.568054311], [0.321752928], [0.611850232], [0.926096887], [0.618347428], [0.667629785], [0.39773346600000004], [0.290875487], [0.594375103], [0.508255233], [0.338571357], [0.43230234700000003], [0.302221978], [0.87619819], [0.080204492], [0.092333532], [0.09365644699999999], [0.6084523510000001], [0.732654598], [0.944158855], [0.26742308], [0.731124201], [0.661308553], [0.38776626200000003], [0.962585273], [0.322067067], [0.6340810929999999], [0.475345002], [0.35355897299999994], [0.8859363159999999], [0.876798106], [0.221581064], [0.394362449], [0.8050356759999999], [0.452898486], [0.592520516], [0.761026394], [0.245049023], [0.37213936299999995], [0.681054822], [0.7471431479999999], [0.9207395290000001], [0.097207945], [0.699302998], [0.721647006], [0.5353561139999999], [0.738293805], [0.7064675509999999], [0.67395061], [0.7112122909999999], [0.302558708], [0.080097855], [0.707010837], [0.512248622], [0.659627472], [0.657559694], [0.100645606], [0.92665363], [0.892879338], [0.839157508], [0.890959718], [0.556754471], [0.960361937], [0.631037864], [0.029838065], [0.278843351], [0.926157705], [0.551504258], [0.485942349], [0.43723469600000003], [0.25231801800000003], [0.515466972], [0.43725229600000004], [0.493724207], [0.83324725], [0.317521477], [0.28623456199999997], [0.726833965], [0.495667033], [0.028645255], [0.31967191699999997], [0.674344598], [0.7660371890000001], [0.65456992], [0.7565143809999999], [0.528253719], [0.38971949100000003], [0.355087459], [0.87015202], [0.7390833059999999], [0.305761846], [0.411587673], [0.063633094], [0.735409395], [0.605916669], [0.539395562], [0.566183532], [0.674795186], [0.070993366], [0.12526410000000002], [0.279601492], [0.952174402], [0.233806762], [0.43724742899999997], [0.925423095], [0.433498634], [0.52517902], [0.088435529], [0.447677638], [0.647000631], [0.9036033370000001], [0.265790738], [0.66419695], [0.498120658], [0.49018894399999996], [0.747084187], [0.906783648], [0.678770917], [0.348599859], [0.294839683], [0.705691827], [0.211917931], [0.063201124], [0.276699543], [0.672459395], [0.8082059490000001], [0.296538373], [0.16012686199999998], [0.439385032], [0.555951416], [0.386240112], [0.158689619], [0.214499855], [0.299579429], [0.569161656], [0.488614799], [0.8782950209999999], [0.649380949], [0.465713341], [0.16813774], [0.87529545], [0.8411323409999999], [0.33292081], [0.5130478589999999], [0.30505507800000004], [0.8126269909999999], [0.25096706], [0.5024355779999999], [0.45799074100000003]], \"hoverlabel\": {\"namelength\": 0}, \"hovertemplate\": \"0=%{x}<br>1=%{y}<br>Feature=%{customdata[0]}<br>Anomaly=%{marker.color}\", \"legendgroup\": \"\", \"marker\": {\"color\": [0, 0, 1, 1, 0, 0, 0, 1, 1, 0, 0, 1, 0, 0, 1, 0, 1, 0, 0, 0, 1, 0, 0, 1, 1, 1, 0, 0, 1, 1, 0, 0, 1, 1, 1, 0, 0, 0, 0, 0, 1, 0, 0, 1, 0, 0, 0, 0, 0, 0, 0, 1, 0, 1, 0, 1, 0, 0, 0, 1, 0, 0, 1, 1, 0, 0, 1, 0, 0, 1, 0, 0, 0, 0, 0, 0, 0, 0, 0, 0, 0, 0, 0, 0, 0, 0, 0, 0, 0, 0, 0, 0, 0, 0, 0, 0, 0, 0, 0, 0, 0, 0, 0, 0, 0, 0, 0, 0, 0, 0, 0, 0, 0, 0, 0, 0, 0, 0, 0, 0, 0, 0, 0, 0, 0, 0, 0, 0, 0, 0, 0, 0, 0, 0, 0, 0, 0, 0, 0, 0, 0, 0, 0, 0, 0, 0, 0, 0, 0, 0, 0, 0, 0, 0, 0, 0, 0, 0, 0, 0, 0, 0, 0, 0, 0, 0, 0, 0, 0, 0, 0, 0, 0, 0, 0, 0, 0, 0, 0, 0, 0, 0, 0, 0, 0, 0, 0, 0, 0, 0, 0, 0, 0, 0, 0, 0, 0, 0, 1, 0, 0, 0, 0, 0, 0, 0, 0, 0, 0, 0, 0, 0, 0, 0, 0, 0, 0, 0, 0, 0, 0, 0, 0, 0, 0, 0, 0, 0, 0, 0, 0, 0, 0, 0, 0, 0, 0, 0, 0, 0, 0, 0, 0, 0, 0, 0, 0, 0, 0, 0, 0, 0, 0, 0, 0, 0, 0, 0, 0, 0, 0, 0, 0, 0, 0, 0, 0, 0, 0, 0, 0, 0, 0, 0, 0, 0, 0, 0, 0, 0, 0, 0, 0, 0, 0, 0, 0, 0, 0, 0, 0, 0, 0, 0, 0, 0, 0, 0, 0, 0, 0, 0, 0, 0, 0, 0, 0, 0, 0, 0, 0, 0, 0, 0, 0, 0, 0, 0, 0, 0, 0, 0, 0, 0, 0, 0, 0, 0, 0, 0, 0, 0, 0, 0, 0, 0, 0, 0, 0, 0, 0, 0, 0, 0, 0, 0, 0, 0, 0, 0, 0, 0, 0, 0, 0, 0, 0, 0, 0, 0, 0, 0, 0, 0, 0, 0, 0, 0, 0, 0, 0, 0, 0, 0, 0, 0, 0, 0, 0, 0, 0, 0, 0, 0, 0, 0, 0, 0, 0, 0, 0, 0, 0, 0, 0, 0, 0, 0, 0, 0, 0, 0, 0, 0, 0, 0, 0, 0, 0, 0, 0, 0, 0, 0, 0, 0, 0, 0, 0, 0, 0, 0, 0, 0, 0, 0, 0, 0, 0, 0, 0, 0, 0, 0, 0, 0, 0, 0, 0, 0, 0, 0, 0, 0, 0, 0, 0, 0, 0, 0, 0, 0, 0, 0, 0, 0, 0, 0, 0, 0, 0, 0, 0, 0, 0, 0, 0, 0, 0, 0, 0, 0, 0, 0, 0, 0, 0, 0, 0, 0, 0, 0, 0, 0, 0, 0, 0, 0, 0, 0, 0, 0, 0, 0, 0, 0, 0, 0, 0, 0, 0, 0, 0, 0, 0, 0, 0, 0, 0, 0, 0, 0, 0, 0, 0, 0, 0, 0, 0, 0, 0, 0, 0, 0, 0, 0, 0, 0, 0, 0, 0, 0, 0, 0, 0, 0, 0, 0, 0, 0, 0, 0, 0, 0, 0, 1, 0, 0, 0, 0, 0, 0, 0, 0, 0, 0, 0, 0, 0, 0, 0, 0, 0, 0, 0, 0, 0, 0, 0, 0, 0, 0, 0, 0, 0, 0, 0, 1, 0, 0, 0, 0, 0, 0, 0, 0, 0, 0, 0, 0, 0, 0, 0, 0, 0, 0, 0, 0, 0, 0, 0, 0, 1, 0, 0, 0, 0, 0, 0, 0, 0, 0, 0, 0, 0, 0, 0, 0, 0, 0, 0, 0, 0, 0, 0, 0, 0, 0, 0, 0, 0, 0, 0, 0, 0, 0, 0, 0, 0, 0, 0, 0, 0, 0, 0, 0, 0, 0, 0, 0, 0, 0, 0, 0, 0, 0, 0, 0, 0, 0, 0, 0, 0, 0, 0, 0, 0, 0, 0, 0, 0, 0, 0, 0, 0, 0, 0, 0, 0, 0, 1, 0, 0, 0, 0, 0, 0, 0, 0, 0, 0, 0, 0, 0, 0, 0, 0, 0, 0, 0, 1, 1, 0, 1, 1, 0, 0, 1, 1, 0, 0, 0, 0, 1, 0, 0, 1, 1, 1, 0, 1, 0, 1, 1, 1, 0, 0, 0, 1, 0, 0, 0, 0, 0, 0, 0, 0, 0, 0, 0, 0, 0, 0, 1, 0, 0, 0, 0, 0, 0, 0, 0, 0, 0, 0, 0, 0, 0, 0, 0, 0, 0, 0, 0, 0, 0, 0, 0, 0, 0, 0, 0, 0, 0, 0, 0, 0, 0, 0, 0, 1, 0, 0, 0, 0, 0, 0, 0, 0, 0, 0, 0, 0, 0, 0, 0, 0, 0, 0, 0, 0, 0, 0, 0, 0, 0, 0, 0, 0, 0, 0, 0, 0, 0, 0, 0, 0, 0, 0, 0, 0, 0, 0, 0, 0, 0, 0, 0, 0, 0, 0, 0, 0, 0, 0, 0, 0, 0, 0, 0, 0, 0, 0, 0, 0, 0, 0, 0, 0, 0, 0, 0, 0, 0, 0, 0, 0, 0, 0, 0, 0, 0, 0, 1, 0, 0, 0, 0, 0, 0, 0, 0, 0, 0, 0, 0, 0, 0, 0, 0, 0, 0, 0, 0, 0, 0, 0, 0, 0, 0, 0, 0, 0, 0, 0, 0, 0, 0, 0, 0, 0, 0, 0, 0, 0, 0, 0, 0, 0, 0, 0, 0, 0, 0, 0, 0, 0, 0, 0, 0, 0, 1, 0, 0, 0, 0, 0, 0, 0, 0, 0, 0, 0, 0, 0, 0, 0, 0, 0, 0, 0, 0, 0, 0, 0, 0, 0, 0, 0, 0, 0, 0, 0, 0, 0, 0, 0, 0, 0, 0, 0, 0, 0, 0, 0, 0, 0, 0, 0, 0, 0, 0, 0, 0, 0, 0, 0, 0, 0, 0, 0, 0, 0, 0, 0, 0, 0, 0, 0, 0, 0, 0, 0, 0, 0, 0, 0, 0, 0, 0], \"coloraxis\": \"coloraxis\", \"opacity\": 0.7, \"symbol\": \"circle\"}, \"mode\": \"markers\", \"name\": \"\", \"showlegend\": false, \"type\": \"scatter\", \"x\": [-0.3536684811115265, 0.5476985573768616, 10.83210563659668, 10.831367492675781, 11.740788459777832, 9.670353889465332, -1.274501919746399, 11.2849760055542, -0.23574960231781006, -2.837588310241699, 10.614728927612305, 11.895308494567871, 10.310954093933105, -0.8853164911270142, 10.743916511535645, 12.371148109436035, 10.387147903442383, -1.4855552911758423, 10.271496772766113, 11.56020736694336, 9.373682022094727, -0.8443069458007812, 11.182514190673828, -0.19656437635421753, 9.97775650024414, -0.7784209251403809, 11.698272705078125, -0.9608887434005737, 11.495354652404785, 11.099995613098145, -0.4386405646800995, 0.09667950123548508, -1.3380589485168457, 10.902742385864258, -1.1507617235183716, -0.8210940957069397, -1.9703315496444702, -1.0272213220596313, -0.5221534371376038, 9.981608390808105, -2.94588303565979, 11.116239547729492, -2.4192824363708496, 9.483437538146973, 10.764582633972168, 12.407793045043945, 10.764403343200684, -0.13724473118782043, 11.842937469482422, -2.4751789569854736, 10.993992805480957, 10.088905334472656, -1.4204564094543457, 12.421954154968262, 9.685147285461426, -0.5345056056976318, -0.757352888584137, -1.0806708335876465, 10.878894805908203, 10.74450969696045, -0.8206189274787903, -1.0503029823303223, 12.398258209228516, 10.875526428222656, -2.605966091156006, 10.738819122314453, -1.6138490438461304, -1.4662895202636719, 11.944372177124023, 9.975611686706543, 11.474363327026367, 11.25882339477539, -0.4708913266658783, 10.612934112548828, -2.796025514602661, -1.411658525466919, 12.04516315460205, 11.943700790405273, -3.459414482116699, -3.5120954513549805, -3.3789539337158203, -1.694167971611023, 11.636458396911621, -0.876570463180542, -0.7687198519706726, 0.3381998538970947, -1.997794270515442, -1.9723256826400757, 0.6422002911567688, -0.9102213978767395, -1.8553022146224976, 10.696209907531738, -2.109090566635132, -1.3770208358764648, -0.42694491147994995, 12.230521202087402, -1.8333232402801514, 0.4518015682697296, -0.9943429231643677, 11.981734275817871, -0.2715018391609192, -2.567033529281616, 0.4322018027305603, -1.9141122102737427, 11.963834762573242, -2.6955807209014893, -1.446236491203308, 0.25461310148239136, -2.82645845413208, 11.628227233886719, -1.4713941812515259, -0.27601945400238037, 10.482209205627441, -1.5328322649002075, 11.414261817932129, -2.077310800552368, -1.310537576675415, -1.4169280529022217, 10.479452133178711, -1.2966865301132202, -2.2863011360168457, 0.3157859444618225, 0.5717564821243286, -2.641028642654419, -0.5061668157577515, 0.42948123812675476, -0.1570136845111847, 10.86948013305664, -0.3616533875465393, 0.47178009152412415, 0.22574621438980103, -1.7359777688980103, 11.141979217529297, -0.5428282022476196, -2.546760082244873, -1.0293861627578735, 11.340470314025879, 11.568252563476562, 0.36670953035354614, -0.10966228693723679, 10.931382179260254, -1.0041245222091675, -1.7616467475891113, 11.756292343139648, -1.3250116109848022, -2.9810235500335693, 10.49392318725586, -2.5007004737854004, 0.5066896080970764, -0.8054213523864746, -1.287204623222351, -2.099872350692749, 0.7730630040168762, -1.9541770219802856, -0.7057475447654724, -1.925803303718567, -2.6776530742645264, -2.975813150405884, -2.440892219543457, 9.864748001098633, -1.3890712261199951, -1.1770470142364502, -2.683516263961792, -3.682100296020508, 10.172292709350586, -2.677271842956543, 11.127638816833496, 11.044031143188477, 10.713194847106934, -0.6418158411979675, -1.6813541650772095, 0.46025511622428894, 9.798124313354492, 10.965019226074219, 0.20411564409732819, -2.455538272857666, 9.713741302490234, 10.604050636291504, 0.45617157220840454, 11.410564422607422, 0.4929782450199127, 10.162369728088379, 0.055154092609882355, 11.136626243591309, 11.040628433227539, -1.3676995038986206, 10.532552719116211, 0.006753884255886078, -2.9889612197875977, -2.0807626247406006, -2.6117308139801025, 11.761581420898438, 10.706340789794922, 11.026937484741211, -1.8076132535934448, -1.136952519416809, 0.6062218546867371, 0.7679923176765442, -0.3210730254650116, -0.45299169421195984, 0.29298481345176697, -0.43024685978889465, -0.28383558988571167, 11.721441268920898, 10.867862701416016, -0.017816120758652687, -3.62619686126709, 0.29956820607185364, 10.155584335327148, -0.0027949835639446974, 0.025042179971933365, 10.424362182617188, 11.815652847290039, -1.7700483798980713, 0.43210357427597046, 0.4765363037586212, 0.08867398649454117, 12.142334938049316, 12.12164306640625, -0.09742369502782822, 10.939358711242676, -0.08706744015216827, 11.785902976989746, -3.0049753189086914, -1.8523775339126587, -3.5937483310699463, -2.5060760974884033, -3.0260331630706787, -2.6835272312164307, 9.968908309936523, -1.0510326623916626, -2.3275861740112305, 11.44616413116455, 11.53515338897705, -1.4289923906326294, -0.029712311923503876, -0.04320502653717995, -2.0581743717193604, 10.944263458251953, 10.565305709838867, 0.45225265622138977, 0.7975271344184875, 10.59047794342041, -1.3051639795303345, 10.921113967895508, -2.16084623336792, -2.5430924892425537, -3.204545497894287, -2.579723834991455, 11.19689655303955, -1.615966796875, -0.04797804728150368, 11.129682540893555, -1.1286672353744507, -2.774973154067993, -0.09162921458482742, -0.5628402829170227, -1.6152769327163696, 9.90034294128418, -1.2102694511413574, 10.583161354064941, -1.1022447347640991, 11.51669692993164, 0.1455475240945816, -1.6516685485839844, -0.833875834941864, 11.684110641479492, -1.6381951570510864, -2.830928087234497, 0.99759441614151, 0.6038303971290588, -0.5155899524688721, -1.2286438941955566, 10.53286361694336, 9.92958927154541, -2.23477840423584, 12.340903282165527, 11.815091133117676, 0.13001328706741333, -2.9603075981140137, -2.5744409561157227, 10.519187927246094, -2.923191547393799, -0.9011433720588684, 11.361398696899414, 0.044024672359228134, -1.824607491493225, -0.11335419863462448, -1.8662470579147339, -0.3452018201351166, -1.1274070739746094, -0.10554541647434235, -1.486585259437561, -0.2156468778848648, -0.9577520489692688, 10.604876518249512, 10.403947830200195, -3.6970374584198, -1.0399103164672852, -0.5544987916946411, 0.25099310278892517, -1.475858449935913, 11.654996871948242, 11.083409309387207, 10.275200843811035, -2.636547327041626, 0.6136690378189087, -2.544647455215454, -2.8804562091827393, 10.985776901245117, 10.999074935913086, -2.7357747554779053, 10.126182556152344, 10.557394027709961, 0.7655380964279175, -0.39390289783477783, -0.6613170504570007, -0.9967809915542603, -2.729485511779785, -0.3499562442302704, 0.3226949870586395, -1.822863221168518, 11.322769165039062, 0.21252751350402832, -2.7768495082855225, -0.9665912985801697, 11.873212814331055, 11.616421699523926, 10.870733261108398, 10.248499870300293, -1.5841093063354492, 12.289983749389648, -1.5464204549789429, -1.9202754497528076, -2.059173583984375, 11.795462608337402, 0.3356218636035919, -1.0002373456954956, 10.74062442779541, 12.014687538146973, -0.9742603302001953, -3.146819591522217, 10.413848876953125, -2.0275943279266357, 11.292707443237305, 11.365765571594238, -0.5878941416740417, -2.8823771476745605, 10.878506660461426, 12.310412406921387, -0.1804865598678589, -1.2639240026474, -1.2076895236968994, -0.5326390266418457, -1.7457457780838013, -3.0782368183135986, -0.9421435594558716, -0.006104852072894573, 11.995022773742676, -0.8728229999542236, 0.45064181089401245, 0.34118226170539856, -0.48765525221824646, -2.735975503921509, 11.190191268920898, -2.73905086517334, 11.833415985107422, -1.3450320959091187, -1.8398935794830322, 0.16027331352233887, -2.184973955154419, 0.4206840991973877, 12.028138160705566, 10.760819435119629, 11.336237907409668, -2.4921720027923584, -2.7511043548583984, 10.22833251953125, -0.47088342905044556, -1.0376472473144531, 10.190522193908691, -0.3039153516292572, -2.6210365295410156, -3.012338876724243, 0.3525692820549011, -1.801209568977356, -1.2992079257965088, -1.1115615367889404, 0.16374945640563965, -0.33729010820388794, -2.0204873085021973, -1.8695032596588135, -1.5195348262786865, -2.1790771484375, -1.2047830820083618, -0.4956148862838745, -2.6964683532714844, 11.009461402893066, -0.8142989873886108, -2.7289814949035645, -1.0925012826919556, -1.4009244441986084, -2.5785257816314697, -0.03093285672366619, 11.358118057250977, -1.2888116836547852, 10.843097686767578, -0.3809058666229248, 9.906030654907227, 0.7885262966156006, -0.45377761125564575, -1.2292888164520264, 11.985048294067383, -2.6759226322174072, -0.05933000147342682, -2.3697495460510254, -2.1879141330718994, -0.2359250783920288, 11.515355110168457, 11.45549201965332, -0.31579697132110596, -1.151737928390503, -0.12697629630565643, 0.33607351779937744, 10.738337516784668, -2.251417875289917, -1.0324231386184692, 10.26530647277832, -0.29547080397605896, 12.044282913208008, -1.9494329690933228, -1.4259288311004639, -1.0114445686340332, 10.322870254516602, 11.453036308288574, -0.6445789933204651, -1.5263314247131348, 11.8746976852417, -2.8558924198150635, 10.981355667114258, -2.7729649543762207, -3.490283727645874, 11.088802337646484, 12.410531997680664, 0.4038070738315582, 9.734679222106934, 11.529643058776855, -2.173887252807617, 11.08283805847168, 10.47339916229248, -1.6497646570205688, 11.38199520111084, -2.660956859588623, -2.7489500045776367, 10.514835357666016, -0.20849941670894623, 0.10613325238227844, 11.190218925476074, -3.3409109115600586, -2.9982566833496094, 0.2985658049583435, 11.146102905273438, -2.1284141540527344, -3.1782543659210205, -0.21500574052333832, -1.8335551023483276, -2.7469897270202637, 11.513495445251465, -2.6247611045837402, 10.716144561767578, -2.541302442550659, -1.6152679920196533, -2.042952299118042, -1.4718881845474243, -2.2149574756622314, -1.8230955600738525, -0.9970080256462097, 10.094286918640137, -0.7047950625419617, -0.6229114532470703, -2.943960666656494, -1.183552622795105, 10.274730682373047, 12.07285213470459, -1.366019368171692, 12.246341705322266, 0.5394918322563171, -0.28302133083343506, -0.8924108147621155, 10.534811019897461, -2.927535057067871, 10.495906829833984, 9.688895225524902, 11.620689392089844, 10.633783340454102, 10.53750991821289, 0.7174079418182373, 9.973538398742676, -1.7754192352294922, -0.8561331033706665, 0.34256455302238464, -0.6828880906105042, -0.9166375398635864, 0.622783362865448, -0.38074687123298645, 10.498486518859863, -3.014597177505493, -2.7650234699249268, -0.36272022128105164, 10.166156768798828, 11.850876808166504, -3.0237154960632324, 0.8215393424034119, 12.035024642944336, -3.6093811988830566, -2.268303871154785, -1.7075576782226562, -3.139207124710083, -0.09512177109718323, 0.7935944199562073, -0.19689512252807617, 11.542211532592773, 10.052905082702637, 10.903311729431152, 12.15173053741455, -1.4697061777114868, -2.969874143600464, -1.4870073795318604, 0.13575613498687744, -0.34415850043296814, 0.4167849123477936, 11.893603324890137, 10.022753715515137, -2.075793504714966, 10.27824878692627, 10.857279777526855, 0.6270772218704224, 11.797666549682617, -0.6528579592704773, 0.9954833984375, 0.08562304079532623, 10.02721118927002, -0.3326275050640106, 0.5009909868240356, -2.7440531253814697, 11.015456199645996, -2.9181299209594727, 10.460921287536621, 10.499902725219727, -2.8238117694854736, -2.070066213607788, -1.073643445968628, 11.718717575073242, -2.399115562438965, -2.079664468765259, -0.5874448418617249, 9.952717781066895, -2.7298028469085693, 11.746941566467285, -0.04134274646639824, 12.377054214477539, 12.036134719848633, -2.2165369987487793, 10.351795196533203, -1.4971537590026855, -3.617659568786621, -2.3927319049835205, -0.5459774732589722, 10.808926582336426, 10.40785026550293, -0.3352547287940979, 10.41244125366211, 11.193321228027344, 12.298663139343262, 0.39053502678871155, 11.110374450683594, -0.6336045861244202, -1.9016155004501343, -0.8059096932411194, -2.3143417835235596, -0.30012544989585876, -2.65966534614563, 10.74706745147705, -0.5506932735443115, -2.944901943206787, -3.628225326538086, -0.49534112215042114, -1.983940839767456, -1.817183494567871, 11.87238883972168, -1.1798492670059204, -2.790379285812378, -0.08245144784450531, 11.243623733520508, -0.21875156462192535, -1.745614767074585, 11.197407722473145, 11.685702323913574, 10.04455280303955, 12.299144744873047, 11.073725700378418, 0.17580008506774902, 10.055781364440918, -1.3939968347549438, 10.015170097351074, 0.3230573236942291, 11.437774658203125, 12.246338844299316, -1.2452107667922974, 0.36256343126296997, 9.879448890686035, -1.198169231414795, -0.30039480328559875, -0.9089632630348206, -3.041977643966675, -2.25171160697937, 0.7066656351089478, 0.6758127212524414, -0.6054469347000122, -0.5221988558769226, -0.40007737278938293, -1.5418627262115479, -1.7177979946136475, -0.24846158921718597, 10.808097839355469, 11.329673767089844, -1.3644784688949585, 11.595715522766113, -0.4182588756084442, -3.178647756576538, -1.1558948755264282, 0.7305963635444641, -2.9796953201293945, 11.563803672790527, -0.7879751324653625, -0.7363346815109253, -1.1952000856399536, -0.4344833195209503, 10.461596488952637, -0.5609788298606873, 10.846820831298828, -0.05472041666507721, -1.0773168802261353, -1.046610951423645, 12.185498237609863, -2.7316367626190186, 10.660425186157227, -1.4700427055358887, 10.486918449401855, -1.426339864730835, -2.4802920818328857, -2.317993402481079, -0.140919029712677, 11.301553726196289, -2.4641008377075195, -0.008592038415372372, 11.785348892211914, -0.901167094707489, -0.8740707635879517, 11.688350677490234, 11.411221504211426, -1.488331913948059, -0.07184804975986481, -0.4205996096134186, 10.306171417236328, -0.12986931204795837, 11.567886352539062, -0.6092596650123596, 0.6959405541419983, -2.485154867172241, -0.0380694642663002, -3.0685601234436035, -1.7654250860214233, -0.5959240794181824, 9.826589584350586, -2.2241809368133545, 0.2266230434179306, 10.419560432434082, 10.483006477355957, -0.6443737149238586, 10.722186088562012, -2.4730947017669678, -1.1065841913223267, 9.78590202331543, -2.4539482593536377, -2.4862706661224365, -3.1001038551330566, -2.948216438293457, 10.577166557312012, 11.099343299865723, 11.853221893310547, 10.626941680908203, 12.006779670715332, 0.24329371750354767, 10.649128913879395, 10.001169204711914, -0.8863018155097961, -3.5541276931762695, -2.4769439697265625, 10.510516166687012, 0.6630439758300781, -3.616466760635376, -1.042830228805542, 11.590970039367676, -2.6315324306488037, -0.6115055680274963, 10.886382102966309, 11.882556915283203, -0.4051458537578583, 9.627412796020508, 10.808026313781738, -2.8499104976654053, -0.7346464395523071, 0.9143538475036621, -1.3179514408111572, 9.677543640136719, 9.593929290771484, 12.383495330810547, -1.086758017539978, -1.621168613433838, 10.383166313171387, -1.4741969108581543, 0.5906420350074768, 10.076122283935547, -0.19769659638404846, -1.5381122827529907, 10.306951522827148, 10.010635375976562, 11.305330276489258, 9.789596557617188, -0.03625698387622833, 12.1662015914917, -0.5716395378112793, -0.5949221849441528, 0.08844692260026932, 10.480563163757324, -1.8255319595336914, -3.3132476806640625, -3.551820993423462, 9.954756736755371, -0.753434419631958, -1.0073084831237793, -1.0027451515197754, 9.691781044006348, -0.785102903842926, -3.6984033584594727, -2.5180115699768066, 10.470722198486328, 11.012590408325195, 11.572729110717773, 0.5220657587051392, 11.912200927734375, -0.8272866010665894, -1.8217426538467407, -2.7297568321228027, 10.795342445373535, -3.477764129638672, -1.003298044204712, 12.079057693481445, -2.8788328170776367, 11.191984176635742, -1.755668044090271, -2.1769556999206543, -2.2510786056518555, -0.42015019059181213, -1.5175684690475464, -1.4038397073745728, 11.97934341430664, -0.9376418590545654, 11.83420467376709, -3.428046703338623, -0.804632306098938, -0.268873006105423, -0.9994987845420837, -0.9702811241149902, -2.7949955463409424, -0.4234752357006073, 0.6619858145713806, -2.9263434410095215, -1.1387789249420166, -2.068009853363037, -1.3083833456039429, 0.42286416888237, -1.3281207084655762, -3.2871599197387695, 11.31277084350586, -1.3369688987731934, 9.845791816711426, -3.69350528717041, -3.4537994861602783, 11.390823364257812, -2.4124417304992676, 9.894729614257812, -2.6248507499694824, -1.692886233329773, 0.19779646396636963, -2.4889276027679443, 11.098906517028809, -2.3625123500823975, -2.555285692214966, -0.1408185213804245, -0.5725240707397461, 0.07372108101844788, 0.5219389200210571, 10.634100914001465, -2.5946297645568848, -2.127279043197632, -0.21445024013519287, 10.960156440734863, -1.9692363739013672, 11.789185523986816, 9.678515434265137, -2.721694231033325, -0.36856162548065186, 0.4463827610015869, 11.058112144470215, 0.24465154111385345, 11.463775634765625, 9.721988677978516, 10.856740951538086, 10.40771484375, 10.550557136535645, -3.717367649078369, 0.19367820024490356, 0.681693434715271, -1.5259455442428589, 10.910534858703613, -3.527437210083008, -1.8378757238388062, 11.918581008911133, -0.3585975468158722, -0.9170277118682861, 12.31435489654541, 9.715912818908691, 11.187498092651367, 9.989044189453125, 12.267753601074219, 11.735806465148926, 10.362972259521484, -2.1090176105499268, -2.269806146621704, -1.725300669670105, 11.004319190979004, -0.02906462736427784, -1.0964791774749756, 10.011187553405762, 0.7094449400901794, -2.4005205631256104, -1.4281854629516602, -0.5408985018730164, 9.981156349182129, -0.32451701164245605, -1.906046748161316, -2.288483142852783, 0.09680120646953583, 0.9656503200531006, 0.1911708265542984, 10.7687349319458, -3.660538911819458, 9.918519020080566, -0.5020249485969543, -3.5199873447418213, -0.09081608802080154, -2.4662132263183594, 0.7513025999069214, 11.539848327636719, -1.3935296535491943, -3.5398411750793457, 10.09521484375, -0.9538239240646362, 10.611835479736328, -2.0298542976379395, -1.9921408891677856, -1.5638248920440674, -0.8253982067108154, -1.9808323383331299, -1.3370780944824219, 0.71799236536026, -0.7697266340255737, 10.661581039428711, -1.1258505582809448, -2.4489686489105225, -2.9918246269226074, 11.517193794250488, 11.082996368408203, 10.553401947021484, -1.213460922241211, -1.3281482458114624, -0.5142271518707275, 9.65943717956543, 11.777799606323242, 11.009441375732422, 10.788495063781738, -2.9791808128356934, 11.055377006530762, -1.6553471088409424, -1.1494957208633423, -2.421051025390625, 0.12349671125411987, -0.24239641427993774, 0.011973729357123375, -1.2693051099777222, -2.6537933349609375, 11.45688247680664, -2.727362871170044, 11.663900375366211, 10.463651657104492, -0.024015994742512703, 10.77418327331543, -3.0127389430999756, -0.8105148077011108, -1.8112335205078125, -2.1409261226654053, -2.834766149520874, 9.907307624816895, 11.721776008605957, -0.6953611373901367, 0.45267432928085327, 10.780091285705566, 10.556624412536621, -0.2572498321533203, 11.181320190429688, -1.1027294397354126, -2.704451322555542, 0.9216561317443848, -1.2071093320846558, -0.5375441908836365, -0.7069918513298035, -0.8960510492324829, 0.911898136138916, 11.79051399230957, -1.9675424098968506, -1.9540601968765259, 11.367377281188965, 11.035283088684082, 11.897354125976562, -1.8929951190948486, 10.769375801086426, 0.45206764340400696, 10.387466430664062, 10.753469467163086, 0.15575365722179413, -3.544151544570923, 9.980813980102539, -2.7207024097442627, 10.175065040588379, -2.958314895629883, -2.051788091659546, 0.11549004912376404, -0.6815875768661499, -0.7069095969200134, -0.3875064551830292, 11.351489067077637, 11.344358444213867, -0.9779564142227173, -2.1947052478790283, 10.572978019714355, 10.96841049194336, 9.669905662536621, 0.6365711092948914, -1.7165874242782593, -1.2717128992080688, 10.643558502197266, -3.1977145671844482, -0.8962040543556213, -3.0443637371063232, -0.27196332812309265, -2.3229000568389893, 10.053592681884766, -1.4837809801101685, 12.130581855773926, -2.394376277923584, -1.0216633081436157, 11.691726684570312, -3.0844645500183105, -1.2512437105178833, -0.7608217000961304, 12.266764640808105, -0.5180054903030396, 9.846094131469727, 9.991385459899902, -0.2521930932998657, -3.6156280040740967, -1.461018681526184, 12.211490631103516, -1.4084895849227905, 0.6781261563301086, 10.343374252319336, 10.448622703552246, 12.25875186920166, 9.960365295410156, -2.6912426948547363, -2.8200080394744873, 10.695829391479492, 10.39927864074707, -0.8124103546142578, -1.3680174350738525, -3.657217025756836, 10.357954978942871, 12.254191398620605], \"xaxis\": \"x\", \"y\": [4.310093402862549, 11.172335624694824, 4.728033542633057, 9.159494400024414, 4.873066425323486, 8.773164749145508, 11.098487854003906, 8.830434799194336, 8.301027297973633, 6.008571147918701, 10.023185729980469, 5.719200134277344, 9.36917495727539, 8.559992790222168, 5.871221542358398, 7.783550262451172, 9.579270362854004, 9.965267181396484, 5.316306114196777, 6.488187789916992, 8.797479629516602, 4.999087810516357, 5.541831016540527, 8.277384757995605, 7.844738483428955, 5.126245975494385, 5.931766033172607, 8.747480392456055, 7.344785213470459, 7.646303653717041, 8.717696189880371, 11.533927917480469, 6.903459072113037, 6.950814247131348, 8.037052154541016, 5.031285762786865, 9.682696342468262, 8.702081680297852, 4.945191383361816, 8.818035125732422, 10.092166900634766, 7.613983631134033, 9.249098777770996, 7.856626033782959, 6.733383655548096, 7.92092752456665, 6.784520626068115, 8.34654426574707, 5.978758811950684, 10.18492317199707, 9.813919067382812, 5.848952770233154, 8.186779022216797, 7.8689775466918945, 8.494568824768066, 11.994327545166016, 11.969905853271484, 7.8890700340271, 7.091074466705322, 5.50865364074707, 8.017107009887695, 9.36522102355957, 8.01304817199707, 7.759214878082275, 9.200799942016602, 6.636054515838623, 9.01501178741455, 9.767824172973633, 5.637127876281738, 8.532553672790527, 7.68921422958374, 8.816753387451172, 4.96378231048584, 9.619203567504883, 3.972177505493164, 4.524632930755615, 5.509772300720215, 7.79856538772583, 4.538818836212158, 5.26841926574707, 5.279244899749756, 5.021690368652344, 5.364853858947754, 9.388288497924805, 11.028593063354492, 10.389886856079102, 10.181561470031738, 10.743207931518555, 8.581552505493164, 5.468945026397705, 4.464020252227783, 10.075532913208008, 9.244844436645508, 10.96406078338623, 11.717021942138672, 7.964186191558838, 8.687325477600098, 10.092796325683594, 9.629475593566895, 5.468740463256836, 4.916659832000732, 10.184203147888184, 10.105780601501465, 8.15204906463623, 8.5446138381958, 6.2542877197265625, 9.137221336364746, 10.694466590881348, 3.964423894882202, 7.808028221130371, 5.280827522277832, 5.204190254211426, 10.358530044555664, 4.75416374206543, 4.6826958656311035, 5.211793899536133, 11.731278419494629, 10.988299369812012, 9.448766708374023, 10.00182056427002, 5.1551289558410645, 8.514098167419434, 10.587818145751953, 9.450495719909668, 7.205131530761719, 10.952271461486816, 11.508322715759277, 9.056923866271973, 10.969308853149414, 10.818297386169434, 8.121818542480469, 8.585773468017578, 9.637968063354492, 11.21667194366455, 10.481522560119629, 4.05384635925293, 5.1438164710998535, 9.456127166748047, 11.177656173706055, 9.403932571411133, 9.75468635559082, 5.527716159820557, 8.041297912597656, 5.1047210693359375, 10.169787406921387, 5.7316813468933105, 9.085196495056152, 10.013300895690918, 11.234038352966309, 8.778705596923828, 5.447386741638184, 4.812943935394287, 9.328401565551758, 7.942550182342529, 4.9245829582214355, 9.054791450500488, 9.259613037109375, 9.842034339904785, 4.249429702758789, 9.30566120147705, 11.635578155517578, 7.9249796867370605, 4.517842769622803, 4.792314052581787, 8.984505653381348, 10.304101943969727, 9.706890106201172, 7.293348789215088, 5.456876754760742, 7.460772514343262, 9.11749267578125, 10.041053771972656, 8.132637977600098, 4.825522422790527, 9.086546897888184, 10.40466594696045, 8.482629776000977, 4.637247562408447, 11.33104133605957, 9.302046775817871, 9.147709846496582, 8.13585376739502, 11.518792152404785, 7.539997577667236, 7.370425701141357, 11.62660026550293, 7.463697910308838, 8.012304306030273, 5.675046920776367, 4.7858381271362305, 9.936870574951172, 4.774040222167969, 10.029281616210938, 4.6712470054626465, 11.393210411071777, 11.309144973754883, 9.201751708984375, 10.659123420715332, 5.030013561248779, 7.209673881530762, 8.316518783569336, 9.138838768005371, 11.612618446350098, 5.389659404754639, 4.711050033569336, 11.601311683654785, 5.361514568328857, 8.254216194152832, 8.411823272705078, 11.234736442565918, 9.125399589538574, 7.514030933380127, 7.596351623535156, 5.278705596923828, 8.449423789978027, 8.913397789001465, 11.171460151672363, 7.833387851715088, 8.065478324890137, 8.949821472167969, 4.762242794036865, 10.394034385681152, 5.419062614440918, 4.046713352203369, 11.27347183227539, 5.467215061187744, 9.113439559936523, 5.621687889099121, 10.46607780456543, 7.404146194458008, 11.25136661529541, 9.271233558654785, 9.291016578674316, 9.38916301727295, 10.519808769226074, 10.3255615234375, 10.797986030578613, 4.94860315322876, 8.913065910339355, 4.588017463684082, 8.365460395812988, 10.05472183227539, 4.986172199249268, 10.776551246643066, 8.615861892700195, 10.71187973022461, 5.4816975593566895, 4.523317337036133, 9.089550971984863, 5.300002098083496, 7.723446369171143, 9.335939407348633, 8.916473388671875, 7.9446210861206055, 6.231708526611328, 8.505990028381348, 4.134092807769775, 10.766490936279297, 7.390687465667725, 10.244657516479492, 4.831614017486572, 7.859711170196533, 4.820958137512207, 9.259732246398926, 7.8957929611206055, 10.663721084594727, 9.302775382995605, 11.542556762695312, 3.9396584033966064, 10.266441345214844, 10.328519821166992, 11.70190715789795, 4.288341045379639, 4.796790599822998, 9.13399887084961, 8.238672256469727, 7.667758464813232, 4.841111660003662, 10.51680850982666, 5.667647361755371, 9.251811981201172, 4.834568500518799, 5.838202476501465, 4.317660331726074, 4.752967357635498, 10.400520324707031, 9.6416597366333, 10.420531272888184, 10.89866828918457, 4.6390767097473145, 5.444223403930664, 10.836528778076172, 9.052638053894043, 10.435072898864746, 9.507938385009766, 9.936854362487793, 8.952820777893066, 4.888381004333496, 9.067169189453125, 4.222452640533447, 10.754129409790039, 10.802084922790527, 7.497519493103027, 8.593680381774902, 8.500665664672852, 4.219435691833496, 10.144693374633789, 4.390227794647217, 9.987518310546875, 7.405167579650879, 7.396324634552002, 9.863707542419434, 7.927927494049072, 4.653258323669434, 9.07888412475586, 4.2758331298828125, 7.616483688354492, 10.94483470916748, 4.165818214416504, 11.610971450805664, 10.631611824035645, 4.3752007484436035, 9.030410766601562, 10.135801315307617, 5.070432186126709, 4.557347297668457, 8.939491271972656, 9.157024383544922, 5.834655284881592, 8.752223014831543, 11.555886268615723, 7.675332546234131, 7.925119876861572, 8.740928649902344, 10.614301681518555, 5.545530319213867, 10.857708930969238, 3.9792981147766113, 7.642790794372559, 7.458630084991455, 3.997361183166504, 5.612138748168945, 9.431278228759766, 7.952192783355713, 8.867908477783203, 5.555386066436768, 11.226166725158691, 10.184576988220215, 9.007140159606934, 7.742950916290283, 9.289450645446777, 4.164810657501221, 10.211844444274902, 11.747947692871094, 9.713900566101074, 5.604996681213379, 8.212936401367188, 10.30495834350586, 8.023909568786621, 5.210920810699463, 10.962404251098633, 10.205544471740723, 7.974405765533447, 9.683135032653809, 9.14926815032959, 4.617922306060791, 7.661031723022461, 11.234559059143066, 10.835289001464844, 10.871776580810547, 9.360929489135742, 8.3904390335083, 5.3067708015441895, 5.94333553314209, 9.080007553100586, 9.129976272583008, 4.207090377807617, 8.72669792175293, 11.735655784606934, 5.146248817443848, 9.221846580505371, 8.560986518859863, 4.117090225219727, 5.213151454925537, 10.837299346923828, 8.706415176391602, 8.963469505310059, 8.932677268981934, 9.219667434692383, 5.29428243637085, 9.709704399108887, 8.728818893432617, 4.329931735992432, 4.8707709312438965, 10.319269180297852, 11.74207592010498, 6.179197311401367, 8.640487670898438, 4.652806282043457, 5.601025581359863, 9.749127388000488, 9.349029541015625, 9.948598861694336, 11.601405143737793, 8.576682090759277, 11.685378074645996, 5.201793193817139, 8.419617652893066, 9.447793960571289, 10.738105773925781, 10.604536056518555, 5.173576354980469, 8.266952514648438, 4.392590522766113, 10.754150390625, 9.312850952148438, 10.519369125366211, 11.008787155151367, 9.241352081298828, 5.707851886749268, 5.261149883270264, 9.389861106872559, 10.316519737243652, 10.911933898925781, 5.588840484619141, 10.725377082824707, 11.176136016845703, 8.682464599609375, 4.731905937194824, 5.4979143142700195, 5.125722885131836, 11.548583984375, 9.41727066040039, 8.783106803894043, 7.476369857788086, 9.318245887756348, 10.483246803283691, 5.416449069976807, 3.961714506149292, 4.711218357086182, 6.073728084564209, 4.6244587898254395, 4.686715126037598, 5.668832302093506, 8.647481918334961, 8.419739723205566, 7.566335201263428, 8.21265983581543, 5.402163028717041, 8.455410957336426, 9.468005180358887, 5.092759609222412, 9.272712707519531, 4.227119445800781, 10.36834716796875, 11.576927185058594, 8.80197525024414, 5.192056655883789, 4.476540565490723, 4.837756156921387, 10.773613929748535, 4.910873889923096, 9.749958038330078, 5.188599109649658, 8.772744178771973, 4.422034740447998, 3.9947314262390137, 7.969849109649658, 10.37525749206543, 5.301168441772461, 5.203524589538574, 9.56376838684082, 10.162839889526367, 4.4120402336120605, 9.13370418548584, 11.357292175292969, 11.264229774475098, 8.401420593261719, 4.379768371582031, 10.681336402893066, 9.794658660888672, 9.430219650268555, 8.483328819274902, 5.567215442657471, 11.663484573364258, 5.555685043334961, 9.665847778320312, 4.738500595092773, 4.080943584442139, 4.611914157867432, 4.643111228942871, 10.188161849975586, 7.886805057525635, 7.47181510925293, 5.010870456695557, 8.99166488647461, 10.720603942871094, 9.563864707946777, 8.074376106262207, 5.4233856201171875, 11.06295108795166, 8.7749662399292, 4.949340343475342, 8.566115379333496, 4.665552139282227, 4.572971820831299, 4.090701580047607, 9.991235733032227, 4.98255729675293, 7.985011577606201, 4.7664666175842285, 9.959633827209473, 10.072818756103516, 7.574352741241455, 4.732151508331299, 8.436327934265137, 7.815300464630127, 4.2679243087768555, 9.237905502319336, 10.19715690612793, 5.241487503051758, 6.070164203643799, 7.518364429473877, 5.855326175689697, 8.139245986938477, 11.635642051696777, 5.213895797729492, 10.88476848602295, 9.122323989868164, 4.338168144226074, 10.07652473449707, 7.721449375152588, 9.526342391967773, 9.28729248046875, 10.184659004211426, 7.561182975769043, 11.083381652832031, 5.333556175231934, 7.0453338623046875, 10.442809104919434, 9.7310209274292, 8.865885734558105, 10.524751663208008, 11.262345314025879, 10.347786903381348, 9.708390235900879, 6.041833400726318, 9.043757438659668, 8.886954307556152, 5.930997848510742, 8.286723136901855, 4.2522053718566895, 5.1857805252075195, 4.2583909034729, 8.153924942016602, 10.299820899963379, 9.495193481445312, 4.145384788513184, 9.13520622253418, 8.531132698059082, 5.626553058624268, 8.092313766479492, 8.239861488342285, 9.97219181060791, 9.857670783996582, 5.199968338012695, 9.999173164367676, 8.75013256072998, 8.78543472290039, 10.167014122009277, 4.442508220672607, 10.288858413696289, 8.653494834899902, 7.726144790649414, 11.150733947753906, 7.478124618530273, 10.874755859375, 10.788097381591797, 4.246513843536377, 5.189879894256592, 5.170456409454346, 4.810465335845947, 5.604191780090332, 11.040879249572754, 9.893803596496582, 5.334847927093506, 4.174319267272949, 9.087708473205566, 11.354812622070312, 7.750887870788574, 9.411298751831055, 9.153157234191895, 8.25314712524414, 8.586400985717773, 8.349161148071289, 8.07154369354248, 8.831016540527344, 7.798894882202148, 8.387797355651855, 5.570168972015381, 9.535106658935547, 8.350102424621582, 7.886926651000977, 11.241020202636719, 8.733062744140625, 11.211910247802734, 8.832643508911133, 7.621412754058838, 9.975208282470703, 10.524205207824707, 7.474170207977295, 5.467840671539307, 5.239115238189697, 4.077699661254883, 5.484254837036133, 8.435623168945312, 8.97976016998291, 8.600457191467285, 7.368107795715332, 4.196369171142578, 7.957146167755127, 8.132654190063477, 7.827838897705078, 8.944747924804688, 5.837744235992432, 8.637006759643555, 11.646676063537598, 4.717615604400635, 8.448137283325195, 5.236000061035156, 7.398204326629639, 10.59184455871582, 4.084839344024658, 5.656296730041504, 5.4042134284973145, 6.787391185760498, 5.589982986450195, 8.008575439453125, 10.360183715820312, 8.086006164550781, 4.737071514129639, 11.398250579833984, 11.444397926330566, 5.286779403686523, 7.511533737182617, 4.460941791534424, 5.1765947341918945, 4.1468658447265625, 7.825594902038574, 4.243744373321533, 9.178587913513184, 9.92697525024414, 8.754786491394043, 9.542669296264648, 10.456302642822266, 11.275591850280762, 5.445813179016113, 4.271815299987793, 8.602873802185059, 7.764120578765869, 7.581847190856934, 8.25092601776123, 8.474658012390137, 4.207467079162598, 8.938736915588379, 11.07484245300293, 9.397835731506348, 11.330587387084961, 10.721177101135254, 10.330551147460938, 9.3031644821167, 5.779979228973389, 7.867958068847656, 8.18901538848877, 9.121840476989746, 8.622923851013184, 11.38163948059082, 10.307127952575684, 8.845516204833984, 11.26634407043457, 5.552730083465576, 9.303451538085938, 4.039064407348633, 8.318765640258789, 8.245864868164062, 10.451949119567871, 5.896403789520264, 10.13723373413086, 10.14788818359375, 7.34213399887085, 7.544674873352051, 7.643927097320557, 8.146011352539062, 9.304244995117188, 10.260807037353516, 9.527843475341797, 4.965260028839111, 5.424177646636963, 4.336066722869873, 7.181906223297119, 8.595083236694336, 5.475799560546875, 8.468048095703125, 7.341667175292969, 5.686643600463867, 11.913763999938965, 9.748724937438965, 7.254249572753906, 7.744974136352539, 7.78247594833374, 6.796743392944336, 9.59157657623291, 7.6490302085876465, 9.567686080932617, 8.939456939697266, 9.308411598205566, 8.791841506958008, 7.957614421844482, 11.022077560424805, 9.238723754882812, 5.18847131729126, 11.681755065917969, 9.614874839782715, 6.101326942443848, 9.416966438293457, 6.94627046585083, 8.251387596130371, 9.405648231506348, 9.102529525756836, 8.67371654510498, 9.319798469543457, 5.419260025024414, 8.07107162475586, 7.813199520111084, 8.63996696472168, 10.216805458068848, 5.220489025115967, 4.783803462982178, 4.71657657623291, 7.47650671005249, 8.878939628601074, 4.405206203460693, 4.308235168457031, 7.680642127990723, 4.8029866218566895, 4.865900039672852, 5.166575908660889, 10.342914581298828, 4.939498424530029, 7.635925769805908, 11.15812873840332, 5.257028102874756, 11.771209716796875, 11.369128227233887, 9.2012939453125, 4.745687007904053, 5.347802639007568, 7.9743499755859375, 7.523815631866455, 10.103754997253418, 7.476668834686279, 7.80816650390625, 9.127063751220703, 10.537253379821777, 4.341408729553223, 11.377741813659668, 11.63508415222168, 4.981840133666992, 11.109566688537598, 4.786671161651611, 5.328929424285889, 4.37054967880249, 8.380775451660156, 11.171236991882324, 4.437435150146484, 9.586319923400879, 8.400774955749512, 8.735272407531738, 4.140221118927002, 4.393010139465332, 4.967150688171387, 11.64072036743164, 10.110432624816895, 5.4439473152160645, 4.582751274108887, 7.5781474113464355, 8.010503768920898, 9.100741386413574, 5.018831253051758, 5.574848651885986, 8.575688362121582, 5.295583724975586, 7.448858261108398, 4.205049514770508, 11.493371963500977, 11.433232307434082, 9.07512378692627, 5.284011363983154, 4.825863838195801, 9.858912467956543, 8.682350158691406, 8.431533813476562, 9.15250301361084, 11.207908630371094, 4.547570705413818, 10.403369903564453, 8.31003475189209, 10.19788932800293, 9.851035118103027, 9.318410873413086, 5.331274032592773, 7.869241714477539, 4.126195430755615, 5.283625602722168, 10.274919509887695, 5.438446998596191, 10.112812995910645, 8.461174964904785, 8.449623107910156, 9.139081001281738, 9.927818298339844, 4.749735355377197, 4.8508687019348145, 10.310805320739746, 9.754101753234863, 10.492968559265137, 9.879473686218262, 5.13853645324707, 4.353087902069092, 7.681796550750732, 10.186067581176758, 5.012670040130615, 7.857957363128662, 7.77009916305542, 5.072485446929932, 8.653620719909668, 5.455102920532227, 4.807255744934082, 9.961359024047852, 8.158681869506836, 4.979493141174316, 8.108301162719727, 9.182489395141602, 10.505322456359863, 11.018162727355957, 9.673355102539062, 10.335061073303223, 5.010826587677002, 5.413852214813232, 7.286003112792969, 9.497969627380371, 5.201150894165039, 8.060226440429688, 5.084629535675049, 9.144487380981445, 10.292187690734863, 8.981297492980957, 9.877545356750488, 5.313009262084961, 7.475936412811279, 5.017649173736572, 5.394003868103027, 8.726621627807617, 5.194295406341553, 10.121644973754883, 9.436281204223633, 11.06218433380127, 5.483395576477051, 8.86963939666748, 5.508735179901123, 9.137797355651855, 8.294093132019043, 10.284589767456055, 5.363278865814209, 11.768790245056152, 9.166669845581055, 8.261435508728027, 8.786225318908691, 4.425707817077637, 4.871236324310303, 5.501031398773193, 4.659836292266846, 5.819119453430176, 8.940272331237793, 8.641640663146973, 10.327898979187012, 4.419226169586182, 9.127578735351562, 4.116528511047363, 7.785159587860107, 5.3371124267578125, 7.483914375305176, 5.608731746673584, 5.812032222747803, 7.39841365814209, 4.936031818389893, 4.087803363800049, 10.595340728759766, 9.079558372497559, 9.733220100402832, 10.319615364074707, 7.941852569580078, 8.996756553649902, 8.508003234863281, 4.962583065032959, 5.346774578094482, 8.899430274963379, 11.500088691711426, 5.728994369506836, 4.068470478057861, 9.98849868774414, 9.235939979553223, 9.193285942077637, 4.005265712738037, 7.509398460388184, 4.6961798667907715, 4.9938645362854, 10.603142738342285, 9.856857299804688, 10.292068481445312, 5.142141342163086, 9.378479957580566, 9.838668823242188, 5.551093578338623, 10.345227241516113, 5.488918781280518, 11.703385353088379, 4.399261951446533, 9.105010032653809, 10.38340950012207, 4.782782554626465, 8.330137252807617, 10.064335823059082, 7.767556190490723, 8.71104907989502, 5.598437786102295, 8.857256889343262, 4.9163408279418945, 11.1311674118042, 10.131301879882812, 5.369689464569092, 8.09359359741211, 4.650365829467773, 9.70030689239502, 4.367537021636963, 7.417400360107422, 4.683090686798096, 4.488178253173828, 10.49013900756836, 11.727947235107422, 4.402826309204102, 8.451140403747559, 8.604460716247559, 9.168633460998535, 8.783821105957031, 10.506766319274902, 10.266385078430176, 7.839289665222168, 7.771440029144287, 8.608001708984375, 11.31179141998291, 9.331463813781738, 4.691115856170654, 4.3875885009765625, 4.255807399749756, 10.0757417678833, 10.352947235107422, 4.230100631713867, 7.515318870544434, 7.954255104064941, 7.835513591766357, 5.111597061157227, 4.0500593185424805, 4.717691421508789, 5.553920269012451, 10.842899322509766, 10.531938552856445, 7.7077317237854, 8.02314567565918, 9.104483604431152, 7.507781982421875, 4.900457382202148, 4.986265182495117, 11.469141006469727, 7.704948425292969, 9.19076919555664, 8.695330619812012, 8.895853042602539, 10.158750534057617, 5.446437835693359, 9.18771743774414, 4.127646446228027, 4.606786251068115, 4.930883407592773, 7.613396167755127, 4.210837364196777, 10.085966110229492, 5.151312351226807, 8.826152801513672, 5.48037576675415], \"yaxis\": \"y\"}],\n",
              "                        {\"coloraxis\": {\"colorbar\": {\"title\": {\"text\": \"Anomaly\"}}, \"colorscale\": [[0.0, \"#0d0887\"], [0.1111111111111111, \"#46039f\"], [0.2222222222222222, \"#7201a8\"], [0.3333333333333333, \"#9c179e\"], [0.4444444444444444, \"#bd3786\"], [0.5555555555555556, \"#d8576b\"], [0.6666666666666666, \"#ed7953\"], [0.7777777777777778, \"#fb9f3a\"], [0.8888888888888888, \"#fdca26\"], [1.0, \"#f0f921\"]]}, \"height\": 800, \"legend\": {\"tracegroupgap\": 0}, \"template\": {\"data\": {\"bar\": [{\"error_x\": {\"color\": \"#2a3f5f\"}, \"error_y\": {\"color\": \"#2a3f5f\"}, \"marker\": {\"line\": {\"color\": \"#E5ECF6\", \"width\": 0.5}}, \"type\": \"bar\"}], \"barpolar\": [{\"marker\": {\"line\": {\"color\": \"#E5ECF6\", \"width\": 0.5}}, \"type\": \"barpolar\"}], \"carpet\": [{\"aaxis\": {\"endlinecolor\": \"#2a3f5f\", \"gridcolor\": \"white\", \"linecolor\": \"white\", \"minorgridcolor\": \"white\", \"startlinecolor\": \"#2a3f5f\"}, \"baxis\": {\"endlinecolor\": \"#2a3f5f\", \"gridcolor\": \"white\", \"linecolor\": \"white\", \"minorgridcolor\": \"white\", \"startlinecolor\": \"#2a3f5f\"}, \"type\": \"carpet\"}], \"choropleth\": [{\"colorbar\": {\"outlinewidth\": 0, \"ticks\": \"\"}, \"type\": \"choropleth\"}], \"contour\": [{\"colorbar\": {\"outlinewidth\": 0, \"ticks\": \"\"}, \"colorscale\": [[0.0, \"#0d0887\"], [0.1111111111111111, \"#46039f\"], [0.2222222222222222, \"#7201a8\"], [0.3333333333333333, \"#9c179e\"], [0.4444444444444444, \"#bd3786\"], [0.5555555555555556, \"#d8576b\"], [0.6666666666666666, \"#ed7953\"], [0.7777777777777778, \"#fb9f3a\"], [0.8888888888888888, \"#fdca26\"], [1.0, \"#f0f921\"]], \"type\": \"contour\"}], \"contourcarpet\": [{\"colorbar\": {\"outlinewidth\": 0, \"ticks\": \"\"}, \"type\": \"contourcarpet\"}], \"heatmap\": [{\"colorbar\": {\"outlinewidth\": 0, \"ticks\": \"\"}, \"colorscale\": [[0.0, \"#0d0887\"], [0.1111111111111111, \"#46039f\"], [0.2222222222222222, \"#7201a8\"], [0.3333333333333333, \"#9c179e\"], [0.4444444444444444, \"#bd3786\"], [0.5555555555555556, \"#d8576b\"], [0.6666666666666666, \"#ed7953\"], [0.7777777777777778, \"#fb9f3a\"], [0.8888888888888888, \"#fdca26\"], [1.0, \"#f0f921\"]], \"type\": \"heatmap\"}], \"heatmapgl\": [{\"colorbar\": {\"outlinewidth\": 0, \"ticks\": \"\"}, \"colorscale\": [[0.0, \"#0d0887\"], [0.1111111111111111, \"#46039f\"], [0.2222222222222222, \"#7201a8\"], [0.3333333333333333, \"#9c179e\"], [0.4444444444444444, \"#bd3786\"], [0.5555555555555556, \"#d8576b\"], [0.6666666666666666, \"#ed7953\"], [0.7777777777777778, \"#fb9f3a\"], [0.8888888888888888, \"#fdca26\"], [1.0, \"#f0f921\"]], \"type\": \"heatmapgl\"}], \"histogram\": [{\"marker\": {\"colorbar\": {\"outlinewidth\": 0, \"ticks\": \"\"}}, \"type\": \"histogram\"}], \"histogram2d\": [{\"colorbar\": {\"outlinewidth\": 0, \"ticks\": \"\"}, \"colorscale\": [[0.0, \"#0d0887\"], [0.1111111111111111, \"#46039f\"], [0.2222222222222222, \"#7201a8\"], [0.3333333333333333, \"#9c179e\"], [0.4444444444444444, \"#bd3786\"], [0.5555555555555556, \"#d8576b\"], [0.6666666666666666, \"#ed7953\"], [0.7777777777777778, \"#fb9f3a\"], [0.8888888888888888, \"#fdca26\"], [1.0, \"#f0f921\"]], \"type\": \"histogram2d\"}], \"histogram2dcontour\": [{\"colorbar\": {\"outlinewidth\": 0, \"ticks\": \"\"}, \"colorscale\": [[0.0, \"#0d0887\"], [0.1111111111111111, \"#46039f\"], [0.2222222222222222, \"#7201a8\"], [0.3333333333333333, \"#9c179e\"], [0.4444444444444444, \"#bd3786\"], [0.5555555555555556, \"#d8576b\"], [0.6666666666666666, \"#ed7953\"], [0.7777777777777778, \"#fb9f3a\"], [0.8888888888888888, \"#fdca26\"], [1.0, \"#f0f921\"]], \"type\": \"histogram2dcontour\"}], \"mesh3d\": [{\"colorbar\": {\"outlinewidth\": 0, \"ticks\": \"\"}, \"type\": \"mesh3d\"}], \"parcoords\": [{\"line\": {\"colorbar\": {\"outlinewidth\": 0, \"ticks\": \"\"}}, \"type\": \"parcoords\"}], \"pie\": [{\"automargin\": true, \"type\": \"pie\"}], \"scatter\": [{\"marker\": {\"colorbar\": {\"outlinewidth\": 0, \"ticks\": \"\"}}, \"type\": \"scatter\"}], \"scatter3d\": [{\"line\": {\"colorbar\": {\"outlinewidth\": 0, \"ticks\": \"\"}}, \"marker\": {\"colorbar\": {\"outlinewidth\": 0, \"ticks\": \"\"}}, \"type\": \"scatter3d\"}], \"scattercarpet\": [{\"marker\": {\"colorbar\": {\"outlinewidth\": 0, \"ticks\": \"\"}}, \"type\": \"scattercarpet\"}], \"scattergeo\": [{\"marker\": {\"colorbar\": {\"outlinewidth\": 0, \"ticks\": \"\"}}, \"type\": \"scattergeo\"}], \"scattergl\": [{\"marker\": {\"colorbar\": {\"outlinewidth\": 0, \"ticks\": \"\"}}, \"type\": \"scattergl\"}], \"scattermapbox\": [{\"marker\": {\"colorbar\": {\"outlinewidth\": 0, \"ticks\": \"\"}}, \"type\": \"scattermapbox\"}], \"scatterpolar\": [{\"marker\": {\"colorbar\": {\"outlinewidth\": 0, \"ticks\": \"\"}}, \"type\": \"scatterpolar\"}], \"scatterpolargl\": [{\"marker\": {\"colorbar\": {\"outlinewidth\": 0, \"ticks\": \"\"}}, \"type\": \"scatterpolargl\"}], \"scatterternary\": [{\"marker\": {\"colorbar\": {\"outlinewidth\": 0, \"ticks\": \"\"}}, \"type\": \"scatterternary\"}], \"surface\": [{\"colorbar\": {\"outlinewidth\": 0, \"ticks\": \"\"}, \"colorscale\": [[0.0, \"#0d0887\"], [0.1111111111111111, \"#46039f\"], [0.2222222222222222, \"#7201a8\"], [0.3333333333333333, \"#9c179e\"], [0.4444444444444444, \"#bd3786\"], [0.5555555555555556, \"#d8576b\"], [0.6666666666666666, \"#ed7953\"], [0.7777777777777778, \"#fb9f3a\"], [0.8888888888888888, \"#fdca26\"], [1.0, \"#f0f921\"]], \"type\": \"surface\"}], \"table\": [{\"cells\": {\"fill\": {\"color\": \"#EBF0F8\"}, \"line\": {\"color\": \"white\"}}, \"header\": {\"fill\": {\"color\": \"#C8D4E3\"}, \"line\": {\"color\": \"white\"}}, \"type\": \"table\"}]}, \"layout\": {\"annotationdefaults\": {\"arrowcolor\": \"#2a3f5f\", \"arrowhead\": 0, \"arrowwidth\": 1}, \"coloraxis\": {\"colorbar\": {\"outlinewidth\": 0, \"ticks\": \"\"}}, \"colorscale\": {\"diverging\": [[0, \"#8e0152\"], [0.1, \"#c51b7d\"], [0.2, \"#de77ae\"], [0.3, \"#f1b6da\"], [0.4, \"#fde0ef\"], [0.5, \"#f7f7f7\"], [0.6, \"#e6f5d0\"], [0.7, \"#b8e186\"], [0.8, \"#7fbc41\"], [0.9, \"#4d9221\"], [1, \"#276419\"]], \"sequential\": [[0.0, \"#0d0887\"], [0.1111111111111111, \"#46039f\"], [0.2222222222222222, \"#7201a8\"], [0.3333333333333333, \"#9c179e\"], [0.4444444444444444, \"#bd3786\"], [0.5555555555555556, \"#d8576b\"], [0.6666666666666666, \"#ed7953\"], [0.7777777777777778, \"#fb9f3a\"], [0.8888888888888888, \"#fdca26\"], [1.0, \"#f0f921\"]], \"sequentialminus\": [[0.0, \"#0d0887\"], [0.1111111111111111, \"#46039f\"], [0.2222222222222222, \"#7201a8\"], [0.3333333333333333, \"#9c179e\"], [0.4444444444444444, \"#bd3786\"], [0.5555555555555556, \"#d8576b\"], [0.6666666666666666, \"#ed7953\"], [0.7777777777777778, \"#fb9f3a\"], [0.8888888888888888, \"#fdca26\"], [1.0, \"#f0f921\"]]}, \"colorway\": [\"#636efa\", \"#EF553B\", \"#00cc96\", \"#ab63fa\", \"#FFA15A\", \"#19d3f3\", \"#FF6692\", \"#B6E880\", \"#FF97FF\", \"#FECB52\"], \"font\": {\"color\": \"#2a3f5f\"}, \"geo\": {\"bgcolor\": \"white\", \"lakecolor\": \"white\", \"landcolor\": \"#E5ECF6\", \"showlakes\": true, \"showland\": true, \"subunitcolor\": \"white\"}, \"hoverlabel\": {\"align\": \"left\"}, \"hovermode\": \"closest\", \"mapbox\": {\"style\": \"light\"}, \"paper_bgcolor\": \"white\", \"plot_bgcolor\": \"#E5ECF6\", \"polar\": {\"angularaxis\": {\"gridcolor\": \"white\", \"linecolor\": \"white\", \"ticks\": \"\"}, \"bgcolor\": \"#E5ECF6\", \"radialaxis\": {\"gridcolor\": \"white\", \"linecolor\": \"white\", \"ticks\": \"\"}}, \"scene\": {\"xaxis\": {\"backgroundcolor\": \"#E5ECF6\", \"gridcolor\": \"white\", \"gridwidth\": 2, \"linecolor\": \"white\", \"showbackground\": true, \"ticks\": \"\", \"zerolinecolor\": \"white\"}, \"yaxis\": {\"backgroundcolor\": \"#E5ECF6\", \"gridcolor\": \"white\", \"gridwidth\": 2, \"linecolor\": \"white\", \"showbackground\": true, \"ticks\": \"\", \"zerolinecolor\": \"white\"}, \"zaxis\": {\"backgroundcolor\": \"#E5ECF6\", \"gridcolor\": \"white\", \"gridwidth\": 2, \"linecolor\": \"white\", \"showbackground\": true, \"ticks\": \"\", \"zerolinecolor\": \"white\"}}, \"shapedefaults\": {\"line\": {\"color\": \"#2a3f5f\"}}, \"ternary\": {\"aaxis\": {\"gridcolor\": \"white\", \"linecolor\": \"white\", \"ticks\": \"\"}, \"baxis\": {\"gridcolor\": \"white\", \"linecolor\": \"white\", \"ticks\": \"\"}, \"bgcolor\": \"#E5ECF6\", \"caxis\": {\"gridcolor\": \"white\", \"linecolor\": \"white\", \"ticks\": \"\"}}, \"title\": {\"x\": 0.05}, \"xaxis\": {\"automargin\": true, \"gridcolor\": \"white\", \"linecolor\": \"white\", \"ticks\": \"\", \"title\": {\"standoff\": 15}, \"zerolinecolor\": \"white\", \"zerolinewidth\": 2}, \"yaxis\": {\"automargin\": true, \"gridcolor\": \"white\", \"linecolor\": \"white\", \"ticks\": \"\", \"title\": {\"standoff\": 15}, \"zerolinecolor\": \"white\", \"zerolinewidth\": 2}}}, \"title\": {\"text\": \"uMAP Plot for Outliers\"}, \"width\": 900, \"xaxis\": {\"anchor\": \"y\", \"domain\": [0.0, 1.0], \"title\": {\"text\": \"0\"}}, \"yaxis\": {\"anchor\": \"x\", \"domain\": [0.0, 1.0], \"title\": {\"text\": \"1\"}}},\n",
              "                        {\"responsive\": true}\n",
              "                    ).then(function(){\n",
              "                            \n",
              "var gd = document.getElementById('d00aedee-812d-4ebc-b1ef-f528e5cfb392');\n",
              "var x = new MutationObserver(function (mutations, observer) {{\n",
              "        var display = window.getComputedStyle(gd).display;\n",
              "        if (!display || display === 'none') {{\n",
              "            console.log([gd, 'removed!']);\n",
              "            Plotly.purge(gd);\n",
              "            observer.disconnect();\n",
              "        }}\n",
              "}});\n",
              "\n",
              "// Listen for the removal of the full notebook cells\n",
              "var notebookContainer = gd.closest('#notebook-container');\n",
              "if (notebookContainer) {{\n",
              "    x.observe(notebookContainer, {childList: true});\n",
              "}}\n",
              "\n",
              "// Listen for the clearing of the current output cell\n",
              "var outputEl = gd.closest('.output');\n",
              "if (outputEl) {{\n",
              "    x.observe(outputEl, {childList: true});\n",
              "}}\n",
              "\n",
              "                        })\n",
              "                };\n",
              "                \n",
              "            </script>\n",
              "        </div>\n",
              "</body>\n",
              "</html>"
            ]
          },
          "metadata": {
            "tags": []
          }
        }
      ]
    },
    {
      "cell_type": "markdown",
      "metadata": {
        "id": "RjboJsn3CD7W"
      },
      "source": [
        "**The model can be saved to your system in the form of a Pickle file**"
      ]
    },
    {
      "cell_type": "code",
      "metadata": {
        "colab": {
          "base_uri": "https://localhost:8080/"
        },
        "id": "-n0bNPZ4fuC0",
        "outputId": "3fad88e3-b7f5-459c-9ff3-0af61c29d7d0"
      },
      "source": [
        "save_model(iforest, model_name = 'abc')"
      ],
      "execution_count": null,
      "outputs": [
        {
          "output_type": "stream",
          "text": [
            "Transformation Pipeline and Model Succesfully Saved\n"
          ],
          "name": "stdout"
        },
        {
          "output_type": "execute_result",
          "data": {
            "text/plain": [
              "(Pipeline(memory=None,\n",
              "          steps=[('dtypes',\n",
              "                  DataTypes_Auto_infer(categorical_features=[],\n",
              "                                       display_types=True, features_todrop=[],\n",
              "                                       id_columns=[], ml_usecase='regression',\n",
              "                                       numerical_features=[],\n",
              "                                       target='UNSUPERVISED_DUMMY_TARGET',\n",
              "                                       time_features=[])),\n",
              "                 ('imputer',\n",
              "                  Simple_Imputer(categorical_strategy='most frequent',\n",
              "                                 fill_value_categorical=None,\n",
              "                                 fill_value_numerical=None...\n",
              "                 ('fix_perfect', 'passthrough'),\n",
              "                 ('clean_names', Clean_Colum_Names()),\n",
              "                 ('feature_select', 'passthrough'), ('fix_multi', 'passthrough'),\n",
              "                 ('dfs', 'passthrough'), ('pca', 'passthrough'),\n",
              "                 ['trained_model',\n",
              "                  IForest(behaviour='new', bootstrap=False, contamination=0.05,\n",
              "     max_features=1.0, max_samples='auto', n_estimators=100, n_jobs=-1,\n",
              "     random_state=123, verbose=0)]],\n",
              "          verbose=False), 'abc.pkl')"
            ]
          },
          "metadata": {
            "tags": []
          },
          "execution_count": 22
        }
      ]
    },
    {
      "cell_type": "markdown",
      "metadata": {
        "id": "dSotuJJ5COcT"
      },
      "source": [
        "**It can also be easily loaded using the model name given while saving**"
      ]
    },
    {
      "cell_type": "code",
      "metadata": {
        "colab": {
          "base_uri": "https://localhost:8080/"
        },
        "id": "pErBy64ZgOYx",
        "outputId": "69dd6eb7-e111-415d-a3ba-6a46018a16f8"
      },
      "source": [
        "l = load_model('abc')"
      ],
      "execution_count": null,
      "outputs": [
        {
          "output_type": "stream",
          "text": [
            "Transformation Pipeline and Model Successfully Loaded\n"
          ],
          "name": "stdout"
        }
      ]
    },
    {
      "cell_type": "code",
      "metadata": {
        "colab": {
          "base_uri": "https://localhost:8080/"
        },
        "id": "tpWQ5008gdbq",
        "outputId": "82e9f25f-efdb-4207-e2c6-fdb594bc473b"
      },
      "source": [
        "l"
      ],
      "execution_count": null,
      "outputs": [
        {
          "output_type": "execute_result",
          "data": {
            "text/plain": [
              "Pipeline(memory=None,\n",
              "         steps=[('dtypes',\n",
              "                 DataTypes_Auto_infer(categorical_features=[],\n",
              "                                      display_types=True, features_todrop=[],\n",
              "                                      id_columns=[], ml_usecase='regression',\n",
              "                                      numerical_features=[],\n",
              "                                      target='UNSUPERVISED_DUMMY_TARGET',\n",
              "                                      time_features=[])),\n",
              "                ('imputer',\n",
              "                 Simple_Imputer(categorical_strategy='most frequent',\n",
              "                                fill_value_categorical=None,\n",
              "                                fill_value_numerical=None...\n",
              "                ('fix_perfect', 'passthrough'),\n",
              "                ('clean_names', Clean_Colum_Names()),\n",
              "                ('feature_select', 'passthrough'), ('fix_multi', 'passthrough'),\n",
              "                ('dfs', 'passthrough'), ('pca', 'passthrough'),\n",
              "                ['trained_model',\n",
              "                 IForest(behaviour='new', bootstrap=False, contamination=0.05,\n",
              "    max_features=1.0, max_samples='auto', n_estimators=100, n_jobs=-1,\n",
              "    random_state=123, verbose=0)]],\n",
              "         verbose=False)"
            ]
          },
          "metadata": {
            "tags": []
          },
          "execution_count": 24
        }
      ]
    },
    {
      "cell_type": "markdown",
      "metadata": {
        "id": "yKQzO_mUCYfd"
      },
      "source": [
        "**This is a very easy step to push the model to production**"
      ]
    },
    {
      "cell_type": "code",
      "metadata": {
        "colab": {
          "base_uri": "https://localhost:8080/",
          "height": 213
        },
        "id": "264Gw6fGge2W",
        "outputId": "a5b16dcb-961f-45ee-cf4f-890b464b2548"
      },
      "source": [
        "from pycaret.anomaly import load_model, predict_model\r\n",
        "l = load_model('abc')\r\n",
        "p = predict_model(l, data = data)\r\n",
        "p.head()"
      ],
      "execution_count": null,
      "outputs": [
        {
          "output_type": "stream",
          "text": [
            "Transformation Pipeline and Model Successfully Loaded\n"
          ],
          "name": "stdout"
        },
        {
          "output_type": "execute_result",
          "data": {
            "text/html": [
              "<div>\n",
              "<style scoped>\n",
              "    .dataframe tbody tr th:only-of-type {\n",
              "        vertical-align: middle;\n",
              "    }\n",
              "\n",
              "    .dataframe tbody tr th {\n",
              "        vertical-align: top;\n",
              "    }\n",
              "\n",
              "    .dataframe thead th {\n",
              "        text-align: right;\n",
              "    }\n",
              "</style>\n",
              "<table border=\"1\" class=\"dataframe\">\n",
              "  <thead>\n",
              "    <tr style=\"text-align: right;\">\n",
              "      <th></th>\n",
              "      <th>Col1</th>\n",
              "      <th>Col2</th>\n",
              "      <th>Col3</th>\n",
              "      <th>Col4</th>\n",
              "      <th>Col5</th>\n",
              "      <th>Col6</th>\n",
              "      <th>Col7</th>\n",
              "      <th>Col8</th>\n",
              "      <th>Col9</th>\n",
              "      <th>Col10</th>\n",
              "      <th>Anomaly</th>\n",
              "      <th>Anomaly_Score</th>\n",
              "    </tr>\n",
              "  </thead>\n",
              "  <tbody>\n",
              "    <tr>\n",
              "      <th>0</th>\n",
              "      <td>0.263995</td>\n",
              "      <td>0.764929</td>\n",
              "      <td>0.138424</td>\n",
              "      <td>0.935242</td>\n",
              "      <td>0.605867</td>\n",
              "      <td>0.518790</td>\n",
              "      <td>0.912225</td>\n",
              "      <td>0.608234</td>\n",
              "      <td>0.723782</td>\n",
              "      <td>0.733591</td>\n",
              "      <td>0</td>\n",
              "      <td>-0.035865</td>\n",
              "    </tr>\n",
              "    <tr>\n",
              "      <th>1</th>\n",
              "      <td>0.546092</td>\n",
              "      <td>0.653975</td>\n",
              "      <td>0.065575</td>\n",
              "      <td>0.227772</td>\n",
              "      <td>0.845269</td>\n",
              "      <td>0.837066</td>\n",
              "      <td>0.272379</td>\n",
              "      <td>0.331679</td>\n",
              "      <td>0.429297</td>\n",
              "      <td>0.367422</td>\n",
              "      <td>0</td>\n",
              "      <td>-0.084927</td>\n",
              "    </tr>\n",
              "    <tr>\n",
              "      <th>2</th>\n",
              "      <td>0.336714</td>\n",
              "      <td>0.538842</td>\n",
              "      <td>0.192801</td>\n",
              "      <td>0.553563</td>\n",
              "      <td>0.074515</td>\n",
              "      <td>0.332993</td>\n",
              "      <td>0.365792</td>\n",
              "      <td>0.861309</td>\n",
              "      <td>0.899017</td>\n",
              "      <td>0.088600</td>\n",
              "      <td>1</td>\n",
              "      <td>0.025356</td>\n",
              "    </tr>\n",
              "    <tr>\n",
              "      <th>3</th>\n",
              "      <td>0.092108</td>\n",
              "      <td>0.995017</td>\n",
              "      <td>0.014465</td>\n",
              "      <td>0.176371</td>\n",
              "      <td>0.241530</td>\n",
              "      <td>0.514724</td>\n",
              "      <td>0.562208</td>\n",
              "      <td>0.158963</td>\n",
              "      <td>0.073715</td>\n",
              "      <td>0.208463</td>\n",
              "      <td>1</td>\n",
              "      <td>0.042415</td>\n",
              "    </tr>\n",
              "    <tr>\n",
              "      <th>4</th>\n",
              "      <td>0.325261</td>\n",
              "      <td>0.805968</td>\n",
              "      <td>0.957033</td>\n",
              "      <td>0.331665</td>\n",
              "      <td>0.307923</td>\n",
              "      <td>0.355315</td>\n",
              "      <td>0.501899</td>\n",
              "      <td>0.558449</td>\n",
              "      <td>0.885169</td>\n",
              "      <td>0.182754</td>\n",
              "      <td>0</td>\n",
              "      <td>-0.023408</td>\n",
              "    </tr>\n",
              "  </tbody>\n",
              "</table>\n",
              "</div>"
            ],
            "text/plain": [
              "       Col1      Col2      Col3  ...     Col10  Anomaly  Anomaly_Score\n",
              "0  0.263995  0.764929  0.138424  ...  0.733591        0      -0.035865\n",
              "1  0.546092  0.653975  0.065575  ...  0.367422        0      -0.084927\n",
              "2  0.336714  0.538842  0.192801  ...  0.088600        1       0.025356\n",
              "3  0.092108  0.995017  0.014465  ...  0.208463        1       0.042415\n",
              "4  0.325261  0.805968  0.957033  ...  0.182754        0      -0.023408\n",
              "\n",
              "[5 rows x 12 columns]"
            ]
          },
          "metadata": {
            "tags": []
          },
          "execution_count": 25
        }
      ]
    },
    {
      "cell_type": "markdown",
      "metadata": {
        "id": "YOeqUIYKCdrN"
      },
      "source": [
        "**You can also view the Pipeline and check the features in every step using set_config**"
      ]
    },
    {
      "cell_type": "code",
      "metadata": {
        "id": "VvuaYEr2gztz"
      },
      "source": [
        "from sklearn import set_config\r\n",
        "set_config(display = 'diagram')"
      ],
      "execution_count": null,
      "outputs": []
    },
    {
      "cell_type": "code",
      "metadata": {
        "colab": {
          "base_uri": "https://localhost:8080/",
          "height": 894
        },
        "id": "OYsWsaNdhKva",
        "outputId": "548fb82c-dfed-472d-b748-25ebec7e3636"
      },
      "source": [
        "l"
      ],
      "execution_count": null,
      "outputs": [
        {
          "output_type": "execute_result",
          "data": {
            "text/html": [
              "<style>div.sk-top-container {color: black;background-color: white;}div.sk-toggleable {background-color: white;}label.sk-toggleable__label {cursor: pointer;display: block;width: 100%;margin-bottom: 0;padding: 0.2em 0.3em;box-sizing: border-box;text-align: center;}div.sk-toggleable__content {max-height: 0;max-width: 0;overflow: hidden;text-align: left;background-color: #f0f8ff;}div.sk-toggleable__content pre {margin: 0.2em;color: black;border-radius: 0.25em;background-color: #f0f8ff;}input.sk-toggleable__control:checked~div.sk-toggleable__content {max-height: 200px;max-width: 100%;overflow: auto;}div.sk-estimator input.sk-toggleable__control:checked~label.sk-toggleable__label {background-color: #d4ebff;}div.sk-label input.sk-toggleable__control:checked~label.sk-toggleable__label {background-color: #d4ebff;}input.sk-hidden--visually {border: 0;clip: rect(1px 1px 1px 1px);clip: rect(1px, 1px, 1px, 1px);height: 1px;margin: -1px;overflow: hidden;padding: 0;position: absolute;width: 1px;}div.sk-estimator {font-family: monospace;background-color: #f0f8ff;margin: 0.25em 0.25em;border: 1px dotted black;border-radius: 0.25em;box-sizing: border-box;}div.sk-estimator:hover {background-color: #d4ebff;}div.sk-parallel-item::after {content: \"\";width: 100%;border-bottom: 1px solid gray;flex-grow: 1;}div.sk-label:hover label.sk-toggleable__label {background-color: #d4ebff;}div.sk-serial::before {content: \"\";position: absolute;border-left: 1px solid gray;box-sizing: border-box;top: 2em;bottom: 0;left: 50%;}div.sk-serial {display: flex;flex-direction: column;align-items: center;background-color: white;}div.sk-item {z-index: 1;}div.sk-parallel {display: flex;align-items: stretch;justify-content: center;background-color: white;}div.sk-parallel-item {display: flex;flex-direction: column;position: relative;background-color: white;}div.sk-parallel-item:first-child::after {align-self: flex-end;width: 50%;}div.sk-parallel-item:last-child::after {align-self: flex-start;width: 50%;}div.sk-parallel-item:only-child::after {width: 0;}div.sk-dashed-wrapped {border: 1px dashed gray;margin: 0.2em;box-sizing: border-box;padding-bottom: 0.1em;background-color: white;position: relative;}div.sk-label label {font-family: monospace;font-weight: bold;background-color: white;display: inline-block;line-height: 1.2em;}div.sk-label-container {position: relative;z-index: 2;text-align: center;}div.sk-container {display: inline-block;position: relative;}</style><div class=\"sk-top-container\"><div class=\"sk-container\"><div class=\"sk-item sk-dashed-wrapped\"><div class=\"sk-label-container\"><div class=\"sk-label sk-toggleable\"><input class=\"sk-toggleable__control sk-hidden--visually\" id=\"5a4f0334-4b31-4451-8a9b-dfc976db1fe4\" type=\"checkbox\" ><label class=\"sk-toggleable__label\" for=\"5a4f0334-4b31-4451-8a9b-dfc976db1fe4\">Pipeline</label><div class=\"sk-toggleable__content\"><pre>Pipeline(memory=None,\n",
              "         steps=[('dtypes',\n",
              "                 DataTypes_Auto_infer(categorical_features=[],\n",
              "                                      display_types=True, features_todrop=[],\n",
              "                                      id_columns=[], ml_usecase='regression',\n",
              "                                      numerical_features=[],\n",
              "                                      target='UNSUPERVISED_DUMMY_TARGET',\n",
              "                                      time_features=[])),\n",
              "                ('imputer',\n",
              "                 Simple_Imputer(categorical_strategy='most frequent',\n",
              "                                fill_value_categorical=None,\n",
              "                                fill_value_numerical=None...\n",
              "                ('fix_perfect', 'passthrough'),\n",
              "                ('clean_names', Clean_Colum_Names()),\n",
              "                ('feature_select', 'passthrough'), ('fix_multi', 'passthrough'),\n",
              "                ('dfs', 'passthrough'), ('pca', 'passthrough'),\n",
              "                ['trained_model',\n",
              "                 IForest(behaviour='new', bootstrap=False, contamination=0.05,\n",
              "    max_features=1.0, max_samples='auto', n_estimators=100, n_jobs=-1,\n",
              "    random_state=123, verbose=0)]],\n",
              "         verbose=False)</pre></div></div></div><div class=\"sk-serial\"><div class=\"sk-item\"><div class=\"sk-estimator sk-toggleable\"><input class=\"sk-toggleable__control sk-hidden--visually\" id=\"f467abc8-63e1-42f0-b682-b0ccbe3cd4ee\" type=\"checkbox\" ><label class=\"sk-toggleable__label\" for=\"f467abc8-63e1-42f0-b682-b0ccbe3cd4ee\">DataTypes_Auto_infer</label><div class=\"sk-toggleable__content\"><pre>DataTypes_Auto_infer(ml_usecase='regression',\n",
              "                     target='UNSUPERVISED_DUMMY_TARGET')</pre></div></div></div><div class=\"sk-item\"><div class=\"sk-estimator sk-toggleable\"><input class=\"sk-toggleable__control sk-hidden--visually\" id=\"dfb83aca-108b-4bda-84e0-501d2d1fc508\" type=\"checkbox\" ><label class=\"sk-toggleable__label\" for=\"dfb83aca-108b-4bda-84e0-501d2d1fc508\">Simple_Imputer</label><div class=\"sk-toggleable__content\"><pre>Simple_Imputer(categorical_strategy='most frequent',\n",
              "               fill_value_categorical=None, fill_value_numerical=None,\n",
              "               numeric_strategy='mean', target_variable=None)</pre></div></div></div><div class=\"sk-item\"><div class=\"sk-estimator sk-toggleable\"><input class=\"sk-toggleable__control sk-hidden--visually\" id=\"4d45fdf0-30b8-495c-a343-13129296ea3f\" type=\"checkbox\" ><label class=\"sk-toggleable__label\" for=\"4d45fdf0-30b8-495c-a343-13129296ea3f\">New_Catagorical_Levels_in_TestData</label><div class=\"sk-toggleable__content\"><pre>New_Catagorical_Levels_in_TestData(replacement_strategy='least frequent',\n",
              "                                   target='UNSUPERVISED_DUMMY_TARGET')</pre></div></div></div><div class=\"sk-item\"><div class=\"sk-estimator sk-toggleable\"><input class=\"sk-toggleable__control sk-hidden--visually\" id=\"1846d420-6691-46c2-bca3-f90ffcb4b94d\" type=\"checkbox\" ><label class=\"sk-toggleable__label\" for=\"1846d420-6691-46c2-bca3-f90ffcb4b94d\">passthrough</label><div class=\"sk-toggleable__content\"><pre>passthrough</pre></div></div></div><div class=\"sk-item\"><div class=\"sk-estimator sk-toggleable\"><input class=\"sk-toggleable__control sk-hidden--visually\" id=\"ff6166a8-27ef-4d4a-aa26-4dc50c8126fd\" type=\"checkbox\" ><label class=\"sk-toggleable__label\" for=\"ff6166a8-27ef-4d4a-aa26-4dc50c8126fd\">passthrough</label><div class=\"sk-toggleable__content\"><pre>passthrough</pre></div></div></div><div class=\"sk-item\"><div class=\"sk-estimator sk-toggleable\"><input class=\"sk-toggleable__control sk-hidden--visually\" id=\"ff75da47-0c6b-41da-af4f-6b152d5947c3\" type=\"checkbox\" ><label class=\"sk-toggleable__label\" for=\"ff75da47-0c6b-41da-af4f-6b152d5947c3\">passthrough</label><div class=\"sk-toggleable__content\"><pre>passthrough</pre></div></div></div><div class=\"sk-item\"><div class=\"sk-estimator sk-toggleable\"><input class=\"sk-toggleable__control sk-hidden--visually\" id=\"f8cdc01d-2ddf-4120-8747-a2f1019b5239\" type=\"checkbox\" ><label class=\"sk-toggleable__label\" for=\"f8cdc01d-2ddf-4120-8747-a2f1019b5239\">passthrough</label><div class=\"sk-toggleable__content\"><pre>passthrough</pre></div></div></div><div class=\"sk-item\"><div class=\"sk-estimator sk-toggleable\"><input class=\"sk-toggleable__control sk-hidden--visually\" id=\"dfe649d8-49e5-4816-b268-003c5dbf6fd7\" type=\"checkbox\" ><label class=\"sk-toggleable__label\" for=\"dfe649d8-49e5-4816-b268-003c5dbf6fd7\">New_Catagorical_Levels_in_TestData</label><div class=\"sk-toggleable__content\"><pre>New_Catagorical_Levels_in_TestData(replacement_strategy='least frequent',\n",
              "                                   target='UNSUPERVISED_DUMMY_TARGET')</pre></div></div></div><div class=\"sk-item\"><div class=\"sk-estimator sk-toggleable\"><input class=\"sk-toggleable__control sk-hidden--visually\" id=\"0e5e9a65-c6be-4c02-93f9-e80bc88686e5\" type=\"checkbox\" ><label class=\"sk-toggleable__label\" for=\"0e5e9a65-c6be-4c02-93f9-e80bc88686e5\">Make_Time_Features</label><div class=\"sk-toggleable__content\"><pre>Make_Time_Features(list_of_features=None,\n",
              "                   time_feature=Index([], dtype='object'))</pre></div></div></div><div class=\"sk-item\"><div class=\"sk-estimator sk-toggleable\"><input class=\"sk-toggleable__control sk-hidden--visually\" id=\"17249c1b-f92d-4490-b949-d5b6e0196566\" type=\"checkbox\" ><label class=\"sk-toggleable__label\" for=\"17249c1b-f92d-4490-b949-d5b6e0196566\">passthrough</label><div class=\"sk-toggleable__content\"><pre>passthrough</pre></div></div></div><div class=\"sk-item\"><div class=\"sk-estimator sk-toggleable\"><input class=\"sk-toggleable__control sk-hidden--visually\" id=\"456a2458-e1a7-4a62-9b65-8cb05fcb877c\" type=\"checkbox\" ><label class=\"sk-toggleable__label\" for=\"456a2458-e1a7-4a62-9b65-8cb05fcb877c\">passthrough</label><div class=\"sk-toggleable__content\"><pre>passthrough</pre></div></div></div><div class=\"sk-item\"><div class=\"sk-estimator sk-toggleable\"><input class=\"sk-toggleable__control sk-hidden--visually\" id=\"00fad5f4-21cc-444a-8b1c-e80a1201ffd1\" type=\"checkbox\" ><label class=\"sk-toggleable__label\" for=\"00fad5f4-21cc-444a-8b1c-e80a1201ffd1\">passthrough</label><div class=\"sk-toggleable__content\"><pre>passthrough</pre></div></div></div><div class=\"sk-item\"><div class=\"sk-estimator sk-toggleable\"><input class=\"sk-toggleable__control sk-hidden--visually\" id=\"bab9e66c-154f-4dcc-b420-b1ea07319bdb\" type=\"checkbox\" ><label class=\"sk-toggleable__label\" for=\"bab9e66c-154f-4dcc-b420-b1ea07319bdb\">passthrough</label><div class=\"sk-toggleable__content\"><pre>passthrough</pre></div></div></div><div class=\"sk-item\"><div class=\"sk-estimator sk-toggleable\"><input class=\"sk-toggleable__control sk-hidden--visually\" id=\"6e970b85-bb06-49d0-b08c-25953b50d1b2\" type=\"checkbox\" ><label class=\"sk-toggleable__label\" for=\"6e970b85-bb06-49d0-b08c-25953b50d1b2\">passthrough</label><div class=\"sk-toggleable__content\"><pre>passthrough</pre></div></div></div><div class=\"sk-item\"><div class=\"sk-estimator sk-toggleable\"><input class=\"sk-toggleable__control sk-hidden--visually\" id=\"7990cfb3-95ad-448c-8246-4a84fac42b57\" type=\"checkbox\" ><label class=\"sk-toggleable__label\" for=\"7990cfb3-95ad-448c-8246-4a84fac42b57\">passthrough</label><div class=\"sk-toggleable__content\"><pre>passthrough</pre></div></div></div><div class=\"sk-item\"><div class=\"sk-estimator sk-toggleable\"><input class=\"sk-toggleable__control sk-hidden--visually\" id=\"0cbf6595-ab76-470d-99a3-1fb91afeeb48\" type=\"checkbox\" ><label class=\"sk-toggleable__label\" for=\"0cbf6595-ab76-470d-99a3-1fb91afeeb48\">passthrough</label><div class=\"sk-toggleable__content\"><pre>passthrough</pre></div></div></div><div class=\"sk-item\"><div class=\"sk-estimator sk-toggleable\"><input class=\"sk-toggleable__control sk-hidden--visually\" id=\"d293ecb5-a021-4eea-81a2-e4b3d2b97b88\" type=\"checkbox\" ><label class=\"sk-toggleable__label\" for=\"d293ecb5-a021-4eea-81a2-e4b3d2b97b88\">Dummify</label><div class=\"sk-toggleable__content\"><pre>Dummify(target='UNSUPERVISED_DUMMY_TARGET')</pre></div></div></div><div class=\"sk-item\"><div class=\"sk-estimator sk-toggleable\"><input class=\"sk-toggleable__control sk-hidden--visually\" id=\"fafb7bc4-8a65-4136-8ff0-b9cfbae024c7\" type=\"checkbox\" ><label class=\"sk-toggleable__label\" for=\"fafb7bc4-8a65-4136-8ff0-b9cfbae024c7\">passthrough</label><div class=\"sk-toggleable__content\"><pre>passthrough</pre></div></div></div><div class=\"sk-item\"><div class=\"sk-estimator sk-toggleable\"><input class=\"sk-toggleable__control sk-hidden--visually\" id=\"08fc24ce-d8e1-4b38-a0b3-84d10375f256\" type=\"checkbox\" ><label class=\"sk-toggleable__label\" for=\"08fc24ce-d8e1-4b38-a0b3-84d10375f256\">Clean_Colum_Names</label><div class=\"sk-toggleable__content\"><pre>Clean_Colum_Names()</pre></div></div></div><div class=\"sk-item\"><div class=\"sk-estimator sk-toggleable\"><input class=\"sk-toggleable__control sk-hidden--visually\" id=\"b3f214ed-4de2-4e69-a44a-acd6babd637c\" type=\"checkbox\" ><label class=\"sk-toggleable__label\" for=\"b3f214ed-4de2-4e69-a44a-acd6babd637c\">passthrough</label><div class=\"sk-toggleable__content\"><pre>passthrough</pre></div></div></div><div class=\"sk-item\"><div class=\"sk-estimator sk-toggleable\"><input class=\"sk-toggleable__control sk-hidden--visually\" id=\"30264878-2382-44fa-b634-2c06aaf3ea9d\" type=\"checkbox\" ><label class=\"sk-toggleable__label\" for=\"30264878-2382-44fa-b634-2c06aaf3ea9d\">passthrough</label><div class=\"sk-toggleable__content\"><pre>passthrough</pre></div></div></div><div class=\"sk-item\"><div class=\"sk-estimator sk-toggleable\"><input class=\"sk-toggleable__control sk-hidden--visually\" id=\"03a7ffaa-fd3d-4116-becb-47efde83d1c2\" type=\"checkbox\" ><label class=\"sk-toggleable__label\" for=\"03a7ffaa-fd3d-4116-becb-47efde83d1c2\">passthrough</label><div class=\"sk-toggleable__content\"><pre>passthrough</pre></div></div></div><div class=\"sk-item\"><div class=\"sk-estimator sk-toggleable\"><input class=\"sk-toggleable__control sk-hidden--visually\" id=\"e5558574-6839-4f14-b350-737ec47e74ed\" type=\"checkbox\" ><label class=\"sk-toggleable__label\" for=\"e5558574-6839-4f14-b350-737ec47e74ed\">passthrough</label><div class=\"sk-toggleable__content\"><pre>passthrough</pre></div></div></div><div class=\"sk-item\"><div class=\"sk-estimator sk-toggleable\"><input class=\"sk-toggleable__control sk-hidden--visually\" id=\"143d3887-7ccf-4153-a58d-a5e742100013\" type=\"checkbox\" ><label class=\"sk-toggleable__label\" for=\"143d3887-7ccf-4153-a58d-a5e742100013\">IForest</label><div class=\"sk-toggleable__content\"><pre>IForest(behaviour='new', bootstrap=False, contamination=0.05,\n",
              "    max_features=1.0, max_samples='auto', n_estimators=100, n_jobs=-1,\n",
              "    random_state=123, verbose=0)</pre></div></div></div></div></div></div></div>"
            ],
            "text/plain": [
              "Pipeline(memory=None,\n",
              "         steps=[('dtypes',\n",
              "                 DataTypes_Auto_infer(categorical_features=[],\n",
              "                                      display_types=True, features_todrop=[],\n",
              "                                      id_columns=[], ml_usecase='regression',\n",
              "                                      numerical_features=[],\n",
              "                                      target='UNSUPERVISED_DUMMY_TARGET',\n",
              "                                      time_features=[])),\n",
              "                ('imputer',\n",
              "                 Simple_Imputer(categorical_strategy='most frequent',\n",
              "                                fill_value_categorical=None,\n",
              "                                fill_value_numerical=None...\n",
              "                ('fix_perfect', 'passthrough'),\n",
              "                ('clean_names', Clean_Colum_Names()),\n",
              "                ('feature_select', 'passthrough'), ('fix_multi', 'passthrough'),\n",
              "                ('dfs', 'passthrough'), ('pca', 'passthrough'),\n",
              "                ['trained_model',\n",
              "                 IForest(behaviour='new', bootstrap=False, contamination=0.05,\n",
              "    max_features=1.0, max_samples='auto', n_estimators=100, n_jobs=-1,\n",
              "    random_state=123, verbose=0)]],\n",
              "         verbose=False)"
            ]
          },
          "metadata": {
            "tags": []
          },
          "execution_count": 27
        }
      ]
    },
    {
      "cell_type": "markdown",
      "metadata": {
        "id": "_v9t2E0UCsXW"
      },
      "source": [
        "**Different fractions shall give an equivalent level of anomalies and scores respectively**"
      ]
    },
    {
      "cell_type": "code",
      "metadata": {
        "colab": {
          "base_uri": "https://localhost:8080/",
          "height": 196,
          "referenced_widgets": [
            "8d8e89b90dc848ad8f2ee207ea008312",
            "48cdc51c5e4b444eb58ee55882b6bda8",
            "bec73fada6864b16865d2b9f3bc8a2e5"
          ]
        },
        "id": "7HBcQmjchLRB",
        "outputId": "4922c60f-c2e9-468e-ae2a-e1a182a8adc6"
      },
      "source": [
        "iforest = create_model('iforest', fraction = 0.05)\r\n",
        "results = assign_model(iforest)\r\n",
        "results.head()"
      ],
      "execution_count": null,
      "outputs": [
        {
          "output_type": "execute_result",
          "data": {
            "text/html": [
              "<div>\n",
              "<style scoped>\n",
              "    .dataframe tbody tr th:only-of-type {\n",
              "        vertical-align: middle;\n",
              "    }\n",
              "\n",
              "    .dataframe tbody tr th {\n",
              "        vertical-align: top;\n",
              "    }\n",
              "\n",
              "    .dataframe thead th {\n",
              "        text-align: right;\n",
              "    }\n",
              "</style>\n",
              "<table border=\"1\" class=\"dataframe\">\n",
              "  <thead>\n",
              "    <tr style=\"text-align: right;\">\n",
              "      <th></th>\n",
              "      <th>Col1</th>\n",
              "      <th>Col2</th>\n",
              "      <th>Col3</th>\n",
              "      <th>Col4</th>\n",
              "      <th>Col5</th>\n",
              "      <th>Col6</th>\n",
              "      <th>Col7</th>\n",
              "      <th>Col8</th>\n",
              "      <th>Col9</th>\n",
              "      <th>Col10</th>\n",
              "      <th>Anomaly</th>\n",
              "      <th>Anomaly_Score</th>\n",
              "    </tr>\n",
              "  </thead>\n",
              "  <tbody>\n",
              "    <tr>\n",
              "      <th>0</th>\n",
              "      <td>0.263995</td>\n",
              "      <td>0.764929</td>\n",
              "      <td>0.138424</td>\n",
              "      <td>0.935242</td>\n",
              "      <td>0.605867</td>\n",
              "      <td>0.518790</td>\n",
              "      <td>0.912225</td>\n",
              "      <td>0.608234</td>\n",
              "      <td>0.723782</td>\n",
              "      <td>0.733591</td>\n",
              "      <td>0</td>\n",
              "      <td>-0.035865</td>\n",
              "    </tr>\n",
              "    <tr>\n",
              "      <th>1</th>\n",
              "      <td>0.546092</td>\n",
              "      <td>0.653975</td>\n",
              "      <td>0.065575</td>\n",
              "      <td>0.227772</td>\n",
              "      <td>0.845269</td>\n",
              "      <td>0.837066</td>\n",
              "      <td>0.272379</td>\n",
              "      <td>0.331679</td>\n",
              "      <td>0.429297</td>\n",
              "      <td>0.367422</td>\n",
              "      <td>0</td>\n",
              "      <td>-0.084927</td>\n",
              "    </tr>\n",
              "    <tr>\n",
              "      <th>2</th>\n",
              "      <td>0.336714</td>\n",
              "      <td>0.538842</td>\n",
              "      <td>0.192801</td>\n",
              "      <td>0.553563</td>\n",
              "      <td>0.074515</td>\n",
              "      <td>0.332993</td>\n",
              "      <td>0.365792</td>\n",
              "      <td>0.861309</td>\n",
              "      <td>0.899017</td>\n",
              "      <td>0.088600</td>\n",
              "      <td>1</td>\n",
              "      <td>0.025356</td>\n",
              "    </tr>\n",
              "    <tr>\n",
              "      <th>3</th>\n",
              "      <td>0.092108</td>\n",
              "      <td>0.995017</td>\n",
              "      <td>0.014465</td>\n",
              "      <td>0.176371</td>\n",
              "      <td>0.241530</td>\n",
              "      <td>0.514724</td>\n",
              "      <td>0.562208</td>\n",
              "      <td>0.158963</td>\n",
              "      <td>0.073715</td>\n",
              "      <td>0.208463</td>\n",
              "      <td>1</td>\n",
              "      <td>0.042415</td>\n",
              "    </tr>\n",
              "    <tr>\n",
              "      <th>4</th>\n",
              "      <td>0.325261</td>\n",
              "      <td>0.805968</td>\n",
              "      <td>0.957033</td>\n",
              "      <td>0.331665</td>\n",
              "      <td>0.307923</td>\n",
              "      <td>0.355315</td>\n",
              "      <td>0.501899</td>\n",
              "      <td>0.558449</td>\n",
              "      <td>0.885169</td>\n",
              "      <td>0.182754</td>\n",
              "      <td>0</td>\n",
              "      <td>-0.023408</td>\n",
              "    </tr>\n",
              "  </tbody>\n",
              "</table>\n",
              "</div>"
            ],
            "text/plain": [
              "       Col1      Col2      Col3  ...     Col10  Anomaly  Anomaly_Score\n",
              "0  0.263995  0.764929  0.138424  ...  0.733591        0      -0.035865\n",
              "1  0.546092  0.653975  0.065575  ...  0.367422        0      -0.084927\n",
              "2  0.336714  0.538842  0.192801  ...  0.088600        1       0.025356\n",
              "3  0.092108  0.995017  0.014465  ...  0.208463        1       0.042415\n",
              "4  0.325261  0.805968  0.957033  ...  0.182754        0      -0.023408\n",
              "\n",
              "[5 rows x 12 columns]"
            ]
          },
          "metadata": {
            "tags": []
          },
          "execution_count": 32
        }
      ]
    },
    {
      "cell_type": "code",
      "metadata": {
        "colab": {
          "base_uri": "https://localhost:8080/",
          "height": 390
        },
        "id": "cZ-x69-YijME",
        "outputId": "eabc7258-3e57-4206-c224-e5da5d53b82b"
      },
      "source": [
        "results.Anomaly_Score.hist(bins = 100, figsize = (10, 6))"
      ],
      "execution_count": null,
      "outputs": [
        {
          "output_type": "execute_result",
          "data": {
            "text/plain": [
              "<matplotlib.axes._subplots.AxesSubplot at 0x7f89ce395790>"
            ]
          },
          "metadata": {
            "tags": []
          },
          "execution_count": 35
        },
        {
          "output_type": "display_data",
          "data": {
            "image/png": "[encoded data removed]",
            "text/plain": [
              "<Figure size 720x432 with 1 Axes>"
            ]
          },
          "metadata": {
            "tags": []
          }
        }
      ]
    }
  ]
}